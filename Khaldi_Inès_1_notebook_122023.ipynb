{
 "cells": [
  {
   "attachments": {
    "Capture%20d%E2%80%99e%CC%81cran%202023-11-25%20a%CC%80%2003.17.54.png": {
     "image/png": "[encoded data removed]"
    }
   },
   "cell_type": "markdown",
   "id": "2aade623",
   "metadata": {},
   "source": [
    "![Capture%20d%E2%80%99e%CC%81cran%202023-11-25%20a%CC%80%2003.17.54.png](attachment:Capture%20d%E2%80%99e%CC%81cran%202023-11-25%20a%CC%80%2003.17.54.png)"
   ]
  },
  {
   "cell_type": "markdown",
   "id": "7f7a33e0",
   "metadata": {},
   "source": [
    "<div>\n",
    "<p> <h1 style='margin: auto; padding: 20px; color: RGB(173,40,59); text-align: center; '>Optimiser la gestion des données d'une boutique</h1>\n",
    "<h2 style=\"margin: auto; padding: 0px ; color: RGB(29,29,27); text-align: center\">Inès KHALDI - Data Analyst - OC 2023\n",
    "</h2> </p>\n",
    "</div>"
   ]
  },
  {
   "cell_type": "markdown",
   "id": "9e2ef2f4",
   "metadata": {},
   "source": [
    "---"
   ]
  },
  {
   "cell_type": "markdown",
   "id": "c8160640",
   "metadata": {},
   "source": [
    "<div>\n",
    "<h1 style='padding: 20px; color: RGB(173,40,59); text-align: left; '>Introduction</h1>"
   ]
  },
  {
   "cell_type": "markdown",
   "id": "1139cea7",
   "metadata": {},
   "source": [
    "Bottleneck souhaite améliorer la gestion de ses ventes de vins en ligne et ainsi mieux les analyser. En attendant de trouver une solution centralisée pour lier l'ERP et le site de vente en ligne, nous allons réaliser un rapprochement entre ces 2 bases.\n",
    "\n",
    "Nous disposons de 3 fichiers Excel : \n",
    "- Le fichier ERP : contient les références produits, les prix de ventes et l'état des stocks\n",
    "- Le fichier WEB : l'outil de CMS qui contient les informations des produits vendus en ligne (nombre de ventes pas produit)\n",
    "- Le fichier LIAISON : établit le lien entre la référence du produit du fichier ERP et celle du fichier WEB. \n",
    "\n",
    "\n",
    "Pour cela, notre mission se décompose en 4 étapes : \n",
    "\n",
    "**1.** Une analyse exploratoire et un nettoyage des données des 3 fichiers disponibles\n",
    "\n",
    "**2.** La création d'un dataframe global en rapprochant les 3 fichiers  \n",
    "\n",
    "**3.** Une analyse des ventes \n",
    "\n",
    "**4.** Vérification des erreurs de saisie de prix (outliers)\n"
   ]
  },
  {
   "cell_type": "markdown",
   "id": "e166c67e",
   "metadata": {},
   "source": [
    "---"
   ]
  },
  {
   "cell_type": "markdown",
   "id": "c43820fe",
   "metadata": {
    "heading_collapsed": true
   },
   "source": [
    "# <div>\n",
    "<h1 style='padding: 20px; color: RGB(173,40,59); text-align: left; '>Sommaire</h1>"
   ]
  },
  {
   "cell_type": "markdown",
   "id": "5adf0281",
   "metadata": {
    "hidden": true
   },
   "source": [
    "* [I. Importation des librairies](#I.-importation-des-librairies)\n",
    "\n",
    "* [II. Analyse exploratoire et nettoyage des données](#II.-analyse-exploratoire-et-nettoyage-des-donnees)\n",
    "    * [2.1 Dataframe ERP](#2.1-dataframe-erp)\n",
    "        * [2.1.1 Analyse exploratoire](#2.1.1-analyse-exploratoire)\n",
    "        * [2.1.2 Nettoyage des données](#2.1.2-nettoyage-des-donnees)\n",
    "            * [a. Erreurs de type des variables](#a.-erreurs-de-type-des-variables)\n",
    "            * [b. Valeurs manquantes](#b.-valeurs-manquantes)\n",
    "            * [c. Doublons](#c.-doublons) \n",
    "            * [d. Détection des outliers](#d.-detection-des-outliers)\n",
    "        * [2.1.3 Description du df ERP](#2.1.3-description-du-df-erp)\n",
    "    * [2.2 Dataframe WEB](#2.2-dataframe-web)\n",
    "        * [2.2.1 Analyse exploratoire](#2.2.1-analyse-exploratoire)\n",
    "        * [2.2.2 Nettoyage des données](#2.2.2-nettoyage-des-donnees)\n",
    "            * [a. Erreurs de type des variables](#a.-erreurs-de-type-des-variables)\n",
    "            * [b. Valeurs manquantes](#b.-valeurs-manquantes)\n",
    "            * [c. Doublons](#c.-doublons)\n",
    "            * [d. Détection des outliers](#d.-detection-des-outliers)\n",
    "        * [2.2.3 Description du df WEB](#2.2.3-description-du-df-web)\n",
    "    * [2.3 Dataframe LIAISON](#2.3-dataframe-liaison)\n",
    "        * [2.3.1 Analyse exploratoire](#2.3.1-analyse-exploratoire)\n",
    "        * [2.3.2 Nettoyage des données](#2.3.2-nettoyage-des-donnees)\n",
    "            * [a. Erreurs de type des variables](#a.-erreurs-de-type-des-variables)\n",
    "            * [b. Valeurs manquantes](#b.-valeurs-manquantes)\n",
    "            * [c. Doublons](#c.-doublons)\n",
    "            * [d. Changement du nom de la colonne 'id_web'](#d.-changement-du-nom-de-la-colonne-id-web-)\n",
    "            * [e. Détection des outliers](#e.-detection-des-outliers)\n",
    "        * [2.3.3 Description du df LIAISON](#2.3.3-description-du-df-liaison)\n",
    "            \n",
    "* [III. Création d'un dataframe global](#III.-creation-d-un-dataframe-global)\n",
    "    * [3.1 Choix des clés primaires et test d'unicité](#3.1-choix-des-cles-primaires-et-test-d-unicite)\n",
    "    * [3.2 Jointure externe entre les fichiers ERP, LIAISON et WEB](#3.2-jointure-externe-entre-les-fichiers-erp,-liaison-et-web)\n",
    "        * [3.2.1 Jointure entre les df ERP et LIAISON](#3.2.1-jointure-entre-les-df-erp-et-liaison)\n",
    "            * [a. Analyse de la jointure](#a.-analyse-de-la-jointure)\n",
    "        * [3.2.2 Jointure entre les df DF1 et WEB](#3.2.2-jointure-entre-les-df-df1-et-web)\n",
    "            * [a. Analyse de la jointure](#a.-analyse-de-la-jointure)\n",
    "        * [3.2.3 Nettoyage du dataframe GLOBAL](#3.2.3-nettoyage-du-dataframe-global)\n",
    "\n",
    "* [IV. Analyse du dataframe global](#IV.-analyse-du-dataframe-global)\n",
    "    * [4.1 Analyse du chiffre d'affaires](#4.1-analyse-du-chiffre-d-affaires)\n",
    "        * [4.1.1 CA par produit](#4.1.1-ca-par-produit)\n",
    "            * [a. Visualisations](#a.-visualisations)\n",
    "        * [4.1.2 CA total réalisé en ligne](#4.1.2-ca-total-realise-en-ligne)\n",
    "    * [4.2 Analyse des erreurs de saisie des prix](#4.2-analyse-des-erreurs-de-saisie-des-prix)\n",
    "        * [4.2.1 Description du df global](#4.2.1-description-du-df-global)\n",
    "        * [4.2.2 Les outliers potentiels](#4.2.2-les-outliers-potentiels)\n",
    "            * [a. Méthode écart interquartile](#a.-methode-ecart-interquartile)\n",
    "            * [b. Première visualisation graphique des potentiels outliers](#b.-premiere-visualisation-graphique-des-potentiels-outliers)\n",
    "            * [c. Liste des outliers potentiels](#c.-liste-des-outliers-potentiels)\n",
    "        * [4.2.3 Représentation graphique](#4.2.3-representation-graphique)\n",
    "        * [4.2.4 Analyse des outliers](#4.2.4-analyse-des-outliers)\n",
    "        \n",
    "* [V. Conclusion](#V.-conclusion)\n",
    "    \n",
    "    \n",
    "    \n",
    "    \n",
    "    \n",
    "    "
   ]
  },
  {
   "cell_type": "markdown",
   "id": "483e7602",
   "metadata": {
    "hidden": true
   },
   "source": [
    "---"
   ]
  },
  {
   "cell_type": "markdown",
   "id": "5c0c15e1",
   "metadata": {
    "heading_collapsed": true
   },
   "source": [
    "# <div style=\"border: 1px solid RGB(173,40,59);\" >\n",
    "<h1 style=\"margin: auto; padding: 20px; color: RGB(173,40,59); \">\n",
    "I.  Importation des librairies <a class='anchor' id='I.-importation-des-librairies'></a> \n",
    "</h1>"
   ]
  },
  {
   "cell_type": "code",
   "execution_count": 1,
   "id": "9b6f17a7",
   "metadata": {
    "hidden": true
   },
   "outputs": [],
   "source": [
    "#Importation des librairies qui vont nous servir \n",
    "import numpy as np\n",
    "import pandas as pd\n",
    "import matplotlib.pyplot as plt\n",
    "import seaborn as sns\n",
    "import datetime as dt\n",
    "import scipy.stats as st\n",
    "import warnings\n",
    "warnings.filterwarnings('ignore')\n"
   ]
  },
  {
   "cell_type": "markdown",
   "id": "36133b5a",
   "metadata": {
    "hidden": true
   },
   "source": [
    "Nous allons analyser les 3 jeux de données suivants : \n",
    "- **Fichier ERP** : Informations produits \n",
    "- **Fichier LIAISON** : Lien entre l'id du produit du fichier ERP avec la référence du même produit dans le fichier WEB\n",
    "- **Fichier WEB** : Ventes en ligne des produits "
   ]
  },
  {
   "cell_type": "markdown",
   "id": "34dd00dd",
   "metadata": {
    "heading_collapsed": true
   },
   "source": [
    "# <div style=\"border: 1px solid RGB(173,40,59);\" >\n",
    "<h1 style=\"margin: auto; padding: 20px; color: RGB(173,40,59); \">\n",
    "II.  Analyse exploratoire et nettoyage des données <a class='anchor' id='II.-analyse-exploratoire-et-nettoyage-des-donnees'></a> </h1>"
   ]
  },
  {
   "cell_type": "markdown",
   "id": "4aa3bae1",
   "metadata": {
    "heading_collapsed": true,
    "hidden": true
   },
   "source": [
    "## \n",
    "<h2 style=\"margin: auto; padding: 20px; color: RGB(29,29,27); \">\n",
    "2.1  Dataframe ERP <a class='anchor' id='2.1-dataframe-erp'></a> </h2>"
   ]
  },
  {
   "cell_type": "markdown",
   "id": "52d74914",
   "metadata": {
    "hidden": true
   },
   "source": [
    "Chargement du jeu de données du fichier ERP dans le dataframe `df_erp`. "
   ]
  },
  {
   "cell_type": "code",
   "execution_count": 2,
   "id": "b6a08a7d",
   "metadata": {
    "hidden": true
   },
   "outputs": [],
   "source": [
    "df_erp = pd.read_excel('fichier_erp.xlsx')"
   ]
  },
  {
   "cell_type": "markdown",
   "id": "b868f43c",
   "metadata": {
    "heading_collapsed": true,
    "hidden": true
   },
   "source": [
    "###\n",
    "<h3 style=\"margin: auto; padding: 20px; color: RGB(173,40,59); \">\n",
    "2.1.1 Analyse exploratoire <a class='anchor' id='2.1.1-analyse-exploratoire'></a> </h3>"
   ]
  },
  {
   "cell_type": "markdown",
   "id": "ed4227a5",
   "metadata": {
    "hidden": true
   },
   "source": [
    "Pour réaliser l'analyse exploratoire des données nous allons réaliser plusieurs étapes :  \n",
    "- Afficher les premières lignes du df\n",
    "- Afficher les dimensions du df"
   ]
  },
  {
   "cell_type": "code",
   "execution_count": 3,
   "id": "593ce11d",
   "metadata": {
    "hidden": true
   },
   "outputs": [
    {
     "data": {
      "text/html": [
       "<div>\n",
       "<style scoped>\n",
       "    .dataframe tbody tr th:only-of-type {\n",
       "        vertical-align: middle;\n",
       "    }\n",
       "\n",
       "    .dataframe tbody tr th {\n",
       "        vertical-align: top;\n",
       "    }\n",
       "\n",
       "    .dataframe thead th {\n",
       "        text-align: right;\n",
       "    }\n",
       "</style>\n",
       "<table border=\"1\" class=\"dataframe\">\n",
       "  <thead>\n",
       "    <tr style=\"text-align: right;\">\n",
       "      <th></th>\n",
       "      <th>product_id</th>\n",
       "      <th>onsale_web</th>\n",
       "      <th>price</th>\n",
       "      <th>stock_quantity</th>\n",
       "      <th>stock_status</th>\n",
       "    </tr>\n",
       "  </thead>\n",
       "  <tbody>\n",
       "    <tr>\n",
       "      <th>0</th>\n",
       "      <td>3847</td>\n",
       "      <td>1</td>\n",
       "      <td>24.2</td>\n",
       "      <td>0</td>\n",
       "      <td>outofstock</td>\n",
       "    </tr>\n",
       "    <tr>\n",
       "      <th>1</th>\n",
       "      <td>3849</td>\n",
       "      <td>1</td>\n",
       "      <td>34.3</td>\n",
       "      <td>0</td>\n",
       "      <td>outofstock</td>\n",
       "    </tr>\n",
       "    <tr>\n",
       "      <th>2</th>\n",
       "      <td>3850</td>\n",
       "      <td>1</td>\n",
       "      <td>20.8</td>\n",
       "      <td>0</td>\n",
       "      <td>outofstock</td>\n",
       "    </tr>\n",
       "    <tr>\n",
       "      <th>3</th>\n",
       "      <td>4032</td>\n",
       "      <td>1</td>\n",
       "      <td>14.1</td>\n",
       "      <td>0</td>\n",
       "      <td>outofstock</td>\n",
       "    </tr>\n",
       "    <tr>\n",
       "      <th>4</th>\n",
       "      <td>4039</td>\n",
       "      <td>1</td>\n",
       "      <td>46.0</td>\n",
       "      <td>0</td>\n",
       "      <td>outofstock</td>\n",
       "    </tr>\n",
       "  </tbody>\n",
       "</table>\n",
       "</div>"
      ],
      "text/plain": [
       "   product_id  onsale_web  price  stock_quantity stock_status\n",
       "0        3847           1   24.2               0   outofstock\n",
       "1        3849           1   34.3               0   outofstock\n",
       "2        3850           1   20.8               0   outofstock\n",
       "3        4032           1   14.1               0   outofstock\n",
       "4        4039           1   46.0               0   outofstock"
      ]
     },
     "execution_count": 3,
     "metadata": {},
     "output_type": "execute_result"
    }
   ],
   "source": [
    "df_erp.head()"
   ]
  },
  {
   "cell_type": "code",
   "execution_count": 4,
   "id": "13bd3020",
   "metadata": {
    "hidden": true
   },
   "outputs": [
    {
     "data": {
      "text/plain": [
       "(825, 5)"
      ]
     },
     "execution_count": 4,
     "metadata": {},
     "output_type": "execute_result"
    }
   ],
   "source": [
    "df_erp.shape"
   ]
  },
  {
   "cell_type": "markdown",
   "id": "e1de596e",
   "metadata": {
    "hidden": true
   },
   "source": [
    "La variable **'onsale_web'** indique : \n",
    "- les produits vendus en ligne = 1 \n",
    "- les produits non vendus en ligne = 0. \n",
    "\n",
    "Donc il est intéressant d'observer combien de produits sont vendus en ligne et donc par conséquent, combien ne le sont pas. Cette information nous sera utile lorsque nous analyserons le fichier liaison qui relie les produits du fichier ERP et ceux vendus du fichier WEB. "
   ]
  },
  {
   "cell_type": "code",
   "execution_count": 5,
   "id": "1b4adae4",
   "metadata": {
    "hidden": true
   },
   "outputs": [],
   "source": [
    "#Filtre le df uniquement sur les produits vendus en ligne\n",
    "id_produits_ligne = df_erp[df_erp['onsale_web']==1]"
   ]
  },
  {
   "cell_type": "code",
   "execution_count": 6,
   "id": "28cc0e5c",
   "metadata": {
    "hidden": true
   },
   "outputs": [
    {
     "data": {
      "text/plain": [
       "(717, 5)"
      ]
     },
     "execution_count": 6,
     "metadata": {},
     "output_type": "execute_result"
    }
   ],
   "source": [
    "#Affiche les dimensions \n",
    "id_produits_ligne.shape"
   ]
  },
  {
   "cell_type": "markdown",
   "id": "19914fe2",
   "metadata": {
    "hidden": true
   },
   "source": [
    "<div style=\"border: 1px solid RGB(173,40,59);\" \n",
    "\n",
    "**DESCRIPTION :** \n",
    "\n",
    "Le fichier ERP contient 825 identifiants de produit renseignés sur 5 variables différentes :\n",
    "- product_id : identifiant du produit\n",
    "- onsale_web : produit en vente en ligne\n",
    "- price : prix\n",
    "- stock_quantity : quantité en stock\n",
    "- stock_status : statut du stock du produit\n",
    "     \n",
    "Également : \n",
    "- 717 produits sont vendus en ligne \n",
    "- 108 produits ne sont pas vendus en ligne"
   ]
  },
  {
   "cell_type": "markdown",
   "id": "95642119",
   "metadata": {
    "heading_collapsed": true,
    "hidden": true
   },
   "source": [
    "###\n",
    "<h3 style=\"margin: auto; padding: 20px; color: RGB(173,40,59); \">\n",
    "2.1.2 Nettoyage des données <a class='anchor' id='2.1.2-nettoyage-des-donnees'></a> </h3>"
   ]
  },
  {
   "cell_type": "markdown",
   "id": "6fffbcc2",
   "metadata": {
    "heading_collapsed": true,
    "hidden": true
   },
   "source": [
    "####\n",
    "<h4 style=\"margin: auto; padding: 20px; color: RGB(29,29,27); \">\n",
    "a. Erreurs de type des variables <a class='anchor' id='a.-erreurs-de-type-des-variables'></a> </h4>"
   ]
  },
  {
   "cell_type": "markdown",
   "id": "c7b00957",
   "metadata": {
    "hidden": true
   },
   "source": [
    "Nous allons vérifier que les variables ont bien été importées dans le bon type. "
   ]
  },
  {
   "cell_type": "code",
   "execution_count": 7,
   "id": "c6509e69",
   "metadata": {
    "hidden": true
   },
   "outputs": [
    {
     "data": {
      "text/plain": [
       "product_id          int64\n",
       "onsale_web          int64\n",
       "price             float64\n",
       "stock_quantity      int64\n",
       "stock_status       object\n",
       "dtype: object"
      ]
     },
     "execution_count": 7,
     "metadata": {},
     "output_type": "execute_result"
    }
   ],
   "source": [
    "df_erp.dtypes"
   ]
  },
  {
   "cell_type": "markdown",
   "id": "30c304a6",
   "metadata": {
    "hidden": true
   },
   "source": [
    "Nous pouvons voir que *stock_status* est indiqué en `object`. Cela veut dire que Python n'a pas sû déterminer un type natif pour cette variable. Étant donné qu'elle ne contient que 2 valeurs qui sont des chaînes de caractères : **'outofstock'** ou **'instock'**, nous pouvons changer ce type en `string`. "
   ]
  },
  {
   "cell_type": "code",
   "execution_count": 8,
   "id": "055f1e59",
   "metadata": {
    "hidden": true
   },
   "outputs": [],
   "source": [
    "df_erp['stock_status'] = df_erp['stock_status'].astype('string')"
   ]
  },
  {
   "cell_type": "code",
   "execution_count": 9,
   "id": "4f24150c",
   "metadata": {
    "hidden": true
   },
   "outputs": [
    {
     "data": {
      "text/plain": [
       "product_id          int64\n",
       "onsale_web          int64\n",
       "price             float64\n",
       "stock_quantity      int64\n",
       "stock_status       string\n",
       "dtype: object"
      ]
     },
     "execution_count": 9,
     "metadata": {},
     "output_type": "execute_result"
    }
   ],
   "source": [
    "#Vérification du changement \n",
    "df_erp.dtypes"
   ]
  },
  {
   "cell_type": "markdown",
   "id": "bfc265e9",
   "metadata": {
    "heading_collapsed": true,
    "hidden": true
   },
   "source": [
    "####\n",
    "<h4 style=\"margin: auto; padding: 20px; color: RGB(29,29,27); \">\n",
    "b. Valeurs manquantes <a class='anchor' id='b.-valeurs-manquantes'></a> </h4>"
   ]
  },
  {
   "cell_type": "markdown",
   "id": "4debcfa3",
   "metadata": {
    "hidden": true
   },
   "source": [
    "Nous vérifions si le jeu de données contient des valeurs manquantes. "
   ]
  },
  {
   "cell_type": "code",
   "execution_count": 10,
   "id": "b9c199e7",
   "metadata": {
    "hidden": true
   },
   "outputs": [
    {
     "data": {
      "text/plain": [
       "product_id        0\n",
       "onsale_web        0\n",
       "price             0\n",
       "stock_quantity    0\n",
       "stock_status      0\n",
       "dtype: int64"
      ]
     },
     "execution_count": 10,
     "metadata": {},
     "output_type": "execute_result"
    }
   ],
   "source": [
    "#Utilisation de la méthode .isnull() qui permet de comptabiliser le nombre de valeurs manquantes par variable. \n",
    "df_erp.isnull().sum()"
   ]
  },
  {
   "cell_type": "markdown",
   "id": "c68cec24",
   "metadata": {
    "heading_collapsed": true,
    "hidden": true
   },
   "source": [
    "####\n",
    "<h4 style=\"margin: auto; padding: 20px; color: RGB(29,29,27); \">\n",
    "c. Doublons <a class='anchor' id='c.-doublons'></a> </h4>"
   ]
  },
  {
   "cell_type": "markdown",
   "id": "6a728c09",
   "metadata": {
    "hidden": true
   },
   "source": [
    "À présent, nous observons si certains produits apparaissent en doublons. \n",
    "Pour vérifier cela, on se focalise sur des informations qui ne peuvent normalement pas être en double, soit : `['product_id']` (clé primaire). Sur cette variable, on ne doit pas avoir deux produits identiques."
   ]
  },
  {
   "cell_type": "code",
   "execution_count": 11,
   "id": "36f7eeb0",
   "metadata": {
    "hidden": true
   },
   "outputs": [
    {
     "data": {
      "text/html": [
       "<div>\n",
       "<style scoped>\n",
       "    .dataframe tbody tr th:only-of-type {\n",
       "        vertical-align: middle;\n",
       "    }\n",
       "\n",
       "    .dataframe tbody tr th {\n",
       "        vertical-align: top;\n",
       "    }\n",
       "\n",
       "    .dataframe thead th {\n",
       "        text-align: right;\n",
       "    }\n",
       "</style>\n",
       "<table border=\"1\" class=\"dataframe\">\n",
       "  <thead>\n",
       "    <tr style=\"text-align: right;\">\n",
       "      <th></th>\n",
       "      <th>product_id</th>\n",
       "      <th>onsale_web</th>\n",
       "      <th>price</th>\n",
       "      <th>stock_quantity</th>\n",
       "      <th>stock_status</th>\n",
       "    </tr>\n",
       "  </thead>\n",
       "  <tbody>\n",
       "  </tbody>\n",
       "</table>\n",
       "</div>"
      ],
      "text/plain": [
       "Empty DataFrame\n",
       "Columns: [product_id, onsale_web, price, stock_quantity, stock_status]\n",
       "Index: []"
      ]
     },
     "execution_count": 11,
     "metadata": {},
     "output_type": "execute_result"
    }
   ],
   "source": [
    "df_erp.loc[df_erp[['product_id']].duplicated(keep=False)]"
   ]
  },
  {
   "cell_type": "markdown",
   "id": "36d43f58",
   "metadata": {
    "heading_collapsed": true,
    "hidden": true
   },
   "source": [
    "####\n",
    "<h4 style=\"margin: auto; padding: 20px; color: RGB(29,29,27); \">\n",
    "d. Détection des outliers <a class='anchor' id='d.-detection-des-outliers'></a> </h4>"
   ]
  },
  {
   "cell_type": "code",
   "execution_count": 12,
   "id": "eff9a0d1",
   "metadata": {
    "hidden": true
   },
   "outputs": [
    {
     "data": {
      "text/html": [
       "<div>\n",
       "<style scoped>\n",
       "    .dataframe tbody tr th:only-of-type {\n",
       "        vertical-align: middle;\n",
       "    }\n",
       "\n",
       "    .dataframe tbody tr th {\n",
       "        vertical-align: top;\n",
       "    }\n",
       "\n",
       "    .dataframe thead th {\n",
       "        text-align: right;\n",
       "    }\n",
       "</style>\n",
       "<table border=\"1\" class=\"dataframe\">\n",
       "  <thead>\n",
       "    <tr style=\"text-align: right;\">\n",
       "      <th></th>\n",
       "      <th>product_id</th>\n",
       "      <th>onsale_web</th>\n",
       "      <th>price</th>\n",
       "      <th>stock_quantity</th>\n",
       "    </tr>\n",
       "  </thead>\n",
       "  <tbody>\n",
       "    <tr>\n",
       "      <th>count</th>\n",
       "      <td>825.000000</td>\n",
       "      <td>825.000000</td>\n",
       "      <td>825.000000</td>\n",
       "      <td>825.000000</td>\n",
       "    </tr>\n",
       "    <tr>\n",
       "      <th>mean</th>\n",
       "      <td>5162.597576</td>\n",
       "      <td>0.869091</td>\n",
       "      <td>32.384000</td>\n",
       "      <td>26.583030</td>\n",
       "    </tr>\n",
       "    <tr>\n",
       "      <th>std</th>\n",
       "      <td>902.644635</td>\n",
       "      <td>0.337506</td>\n",
       "      <td>26.832271</td>\n",
       "      <td>45.875948</td>\n",
       "    </tr>\n",
       "    <tr>\n",
       "      <th>min</th>\n",
       "      <td>3847.000000</td>\n",
       "      <td>0.000000</td>\n",
       "      <td>-8.000000</td>\n",
       "      <td>-1.000000</td>\n",
       "    </tr>\n",
       "    <tr>\n",
       "      <th>25%</th>\n",
       "      <td>4348.000000</td>\n",
       "      <td>1.000000</td>\n",
       "      <td>14.600000</td>\n",
       "      <td>1.000000</td>\n",
       "    </tr>\n",
       "    <tr>\n",
       "      <th>50%</th>\n",
       "      <td>4907.000000</td>\n",
       "      <td>1.000000</td>\n",
       "      <td>24.400000</td>\n",
       "      <td>11.000000</td>\n",
       "    </tr>\n",
       "    <tr>\n",
       "      <th>75%</th>\n",
       "      <td>5805.000000</td>\n",
       "      <td>1.000000</td>\n",
       "      <td>42.000000</td>\n",
       "      <td>34.000000</td>\n",
       "    </tr>\n",
       "    <tr>\n",
       "      <th>max</th>\n",
       "      <td>7338.000000</td>\n",
       "      <td>1.000000</td>\n",
       "      <td>225.000000</td>\n",
       "      <td>578.000000</td>\n",
       "    </tr>\n",
       "  </tbody>\n",
       "</table>\n",
       "</div>"
      ],
      "text/plain": [
       "        product_id  onsale_web       price  stock_quantity\n",
       "count   825.000000  825.000000  825.000000      825.000000\n",
       "mean   5162.597576    0.869091   32.384000       26.583030\n",
       "std     902.644635    0.337506   26.832271       45.875948\n",
       "min    3847.000000    0.000000   -8.000000       -1.000000\n",
       "25%    4348.000000    1.000000   14.600000        1.000000\n",
       "50%    4907.000000    1.000000   24.400000       11.000000\n",
       "75%    5805.000000    1.000000   42.000000       34.000000\n",
       "max    7338.000000    1.000000  225.000000      578.000000"
      ]
     },
     "execution_count": 12,
     "metadata": {},
     "output_type": "execute_result"
    }
   ],
   "source": [
    "df_erp.describe()"
   ]
  },
  {
   "cell_type": "markdown",
   "id": "4fb2acee",
   "metadata": {
    "hidden": true
   },
   "source": [
    "<div style=\"border: 1px solid RGB(173,40,59);\"\n",
    "     \n",
    "**OBSERVATIONS :** \n",
    "     \n",
    "**Price** : \n",
    "- Les prix des produits vendus sont compris entre -8 et 225 €.                                                     - le minimum est à -8. Or, nous ne pouvons pas avoir de prix négatif sur un produit. Le prix le plus bas d\\'un produit ne peut pas être inférieur à 0. \n",
    "\n",
    "**Stock_quantity** : \n",
    "- Cette variable qui a un minimum de -1. Le plus bas est qu\\'il n\\'y est pas de stock, soit 0. "
   ]
  },
  {
   "cell_type": "markdown",
   "id": "7a91c269",
   "metadata": {
    "hidden": true
   },
   "source": [
    "**Analyse des outliers des références produits 'product_id'**"
   ]
  },
  {
   "cell_type": "code",
   "execution_count": 13,
   "id": "f8441437",
   "metadata": {
    "hidden": true
   },
   "outputs": [
    {
     "data": {
      "text/html": [
       "<div>\n",
       "<style scoped>\n",
       "    .dataframe tbody tr th:only-of-type {\n",
       "        vertical-align: middle;\n",
       "    }\n",
       "\n",
       "    .dataframe tbody tr th {\n",
       "        vertical-align: top;\n",
       "    }\n",
       "\n",
       "    .dataframe thead th {\n",
       "        text-align: right;\n",
       "    }\n",
       "</style>\n",
       "<table border=\"1\" class=\"dataframe\">\n",
       "  <thead>\n",
       "    <tr style=\"text-align: right;\">\n",
       "      <th></th>\n",
       "      <th>product_id</th>\n",
       "      <th>onsale_web</th>\n",
       "      <th>price</th>\n",
       "      <th>stock_quantity</th>\n",
       "      <th>stock_status</th>\n",
       "    </tr>\n",
       "  </thead>\n",
       "  <tbody>\n",
       "  </tbody>\n",
       "</table>\n",
       "</div>"
      ],
      "text/plain": [
       "Empty DataFrame\n",
       "Columns: [product_id, onsale_web, price, stock_quantity, stock_status]\n",
       "Index: []"
      ]
     },
     "execution_count": 13,
     "metadata": {},
     "output_type": "execute_result"
    }
   ],
   "source": [
    "df_erp[~df_erp['product_id'].astype(str).str.match(r'^\\d+$')]"
   ]
  },
  {
   "cell_type": "markdown",
   "id": "dc670e19",
   "metadata": {
    "hidden": true
   },
   "source": [
    "**Analyse des outliers de prix 'price'**"
   ]
  },
  {
   "cell_type": "code",
   "execution_count": 14,
   "id": "79426c3d",
   "metadata": {
    "hidden": true
   },
   "outputs": [
    {
     "data": {
      "text/html": [
       "<div>\n",
       "<style scoped>\n",
       "    .dataframe tbody tr th:only-of-type {\n",
       "        vertical-align: middle;\n",
       "    }\n",
       "\n",
       "    .dataframe tbody tr th {\n",
       "        vertical-align: top;\n",
       "    }\n",
       "\n",
       "    .dataframe thead th {\n",
       "        text-align: right;\n",
       "    }\n",
       "</style>\n",
       "<table border=\"1\" class=\"dataframe\">\n",
       "  <thead>\n",
       "    <tr style=\"text-align: right;\">\n",
       "      <th></th>\n",
       "      <th>product_id</th>\n",
       "      <th>onsale_web</th>\n",
       "      <th>price</th>\n",
       "      <th>stock_quantity</th>\n",
       "      <th>stock_status</th>\n",
       "    </tr>\n",
       "  </thead>\n",
       "  <tbody>\n",
       "    <tr>\n",
       "      <th>469</th>\n",
       "      <td>5017</td>\n",
       "      <td>0</td>\n",
       "      <td>-8.0</td>\n",
       "      <td>0</td>\n",
       "      <td>outofstock</td>\n",
       "    </tr>\n",
       "    <tr>\n",
       "      <th>739</th>\n",
       "      <td>6594</td>\n",
       "      <td>0</td>\n",
       "      <td>-1.0</td>\n",
       "      <td>192</td>\n",
       "      <td>instock</td>\n",
       "    </tr>\n",
       "  </tbody>\n",
       "</table>\n",
       "</div>"
      ],
      "text/plain": [
       "     product_id  onsale_web  price  stock_quantity stock_status\n",
       "469        5017           0   -8.0               0   outofstock\n",
       "739        6594           0   -1.0             192      instock"
      ]
     },
     "execution_count": 14,
     "metadata": {},
     "output_type": "execute_result"
    }
   ],
   "source": [
    "df_erp[df_erp['price'] <= 0]"
   ]
  },
  {
   "cell_type": "markdown",
   "id": "c7daf690",
   "metadata": {
    "hidden": true
   },
   "source": [
    "**Analyse des outliers de stock**"
   ]
  },
  {
   "cell_type": "code",
   "execution_count": 15,
   "id": "3a54f63b",
   "metadata": {
    "hidden": true
   },
   "outputs": [
    {
     "data": {
      "text/html": [
       "<div>\n",
       "<style scoped>\n",
       "    .dataframe tbody tr th:only-of-type {\n",
       "        vertical-align: middle;\n",
       "    }\n",
       "\n",
       "    .dataframe tbody tr th {\n",
       "        vertical-align: top;\n",
       "    }\n",
       "\n",
       "    .dataframe thead th {\n",
       "        text-align: right;\n",
       "    }\n",
       "</style>\n",
       "<table border=\"1\" class=\"dataframe\">\n",
       "  <thead>\n",
       "    <tr style=\"text-align: right;\">\n",
       "      <th></th>\n",
       "      <th>product_id</th>\n",
       "      <th>onsale_web</th>\n",
       "      <th>price</th>\n",
       "      <th>stock_quantity</th>\n",
       "      <th>stock_status</th>\n",
       "    </tr>\n",
       "  </thead>\n",
       "  <tbody>\n",
       "    <tr>\n",
       "      <th>449</th>\n",
       "      <td>4973</td>\n",
       "      <td>0</td>\n",
       "      <td>10.0</td>\n",
       "      <td>-1</td>\n",
       "      <td>outofstock</td>\n",
       "    </tr>\n",
       "    <tr>\n",
       "      <th>573</th>\n",
       "      <td>5700</td>\n",
       "      <td>1</td>\n",
       "      <td>44.5</td>\n",
       "      <td>-1</td>\n",
       "      <td>outofstock</td>\n",
       "    </tr>\n",
       "  </tbody>\n",
       "</table>\n",
       "</div>"
      ],
      "text/plain": [
       "     product_id  onsale_web  price  stock_quantity stock_status\n",
       "449        4973           0   10.0              -1   outofstock\n",
       "573        5700           1   44.5              -1   outofstock"
      ]
     },
     "execution_count": 15,
     "metadata": {},
     "output_type": "execute_result"
    }
   ],
   "source": [
    "#Afficher les produits ayant un stock inférieur à 0 'stock_quantity'\n",
    "df_erp[df_erp['stock_quantity'] < 0]"
   ]
  },
  {
   "cell_type": "code",
   "execution_count": 16,
   "id": "cba11c70",
   "metadata": {
    "hidden": true
   },
   "outputs": [
    {
     "data": {
      "text/html": [
       "<div>\n",
       "<style scoped>\n",
       "    .dataframe tbody tr th:only-of-type {\n",
       "        vertical-align: middle;\n",
       "    }\n",
       "\n",
       "    .dataframe tbody tr th {\n",
       "        vertical-align: top;\n",
       "    }\n",
       "\n",
       "    .dataframe thead th {\n",
       "        text-align: right;\n",
       "    }\n",
       "</style>\n",
       "<table border=\"1\" class=\"dataframe\">\n",
       "  <thead>\n",
       "    <tr style=\"text-align: right;\">\n",
       "      <th></th>\n",
       "      <th>product_id</th>\n",
       "      <th>onsale_web</th>\n",
       "      <th>price</th>\n",
       "      <th>stock_quantity</th>\n",
       "      <th>stock_status</th>\n",
       "    </tr>\n",
       "  </thead>\n",
       "  <tbody>\n",
       "    <tr>\n",
       "      <th>19</th>\n",
       "      <td>4055</td>\n",
       "      <td>0</td>\n",
       "      <td>86.1</td>\n",
       "      <td>1</td>\n",
       "      <td>outofstock</td>\n",
       "    </tr>\n",
       "    <tr>\n",
       "      <th>49</th>\n",
       "      <td>4090</td>\n",
       "      <td>0</td>\n",
       "      <td>73.0</td>\n",
       "      <td>6</td>\n",
       "      <td>outofstock</td>\n",
       "    </tr>\n",
       "    <tr>\n",
       "      <th>50</th>\n",
       "      <td>4092</td>\n",
       "      <td>0</td>\n",
       "      <td>47.0</td>\n",
       "      <td>6</td>\n",
       "      <td>outofstock</td>\n",
       "    </tr>\n",
       "    <tr>\n",
       "      <th>630</th>\n",
       "      <td>5826</td>\n",
       "      <td>1</td>\n",
       "      <td>41.2</td>\n",
       "      <td>12</td>\n",
       "      <td>outofstock</td>\n",
       "    </tr>\n",
       "    <tr>\n",
       "      <th>696</th>\n",
       "      <td>6125</td>\n",
       "      <td>0</td>\n",
       "      <td>14.2</td>\n",
       "      <td>48</td>\n",
       "      <td>outofstock</td>\n",
       "    </tr>\n",
       "  </tbody>\n",
       "</table>\n",
       "</div>"
      ],
      "text/plain": [
       "     product_id  onsale_web  price  stock_quantity stock_status\n",
       "19         4055           0   86.1               1   outofstock\n",
       "49         4090           0   73.0               6   outofstock\n",
       "50         4092           0   47.0               6   outofstock\n",
       "630        5826           1   41.2              12   outofstock\n",
       "696        6125           0   14.2              48   outofstock"
      ]
     },
     "execution_count": 16,
     "metadata": {},
     "output_type": "execute_result"
    }
   ],
   "source": [
    "#Afficher les produits ayant un stock supérieur à 0 mais indiqué 'outofstock'\n",
    "df_erp[(df_erp['stock_quantity'] > 0 ) & (df_erp['stock_status'] == 'outofstock')]\n"
   ]
  },
  {
   "cell_type": "code",
   "execution_count": 17,
   "id": "1173b5c0",
   "metadata": {
    "hidden": true
   },
   "outputs": [
    {
     "data": {
      "text/html": [
       "<div>\n",
       "<style scoped>\n",
       "    .dataframe tbody tr th:only-of-type {\n",
       "        vertical-align: middle;\n",
       "    }\n",
       "\n",
       "    .dataframe tbody tr th {\n",
       "        vertical-align: top;\n",
       "    }\n",
       "\n",
       "    .dataframe thead th {\n",
       "        text-align: right;\n",
       "    }\n",
       "</style>\n",
       "<table border=\"1\" class=\"dataframe\">\n",
       "  <thead>\n",
       "    <tr style=\"text-align: right;\">\n",
       "      <th></th>\n",
       "      <th>product_id</th>\n",
       "      <th>onsale_web</th>\n",
       "      <th>price</th>\n",
       "      <th>stock_quantity</th>\n",
       "      <th>stock_status</th>\n",
       "    </tr>\n",
       "  </thead>\n",
       "  <tbody>\n",
       "    <tr>\n",
       "      <th>443</th>\n",
       "      <td>4954</td>\n",
       "      <td>1</td>\n",
       "      <td>25.0</td>\n",
       "      <td>0</td>\n",
       "      <td>instock</td>\n",
       "    </tr>\n",
       "  </tbody>\n",
       "</table>\n",
       "</div>"
      ],
      "text/plain": [
       "     product_id  onsale_web  price  stock_quantity stock_status\n",
       "443        4954           1   25.0               0      instock"
      ]
     },
     "execution_count": 17,
     "metadata": {},
     "output_type": "execute_result"
    }
   ],
   "source": [
    "#Afficher les produits ayant un stock inférieur ou égal à 0 mais indiqué 'instock'\n",
    "df_erp[(df_erp['stock_quantity'] <= 0) & (df_erp['stock_status'] == 'instock')]\n"
   ]
  },
  {
   "cell_type": "markdown",
   "id": "ac895709",
   "metadata": {
    "heading_collapsed": true,
    "hidden": true
   },
   "source": [
    "###\n",
    "<h3 style=\"margin: auto; padding: 20px; color: RGB(173,40,59); \">\n",
    "2.1.3 Description du df ERP <a class='anchor' id='2.1.3-description-du-df-erp'></a> </h3>"
   ]
  },
  {
   "cell_type": "markdown",
   "id": "6d065f7b",
   "metadata": {
    "hidden": true
   },
   "source": [
    "<div style=\"border: 1px solid RGB(173,40,59);\" \n",
    "\n",
    "**Fichier ERP :**\n",
    "- A été corrigé sur le type de la variable 'stock_status'\n",
    "- N'a pas de valeurs manquantes\n",
    "- Ne contient pas de doublons\n",
    "    \n",
    "Contient plusieurs anomalies : \n",
    "- Les produits [5017, 6594] ont des prix négatifs (-8 € et -1 €)\n",
    "- Les produits [4973, 5700] ont des stocks négatifs (-1)\n",
    "- Les produits [4055, 4090, 4092, 5826, 6125] sont indiquées ['outofstock'] or ils ont un stock supérieur à 0. \n",
    "- Le produit [4954] est indiqué ['instock'] mais n'en contient aucun. "
   ]
  },
  {
   "cell_type": "markdown",
   "id": "70ee86d5",
   "metadata": {
    "heading_collapsed": true,
    "hidden": true
   },
   "source": [
    "## \n",
    "<h2 style=\"margin: auto; padding: 20px; color: RGB(29,29,27); \">\n",
    "2.2 Dataframe WEB <a class='anchor' id='2.2-dataframe-web'></a> </h2>"
   ]
  },
  {
   "cell_type": "markdown",
   "id": "efb441c5",
   "metadata": {
    "hidden": true
   },
   "source": [
    "Chargement du jeu de données du fichier WEB dans le dataframe `df_web`. "
   ]
  },
  {
   "cell_type": "code",
   "execution_count": 18,
   "id": "7f3a4c3c",
   "metadata": {
    "hidden": true
   },
   "outputs": [],
   "source": [
    "df_web = pd.read_excel('fichier_web.xlsx')"
   ]
  },
  {
   "cell_type": "markdown",
   "id": "13a7b2a1",
   "metadata": {
    "heading_collapsed": true,
    "hidden": true
   },
   "source": [
    "###\n",
    "<h3 style=\"margin: auto; padding: 20px; color: RGB(173,40,59); \">\n",
    "2.2.1 Analyse exploratoire <a class='anchor' id='2.2.1-analyse-exploratoire'></a> </h3>"
   ]
  },
  {
   "cell_type": "markdown",
   "id": "f598a2c6",
   "metadata": {
    "hidden": true
   },
   "source": [
    "- Afficher les premières lignes du df\n",
    "- Afficher les dimensions du df"
   ]
  },
  {
   "cell_type": "code",
   "execution_count": 19,
   "id": "aadd7134",
   "metadata": {
    "hidden": true
   },
   "outputs": [
    {
     "data": {
      "text/html": [
       "<div>\n",
       "<style scoped>\n",
       "    .dataframe tbody tr th:only-of-type {\n",
       "        vertical-align: middle;\n",
       "    }\n",
       "\n",
       "    .dataframe tbody tr th {\n",
       "        vertical-align: top;\n",
       "    }\n",
       "\n",
       "    .dataframe thead th {\n",
       "        text-align: right;\n",
       "    }\n",
       "</style>\n",
       "<table border=\"1\" class=\"dataframe\">\n",
       "  <thead>\n",
       "    <tr style=\"text-align: right;\">\n",
       "      <th></th>\n",
       "      <th>sku</th>\n",
       "      <th>virtual</th>\n",
       "      <th>downloadable</th>\n",
       "      <th>rating_count</th>\n",
       "      <th>average_rating</th>\n",
       "      <th>total_sales</th>\n",
       "      <th>tax_status</th>\n",
       "      <th>tax_class</th>\n",
       "      <th>post_author</th>\n",
       "      <th>post_date</th>\n",
       "      <th>...</th>\n",
       "      <th>post_name</th>\n",
       "      <th>post_modified</th>\n",
       "      <th>post_modified_gmt</th>\n",
       "      <th>post_content_filtered</th>\n",
       "      <th>post_parent</th>\n",
       "      <th>guid</th>\n",
       "      <th>menu_order</th>\n",
       "      <th>post_type</th>\n",
       "      <th>post_mime_type</th>\n",
       "      <th>comment_count</th>\n",
       "    </tr>\n",
       "  </thead>\n",
       "  <tbody>\n",
       "    <tr>\n",
       "      <th>0</th>\n",
       "      <td>16004</td>\n",
       "      <td>0</td>\n",
       "      <td>0</td>\n",
       "      <td>0</td>\n",
       "      <td>0.0</td>\n",
       "      <td>5.0</td>\n",
       "      <td>NaN</td>\n",
       "      <td>NaN</td>\n",
       "      <td>2.0</td>\n",
       "      <td>2018-06-07 16:27:25</td>\n",
       "      <td>...</td>\n",
       "      <td>chateau-du-couvent-pomerol-2017</td>\n",
       "      <td>2020-08-25 18:35:02</td>\n",
       "      <td>2020-08-25 16:35:02</td>\n",
       "      <td>NaN</td>\n",
       "      <td>0.0</td>\n",
       "      <td>https://www.bottle-neck.fr/wp-content/uploads/...</td>\n",
       "      <td>0.0</td>\n",
       "      <td>attachment</td>\n",
       "      <td>image/jpeg</td>\n",
       "      <td>0.0</td>\n",
       "    </tr>\n",
       "    <tr>\n",
       "      <th>1</th>\n",
       "      <td>NaN</td>\n",
       "      <td>0</td>\n",
       "      <td>0</td>\n",
       "      <td>0</td>\n",
       "      <td>NaN</td>\n",
       "      <td>NaN</td>\n",
       "      <td>NaN</td>\n",
       "      <td>NaN</td>\n",
       "      <td>NaN</td>\n",
       "      <td>NaT</td>\n",
       "      <td>...</td>\n",
       "      <td>NaN</td>\n",
       "      <td>NaT</td>\n",
       "      <td>NaT</td>\n",
       "      <td>NaN</td>\n",
       "      <td>NaN</td>\n",
       "      <td>NaN</td>\n",
       "      <td>NaN</td>\n",
       "      <td>NaN</td>\n",
       "      <td>NaN</td>\n",
       "      <td>NaN</td>\n",
       "    </tr>\n",
       "    <tr>\n",
       "      <th>2</th>\n",
       "      <td>15075</td>\n",
       "      <td>0</td>\n",
       "      <td>0</td>\n",
       "      <td>0</td>\n",
       "      <td>0.0</td>\n",
       "      <td>3.0</td>\n",
       "      <td>taxable</td>\n",
       "      <td>NaN</td>\n",
       "      <td>2.0</td>\n",
       "      <td>2018-02-14 15:39:43</td>\n",
       "      <td>...</td>\n",
       "      <td>pares-balta-penedes-indigena-2017</td>\n",
       "      <td>2020-08-20 15:35:02</td>\n",
       "      <td>2020-08-20 13:35:02</td>\n",
       "      <td>NaN</td>\n",
       "      <td>0.0</td>\n",
       "      <td>https://www.bottle-neck.fr/?post_type=product&amp;...</td>\n",
       "      <td>0.0</td>\n",
       "      <td>product</td>\n",
       "      <td>NaN</td>\n",
       "      <td>0.0</td>\n",
       "    </tr>\n",
       "    <tr>\n",
       "      <th>3</th>\n",
       "      <td>16209</td>\n",
       "      <td>0</td>\n",
       "      <td>0</td>\n",
       "      <td>0</td>\n",
       "      <td>0.0</td>\n",
       "      <td>6.0</td>\n",
       "      <td>taxable</td>\n",
       "      <td>NaN</td>\n",
       "      <td>2.0</td>\n",
       "      <td>2018-02-14 17:15:31</td>\n",
       "      <td>...</td>\n",
       "      <td>maurel-cabardes-tradition-2017</td>\n",
       "      <td>2020-08-05 18:05:03</td>\n",
       "      <td>2020-08-05 16:05:03</td>\n",
       "      <td>NaN</td>\n",
       "      <td>0.0</td>\n",
       "      <td>https://www.bottle-neck.fr/?post_type=product&amp;...</td>\n",
       "      <td>0.0</td>\n",
       "      <td>product</td>\n",
       "      <td>NaN</td>\n",
       "      <td>0.0</td>\n",
       "    </tr>\n",
       "    <tr>\n",
       "      <th>4</th>\n",
       "      <td>15763</td>\n",
       "      <td>0</td>\n",
       "      <td>0</td>\n",
       "      <td>0</td>\n",
       "      <td>0.0</td>\n",
       "      <td>1.0</td>\n",
       "      <td>NaN</td>\n",
       "      <td>NaN</td>\n",
       "      <td>2.0</td>\n",
       "      <td>2020-01-25 14:08:16</td>\n",
       "      <td>...</td>\n",
       "      <td>domaine-de-la-monardiere-vacqueyras-les-vieill...</td>\n",
       "      <td>2020-08-21 11:35:02</td>\n",
       "      <td>2020-08-21 09:35:02</td>\n",
       "      <td>NaN</td>\n",
       "      <td>0.0</td>\n",
       "      <td>https://www.bottle-neck.fr/wp-content/uploads/...</td>\n",
       "      <td>0.0</td>\n",
       "      <td>attachment</td>\n",
       "      <td>image/jpeg</td>\n",
       "      <td>0.0</td>\n",
       "    </tr>\n",
       "  </tbody>\n",
       "</table>\n",
       "<p>5 rows × 28 columns</p>\n",
       "</div>"
      ],
      "text/plain": [
       "     sku  virtual  downloadable  rating_count  average_rating  total_sales  \\\n",
       "0  16004        0             0             0             0.0          5.0   \n",
       "1    NaN        0             0             0             NaN          NaN   \n",
       "2  15075        0             0             0             0.0          3.0   \n",
       "3  16209        0             0             0             0.0          6.0   \n",
       "4  15763        0             0             0             0.0          1.0   \n",
       "\n",
       "  tax_status  tax_class  post_author           post_date  ...  \\\n",
       "0        NaN        NaN          2.0 2018-06-07 16:27:25  ...   \n",
       "1        NaN        NaN          NaN                 NaT  ...   \n",
       "2    taxable        NaN          2.0 2018-02-14 15:39:43  ...   \n",
       "3    taxable        NaN          2.0 2018-02-14 17:15:31  ...   \n",
       "4        NaN        NaN          2.0 2020-01-25 14:08:16  ...   \n",
       "\n",
       "                                           post_name       post_modified  \\\n",
       "0                    chateau-du-couvent-pomerol-2017 2020-08-25 18:35:02   \n",
       "1                                                NaN                 NaT   \n",
       "2                  pares-balta-penedes-indigena-2017 2020-08-20 15:35:02   \n",
       "3                     maurel-cabardes-tradition-2017 2020-08-05 18:05:03   \n",
       "4  domaine-de-la-monardiere-vacqueyras-les-vieill... 2020-08-21 11:35:02   \n",
       "\n",
       "    post_modified_gmt post_content_filtered post_parent  \\\n",
       "0 2020-08-25 16:35:02                   NaN         0.0   \n",
       "1                 NaT                   NaN         NaN   \n",
       "2 2020-08-20 13:35:02                   NaN         0.0   \n",
       "3 2020-08-05 16:05:03                   NaN         0.0   \n",
       "4 2020-08-21 09:35:02                   NaN         0.0   \n",
       "\n",
       "                                                guid menu_order   post_type  \\\n",
       "0  https://www.bottle-neck.fr/wp-content/uploads/...        0.0  attachment   \n",
       "1                                                NaN        NaN         NaN   \n",
       "2  https://www.bottle-neck.fr/?post_type=product&...        0.0     product   \n",
       "3  https://www.bottle-neck.fr/?post_type=product&...        0.0     product   \n",
       "4  https://www.bottle-neck.fr/wp-content/uploads/...        0.0  attachment   \n",
       "\n",
       "  post_mime_type comment_count  \n",
       "0     image/jpeg           0.0  \n",
       "1            NaN           NaN  \n",
       "2            NaN           0.0  \n",
       "3            NaN           0.0  \n",
       "4     image/jpeg           0.0  \n",
       "\n",
       "[5 rows x 28 columns]"
      ]
     },
     "execution_count": 19,
     "metadata": {},
     "output_type": "execute_result"
    }
   ],
   "source": [
    "#Affiche les premières du df\n",
    "df_web.head()"
   ]
  },
  {
   "cell_type": "code",
   "execution_count": 20,
   "id": "83a7b044",
   "metadata": {
    "hidden": true
   },
   "outputs": [
    {
     "data": {
      "text/plain": [
       "(1513, 28)"
      ]
     },
     "execution_count": 20,
     "metadata": {},
     "output_type": "execute_result"
    }
   ],
   "source": [
    "#Affiche les dimensions du df\n",
    "df_web.shape"
   ]
  },
  {
   "cell_type": "code",
   "execution_count": 21,
   "id": "cb7981a0",
   "metadata": {
    "hidden": true,
    "scrolled": true
   },
   "outputs": [
    {
     "data": {
      "text/plain": [
       "Index(['sku', 'virtual', 'downloadable', 'rating_count', 'average_rating',\n",
       "       'total_sales', 'tax_status', 'tax_class', 'post_author', 'post_date',\n",
       "       'post_date_gmt', 'post_content', 'post_title', 'post_excerpt',\n",
       "       'post_status', 'comment_status', 'ping_status', 'post_password',\n",
       "       'post_name', 'post_modified', 'post_modified_gmt',\n",
       "       'post_content_filtered', 'post_parent', 'guid', 'menu_order',\n",
       "       'post_type', 'post_mime_type', 'comment_count'],\n",
       "      dtype='object')"
      ]
     },
     "execution_count": 21,
     "metadata": {},
     "output_type": "execute_result"
    }
   ],
   "source": [
    "#Affiche le nom des colonnes du df\n",
    "df_web.columns"
   ]
  },
  {
   "cell_type": "markdown",
   "id": "313597b8",
   "metadata": {
    "heading_collapsed": true,
    "hidden": true
   },
   "source": [
    "###\n",
    "<h3 style=\"margin: auto; padding: 20px; color: RGB(173,40,59); \">\n",
    "2.2.2 Nettoyage des données <a class='anchor' id='2.2.2-nettoyage-des-donnees'></a> </h3>"
   ]
  },
  {
   "cell_type": "markdown",
   "id": "e4217033",
   "metadata": {
    "heading_collapsed": true,
    "hidden": true
   },
   "source": [
    "####\n",
    "<h4 style=\"margin: auto; padding: 20px; color: RGB(29,29,27); \">\n",
    "a. Erreurs de type des variables <a class='anchor' id='a.-erreurs-de-type-des-variables'></a> </h4>"
   ]
  },
  {
   "cell_type": "code",
   "execution_count": 22,
   "id": "c27a2a64",
   "metadata": {
    "hidden": true
   },
   "outputs": [
    {
     "data": {
      "text/plain": [
       "sku                              object\n",
       "virtual                           int64\n",
       "downloadable                      int64\n",
       "rating_count                      int64\n",
       "average_rating                  float64\n",
       "total_sales                     float64\n",
       "tax_status                       object\n",
       "tax_class                       float64\n",
       "post_author                     float64\n",
       "post_date                datetime64[ns]\n",
       "post_date_gmt            datetime64[ns]\n",
       "post_content                    float64\n",
       "post_title                       object\n",
       "post_excerpt                     object\n",
       "post_status                      object\n",
       "comment_status                   object\n",
       "ping_status                      object\n",
       "post_password                   float64\n",
       "post_name                        object\n",
       "post_modified            datetime64[ns]\n",
       "post_modified_gmt        datetime64[ns]\n",
       "post_content_filtered           float64\n",
       "post_parent                     float64\n",
       "guid                             object\n",
       "menu_order                      float64\n",
       "post_type                        object\n",
       "post_mime_type                   object\n",
       "comment_count                   float64\n",
       "dtype: object"
      ]
     },
     "execution_count": 22,
     "metadata": {},
     "output_type": "execute_result"
    }
   ],
   "source": [
    "df_web.dtypes"
   ]
  },
  {
   "cell_type": "markdown",
   "id": "51ba7252",
   "metadata": {
    "hidden": true
   },
   "source": [
    "Nous pouvons voir que *sku* qui est la référence web des produits est indiqué en `object`. Cela veut dire que Python n'a pas sû déterminer un type natif pour cette variable. Cette colonne doit sûrement contenir des valeurs de type 'string' et 'integer'. "
   ]
  },
  {
   "cell_type": "markdown",
   "id": "9b80098e",
   "metadata": {
    "heading_collapsed": true,
    "hidden": true
   },
   "source": [
    "####\n",
    "<h4 style=\"margin: auto; padding: 20px; color: RGB(29,29,27); \">\n",
    "b. Valeurs manquantes <a class='anchor' id='b.-valeurs-manquantes'></a> </h4>"
   ]
  },
  {
   "cell_type": "code",
   "execution_count": 23,
   "id": "85541827",
   "metadata": {
    "hidden": true
   },
   "outputs": [
    {
     "data": {
      "text/plain": [
       "sku                        85\n",
       "virtual                     0\n",
       "downloadable                0\n",
       "rating_count                0\n",
       "average_rating             83\n",
       "total_sales                83\n",
       "tax_status                797\n",
       "tax_class                1513\n",
       "post_author                83\n",
       "post_date                  83\n",
       "post_date_gmt              83\n",
       "post_content             1513\n",
       "post_title                 83\n",
       "post_excerpt              797\n",
       "post_status                83\n",
       "comment_status             83\n",
       "ping_status                83\n",
       "post_password            1513\n",
       "post_name                  83\n",
       "post_modified              83\n",
       "post_modified_gmt          83\n",
       "post_content_filtered    1513\n",
       "post_parent                83\n",
       "guid                       83\n",
       "menu_order                 83\n",
       "post_type                  83\n",
       "post_mime_type            799\n",
       "comment_count              83\n",
       "dtype: int64"
      ]
     },
     "execution_count": 23,
     "metadata": {},
     "output_type": "execute_result"
    }
   ],
   "source": [
    "#Utilisation de la méthode .isnull() qui permet de comptabiliser le nombre de valeurs manquantes par variable. \n",
    "df_web.isnull().sum()"
   ]
  },
  {
   "cell_type": "markdown",
   "id": "5611959d",
   "metadata": {
    "hidden": true
   },
   "source": [
    "Lorsque nous avons afficher les premières lignes du df, on a pu remarquer que de nombreuses colonnes contiennent des valeurs = 0. Or, si ces variables en contiennent trop alors cette dernière ne sera pas utile pour notre étude. "
   ]
  },
  {
   "cell_type": "code",
   "execution_count": 24,
   "id": "60ab8323",
   "metadata": {
    "hidden": true
   },
   "outputs": [
    {
     "name": "stdout",
     "output_type": "stream",
     "text": [
      "Nombre de zéros dans 'sku': 0\n",
      "Nombre de zéros dans 'virtual': 1513\n",
      "Nombre de zéros dans 'downloadable': 1513\n",
      "Nombre de zéros dans 'rating_count': 1513\n",
      "Nombre de zéros dans 'average_rating': 1430\n",
      "Nombre de zéros dans 'total_sales': 658\n",
      "Nombre de zéros dans 'tax_status': 0\n",
      "Nombre de zéros dans 'tax_class': 0\n",
      "Nombre de zéros dans 'post_author': 0\n",
      "Nombre de zéros dans 'post_date': 0\n",
      "Nombre de zéros dans 'post_date_gmt': 0\n",
      "Nombre de zéros dans 'post_content': 0\n",
      "Nombre de zéros dans 'post_title': 0\n",
      "Nombre de zéros dans 'post_excerpt': 0\n",
      "Nombre de zéros dans 'post_status': 0\n",
      "Nombre de zéros dans 'comment_status': 0\n",
      "Nombre de zéros dans 'ping_status': 0\n",
      "Nombre de zéros dans 'post_password': 0\n",
      "Nombre de zéros dans 'post_name': 0\n",
      "Nombre de zéros dans 'post_modified': 0\n",
      "Nombre de zéros dans 'post_modified_gmt': 0\n",
      "Nombre de zéros dans 'post_content_filtered': 0\n",
      "Nombre de zéros dans 'post_parent': 1430\n",
      "Nombre de zéros dans 'guid': 0\n",
      "Nombre de zéros dans 'menu_order': 1430\n",
      "Nombre de zéros dans 'post_type': 0\n",
      "Nombre de zéros dans 'post_mime_type': 0\n",
      "Nombre de zéros dans 'comment_count': 1430\n"
     ]
    }
   ],
   "source": [
    "#Afficher le nombre de valeurs = 0\n",
    "for column in df_web.columns:\n",
    "    nb_zeros = (df_web[column] == 0).sum()\n",
    "    print(f\"Nombre de zéros dans '{column}': {nb_zeros}\")"
   ]
  },
  {
   "cell_type": "markdown",
   "id": "f8756cb4",
   "metadata": {
    "hidden": true
   },
   "source": [
    "<div style=\"border: 1px solid RGB(173,40,59);\"\n",
    "     \n",
    "**OBSERVATIONS :** \n",
    "     \n",
    "**- 4 variables sont vides :** 'tax_class', 'post_content', 'post_password', 'post_content_filtered' *-> Aucune information*\n",
    "    \n",
    "**- 3 variables ont 797 et 799 valeurs manquantes :** 'tax_status', 'post_excerpt', 'post_mime_type' *-> Oublie de ces variables car beaucoup de valeurs manquantes*\n",
    "**- 3 variables contiennent uniquement des valeurs égales 0 :** 'virtual', 'downloadable', 'rating_count' \n",
    "*-> Aucune information*\n",
    "\n",
    "**- 4 variables ont une grande partie de leurs valeurs égales à 0 :** 'average_rating', 'post_parent', 'menu_order', 'comment_count' *-> Oublie de ces variables car beaucoup de valeurs égales à 0*\n",
    "\n",
    "**- 9 variables concerne la publication du produit et non la vente du produit :** 'post_author', 'post_date', 'post_date_gmt', 'post_status', 'comment_status', 'ping_status', 'post_name', 'post_modified', 'post_modified_gmt' *-> N'apporte aucune valeur ajoutée à l'étude\n",
    "\n",
    "Nous pouvons donc supprimer ces variables. "
   ]
  },
  {
   "cell_type": "code",
   "execution_count": 25,
   "id": "9aab4530",
   "metadata": {
    "hidden": true
   },
   "outputs": [],
   "source": [
    "#Pour plus de clarté, suppression des 23 variables. \n",
    "df_web.drop(columns=['tax_class', 'post_content', 'post_password', 'post_content_filtered', 'tax_status', 'post_excerpt', 'post_mime_type', 'virtual', 'downloadable', 'rating_count', 'average_rating', 'post_parent', 'menu_order', 'comment_count', 'post_author', 'post_date', 'post_date_gmt', 'post_status', 'comment_status', 'ping_status', 'post_name','post_name', 'post_modified', 'post_modified_gmt'], inplace=True) "
   ]
  },
  {
   "cell_type": "code",
   "execution_count": 26,
   "id": "9661d81b",
   "metadata": {
    "hidden": true
   },
   "outputs": [
    {
     "data": {
      "text/html": [
       "<div>\n",
       "<style scoped>\n",
       "    .dataframe tbody tr th:only-of-type {\n",
       "        vertical-align: middle;\n",
       "    }\n",
       "\n",
       "    .dataframe tbody tr th {\n",
       "        vertical-align: top;\n",
       "    }\n",
       "\n",
       "    .dataframe thead th {\n",
       "        text-align: right;\n",
       "    }\n",
       "</style>\n",
       "<table border=\"1\" class=\"dataframe\">\n",
       "  <thead>\n",
       "    <tr style=\"text-align: right;\">\n",
       "      <th></th>\n",
       "      <th>sku</th>\n",
       "      <th>total_sales</th>\n",
       "      <th>post_title</th>\n",
       "      <th>guid</th>\n",
       "      <th>post_type</th>\n",
       "    </tr>\n",
       "  </thead>\n",
       "  <tbody>\n",
       "    <tr>\n",
       "      <th>0</th>\n",
       "      <td>16004</td>\n",
       "      <td>5.0</td>\n",
       "      <td>Château du Couvent Pomerol 2017</td>\n",
       "      <td>https://www.bottle-neck.fr/wp-content/uploads/...</td>\n",
       "      <td>attachment</td>\n",
       "    </tr>\n",
       "    <tr>\n",
       "      <th>1</th>\n",
       "      <td>NaN</td>\n",
       "      <td>NaN</td>\n",
       "      <td>NaN</td>\n",
       "      <td>NaN</td>\n",
       "      <td>NaN</td>\n",
       "    </tr>\n",
       "    <tr>\n",
       "      <th>2</th>\n",
       "      <td>15075</td>\n",
       "      <td>3.0</td>\n",
       "      <td>Parés Baltà Penedès Indigena 2017</td>\n",
       "      <td>https://www.bottle-neck.fr/?post_type=product&amp;...</td>\n",
       "      <td>product</td>\n",
       "    </tr>\n",
       "    <tr>\n",
       "      <th>3</th>\n",
       "      <td>16209</td>\n",
       "      <td>6.0</td>\n",
       "      <td>Maurel Cabardès Tradition 2017</td>\n",
       "      <td>https://www.bottle-neck.fr/?post_type=product&amp;...</td>\n",
       "      <td>product</td>\n",
       "    </tr>\n",
       "    <tr>\n",
       "      <th>4</th>\n",
       "      <td>15763</td>\n",
       "      <td>1.0</td>\n",
       "      <td>Domaine de la Monardière Vacqueyras Vieilles V...</td>\n",
       "      <td>https://www.bottle-neck.fr/wp-content/uploads/...</td>\n",
       "      <td>attachment</td>\n",
       "    </tr>\n",
       "    <tr>\n",
       "      <th>...</th>\n",
       "      <td>...</td>\n",
       "      <td>...</td>\n",
       "      <td>...</td>\n",
       "      <td>...</td>\n",
       "      <td>...</td>\n",
       "    </tr>\n",
       "    <tr>\n",
       "      <th>1508</th>\n",
       "      <td>12881</td>\n",
       "      <td>2.0</td>\n",
       "      <td>Domaine de Montbourgeau L'Etoile Vin Jaune 2009</td>\n",
       "      <td>https://www.bottle-neck.fr/wp-content/uploads/...</td>\n",
       "      <td>attachment</td>\n",
       "    </tr>\n",
       "    <tr>\n",
       "      <th>1509</th>\n",
       "      <td>15663</td>\n",
       "      <td>3.0</td>\n",
       "      <td>Chermette Domaine du Vissoux Brouilly Pierreux...</td>\n",
       "      <td>https://www.bottle-neck.fr/?post_type=product&amp;...</td>\n",
       "      <td>product</td>\n",
       "    </tr>\n",
       "    <tr>\n",
       "      <th>1510</th>\n",
       "      <td>15910</td>\n",
       "      <td>0.0</td>\n",
       "      <td>Thevenet Quintaine Viré-Clessé La Bongran 2015</td>\n",
       "      <td>https://www.bottle-neck.fr/?post_type=product&amp;...</td>\n",
       "      <td>product</td>\n",
       "    </tr>\n",
       "    <tr>\n",
       "      <th>1511</th>\n",
       "      <td>38</td>\n",
       "      <td>38.0</td>\n",
       "      <td>Emile Boeckel Crémant Brut Blanc de Blancs</td>\n",
       "      <td>https://www.bottle-neck.fr/wp-content/uploads/...</td>\n",
       "      <td>attachment</td>\n",
       "    </tr>\n",
       "    <tr>\n",
       "      <th>1512</th>\n",
       "      <td>13599</td>\n",
       "      <td>1.0</td>\n",
       "      <td>Champagne Mailly Grand Cru Blanc de Pinot Noir</td>\n",
       "      <td>https://www.bottle-neck.fr/wp-content/uploads/...</td>\n",
       "      <td>attachment</td>\n",
       "    </tr>\n",
       "  </tbody>\n",
       "</table>\n",
       "<p>1513 rows × 5 columns</p>\n",
       "</div>"
      ],
      "text/plain": [
       "        sku  total_sales                                         post_title  \\\n",
       "0     16004          5.0                    Château du Couvent Pomerol 2017   \n",
       "1       NaN          NaN                                                NaN   \n",
       "2     15075          3.0                  Parés Baltà Penedès Indigena 2017   \n",
       "3     16209          6.0                     Maurel Cabardès Tradition 2017   \n",
       "4     15763          1.0  Domaine de la Monardière Vacqueyras Vieilles V...   \n",
       "...     ...          ...                                                ...   \n",
       "1508  12881          2.0    Domaine de Montbourgeau L'Etoile Vin Jaune 2009   \n",
       "1509  15663          3.0  Chermette Domaine du Vissoux Brouilly Pierreux...   \n",
       "1510  15910          0.0     Thevenet Quintaine Viré-Clessé La Bongran 2015   \n",
       "1511     38         38.0         Emile Boeckel Crémant Brut Blanc de Blancs   \n",
       "1512  13599          1.0     Champagne Mailly Grand Cru Blanc de Pinot Noir   \n",
       "\n",
       "                                                   guid   post_type  \n",
       "0     https://www.bottle-neck.fr/wp-content/uploads/...  attachment  \n",
       "1                                                   NaN         NaN  \n",
       "2     https://www.bottle-neck.fr/?post_type=product&...     product  \n",
       "3     https://www.bottle-neck.fr/?post_type=product&...     product  \n",
       "4     https://www.bottle-neck.fr/wp-content/uploads/...  attachment  \n",
       "...                                                 ...         ...  \n",
       "1508  https://www.bottle-neck.fr/wp-content/uploads/...  attachment  \n",
       "1509  https://www.bottle-neck.fr/?post_type=product&...     product  \n",
       "1510  https://www.bottle-neck.fr/?post_type=product&...     product  \n",
       "1511  https://www.bottle-neck.fr/wp-content/uploads/...  attachment  \n",
       "1512  https://www.bottle-neck.fr/wp-content/uploads/...  attachment  \n",
       "\n",
       "[1513 rows x 5 columns]"
      ]
     },
     "execution_count": 26,
     "metadata": {},
     "output_type": "execute_result"
    }
   ],
   "source": [
    "#Afficher le nouveau df\n",
    "df_web"
   ]
  },
  {
   "cell_type": "markdown",
   "id": "b64406fc",
   "metadata": {
    "hidden": true
   },
   "source": [
    "Avec ce nouveau df, nous pouvons voir la référence du produit associé à : \n",
    "- son nombre de vente \n",
    "- son nom\n",
    "- son lien en ligne\n",
    "- son type (si c'est le produit en lui-même ou l'image correspondante)"
   ]
  },
  {
   "cell_type": "code",
   "execution_count": 27,
   "id": "eb93a542",
   "metadata": {
    "hidden": true
   },
   "outputs": [
    {
     "data": {
      "text/plain": [
       "sku            85\n",
       "total_sales    83\n",
       "post_title     83\n",
       "guid           83\n",
       "post_type      83\n",
       "dtype: int64"
      ]
     },
     "execution_count": 27,
     "metadata": {},
     "output_type": "execute_result"
    }
   ],
   "source": [
    "#Afficher le nombre de valeurs manquantes\n",
    "df_web.isnull().sum()"
   ]
  },
  {
   "cell_type": "markdown",
   "id": "52b1f21a",
   "metadata": {
    "hidden": true
   },
   "source": [
    "<div style=\"border: 1px solid RGB(173,40,59);\"\n",
    "     \n",
    "**OBSERVATIONS :**\n",
    "     \n",
    "Toutes les variables ont 83 valeurs manquantes hormis la varibale 'sku' qui en a 85. Cela veut dire que 2 produits ont leur identifiant qui est manquant alors qu'ils ont bien été vendus. Donc nous allons regarder cela plus en détail et ainsi le corriger il s'agit sûrement d'une erreur."
   ]
  },
  {
   "cell_type": "code",
   "execution_count": 28,
   "id": "a6d5741b",
   "metadata": {
    "hidden": true
   },
   "outputs": [],
   "source": [
    "#Sélection des lignes de la variable 'sku' contenant des valeurs NaN\n",
    "sku_na = df_web.loc[df_web['sku'].isna(),:]"
   ]
  },
  {
   "cell_type": "code",
   "execution_count": 29,
   "id": "082885a1",
   "metadata": {
    "hidden": true
   },
   "outputs": [
    {
     "data": {
      "text/html": [
       "<div>\n",
       "<style scoped>\n",
       "    .dataframe tbody tr th:only-of-type {\n",
       "        vertical-align: middle;\n",
       "    }\n",
       "\n",
       "    .dataframe tbody tr th {\n",
       "        vertical-align: top;\n",
       "    }\n",
       "\n",
       "    .dataframe thead th {\n",
       "        text-align: right;\n",
       "    }\n",
       "</style>\n",
       "<table border=\"1\" class=\"dataframe\">\n",
       "  <thead>\n",
       "    <tr style=\"text-align: right;\">\n",
       "      <th></th>\n",
       "      <th>sku</th>\n",
       "      <th>total_sales</th>\n",
       "      <th>post_title</th>\n",
       "      <th>guid</th>\n",
       "      <th>post_type</th>\n",
       "    </tr>\n",
       "  </thead>\n",
       "  <tbody>\n",
       "    <tr>\n",
       "      <th>353</th>\n",
       "      <td>NaN</td>\n",
       "      <td>3.0</td>\n",
       "      <td>Pierre Jean Villa Condrieu Jardin Suspendu 2018</td>\n",
       "      <td>https://www.bottle-neck.fr/?post_type=product&amp;#038;p=</td>\n",
       "      <td>product</td>\n",
       "    </tr>\n",
       "    <tr>\n",
       "      <th>488</th>\n",
       "      <td>NaN</td>\n",
       "      <td>10.0</td>\n",
       "      <td>Pierre Jean Villa Côte Rôtie Fongeant 2017</td>\n",
       "      <td>https://www.bottle-neck.fr/?post_type=product&amp;#038;p=</td>\n",
       "      <td>product</td>\n",
       "    </tr>\n",
       "  </tbody>\n",
       "</table>\n",
       "</div>"
      ],
      "text/plain": [
       "     sku  total_sales                                       post_title  \\\n",
       "353  NaN          3.0  Pierre Jean Villa Condrieu Jardin Suspendu 2018   \n",
       "488  NaN         10.0       Pierre Jean Villa Côte Rôtie Fongeant 2017   \n",
       "\n",
       "                                                      guid post_type  \n",
       "353  https://www.bottle-neck.fr/?post_type=product&#038;p=   product  \n",
       "488  https://www.bottle-neck.fr/?post_type=product&#038;p=   product  "
      ]
     },
     "execution_count": 29,
     "metadata": {},
     "output_type": "execute_result"
    }
   ],
   "source": [
    "#Méthode .loc permet de sélectionner que les lignes dont les valeurs sont des NaN\n",
    "# ~ placé en amont prend l'inverse de la condition (l'ensemble des lignes dont le titre du poste n'est pas manquant)\n",
    "sku_na = sku_na.loc[~sku_na['post_title'].isna(),:]\n",
    "pd.set_option('max_colwidth', None)\n",
    "sku_na"
   ]
  },
  {
   "cell_type": "markdown",
   "id": "633c0f3d",
   "metadata": {
    "hidden": true
   },
   "source": [
    "On peut voir que les produits des lignes 353 et 488  ont leur 'sku' manquant alors que les autres variables ne sont pas manquantes. Mais ici, il n'est pas possible de retrouver la référence 'sku' car celle-ci n'est pas indiquée non plus dans la variable 'guid'. "
   ]
  },
  {
   "cell_type": "markdown",
   "id": "6214abe6",
   "metadata": {
    "hidden": true
   },
   "source": [
    "La variable 'sku' étant importante dans notre analyse, nous ne pouvons pas garder les valeurs manquantes. Nous allons donc nous allons créer un sous-échantillon dans lequel les lignes des valeurs manquantes seront supprimées. "
   ]
  },
  {
   "cell_type": "code",
   "execution_count": 30,
   "id": "f487a4f7",
   "metadata": {
    "hidden": true
   },
   "outputs": [],
   "source": [
    "#Création d'un sous-échantillon\n",
    "df_ss_web = df_web.loc[df_web['sku'].notna()]"
   ]
  },
  {
   "cell_type": "code",
   "execution_count": 31,
   "id": "727b148b",
   "metadata": {
    "hidden": true
   },
   "outputs": [
    {
     "data": {
      "text/plain": [
       "sku            0\n",
       "total_sales    0\n",
       "post_title     0\n",
       "guid           0\n",
       "post_type      0\n",
       "dtype: int64"
      ]
     },
     "execution_count": 31,
     "metadata": {},
     "output_type": "execute_result"
    }
   ],
   "source": [
    "#Afficher les valeurs manquantes sur le sous-échantillon\n",
    "df_ss_web.isnull().sum()"
   ]
  },
  {
   "cell_type": "code",
   "execution_count": 32,
   "id": "0934f928",
   "metadata": {
    "hidden": true
   },
   "outputs": [
    {
     "data": {
      "text/plain": [
       "(1428, 5)"
      ]
     },
     "execution_count": 32,
     "metadata": {},
     "output_type": "execute_result"
    }
   ],
   "source": [
    "df_ss_web.shape"
   ]
  },
  {
   "cell_type": "markdown",
   "id": "c4a839c0",
   "metadata": {
    "hidden": true
   },
   "source": [
    "<div style=\"border: 1px solid RGB(173,40,59);\"\n",
    "     \n",
    "**OBSERVATIONS :** \n",
    "     \n",
    "- Il n'y a plus de valeurs manquantes dans le fichier WEB. "
   ]
  },
  {
   "cell_type": "markdown",
   "id": "1a7e6ab0",
   "metadata": {
    "heading_collapsed": true,
    "hidden": true
   },
   "source": [
    "####\n",
    "<h4 style=\"margin: auto; padding: 20px; color: RGB(29,29,27); \">\n",
    "c. Doublons <a class='anchor' id='c.-doublons'></a> </h4>"
   ]
  },
  {
   "cell_type": "markdown",
   "id": "35f683e0",
   "metadata": {
    "hidden": true
   },
   "source": [
    "À présent, nous observons si certains produits apparaissent en doublons. \n",
    "Pour vérifier cela, on se focalise sur des informations qui ne peuvent normalement pas être en double, soit : `['sku']` (clé primaire). Sur cette variable, on ne doit pas avoir deux produits identiques."
   ]
  },
  {
   "cell_type": "code",
   "execution_count": 33,
   "id": "67c9e744",
   "metadata": {
    "hidden": true
   },
   "outputs": [
    {
     "data": {
      "text/plain": [
       "714"
      ]
     },
     "execution_count": 33,
     "metadata": {},
     "output_type": "execute_result"
    }
   ],
   "source": [
    "df_ss_web['sku'].duplicated().sum()"
   ]
  },
  {
   "cell_type": "code",
   "execution_count": 34,
   "id": "b9e0725b",
   "metadata": {
    "hidden": true
   },
   "outputs": [
    {
     "data": {
      "text/html": [
       "<div>\n",
       "<style scoped>\n",
       "    .dataframe tbody tr th:only-of-type {\n",
       "        vertical-align: middle;\n",
       "    }\n",
       "\n",
       "    .dataframe tbody tr th {\n",
       "        vertical-align: top;\n",
       "    }\n",
       "\n",
       "    .dataframe thead th {\n",
       "        text-align: right;\n",
       "    }\n",
       "</style>\n",
       "<table border=\"1\" class=\"dataframe\">\n",
       "  <thead>\n",
       "    <tr style=\"text-align: right;\">\n",
       "      <th></th>\n",
       "      <th>sku</th>\n",
       "      <th>total_sales</th>\n",
       "      <th>post_title</th>\n",
       "      <th>guid</th>\n",
       "      <th>post_type</th>\n",
       "    </tr>\n",
       "  </thead>\n",
       "  <tbody>\n",
       "    <tr>\n",
       "      <th>0</th>\n",
       "      <td>16004</td>\n",
       "      <td>5.0</td>\n",
       "      <td>Château du Couvent Pomerol 2017</td>\n",
       "      <td>https://www.bottle-neck.fr/wp-content/uploads/2020/03/chateau-du-couvent-pomerol-2017.jpg</td>\n",
       "      <td>attachment</td>\n",
       "    </tr>\n",
       "    <tr>\n",
       "      <th>2</th>\n",
       "      <td>15075</td>\n",
       "      <td>3.0</td>\n",
       "      <td>Parés Baltà Penedès Indigena 2017</td>\n",
       "      <td>https://www.bottle-neck.fr/?post_type=product&amp;#038;p=15075</td>\n",
       "      <td>product</td>\n",
       "    </tr>\n",
       "    <tr>\n",
       "      <th>3</th>\n",
       "      <td>16209</td>\n",
       "      <td>6.0</td>\n",
       "      <td>Maurel Cabardès Tradition 2017</td>\n",
       "      <td>https://www.bottle-neck.fr/?post_type=product&amp;#038;p=16209</td>\n",
       "      <td>product</td>\n",
       "    </tr>\n",
       "    <tr>\n",
       "      <th>4</th>\n",
       "      <td>15763</td>\n",
       "      <td>1.0</td>\n",
       "      <td>Domaine de la Monardière Vacqueyras Vieilles Vignes 2016</td>\n",
       "      <td>https://www.bottle-neck.fr/wp-content/uploads/2020/03/domaine-de-la-monardiere-vacqueyras-les-vieilles-vignes-2016.jpg</td>\n",
       "      <td>attachment</td>\n",
       "    </tr>\n",
       "    <tr>\n",
       "      <th>5</th>\n",
       "      <td>13895</td>\n",
       "      <td>0.0</td>\n",
       "      <td>Château Saransot-Dupré Bordeaux Blanc 2016</td>\n",
       "      <td>https://www.bottle-neck.fr/?post_type=product&amp;#038;p=13895</td>\n",
       "      <td>product</td>\n",
       "    </tr>\n",
       "    <tr>\n",
       "      <th>...</th>\n",
       "      <td>...</td>\n",
       "      <td>...</td>\n",
       "      <td>...</td>\n",
       "      <td>...</td>\n",
       "      <td>...</td>\n",
       "    </tr>\n",
       "    <tr>\n",
       "      <th>1508</th>\n",
       "      <td>12881</td>\n",
       "      <td>2.0</td>\n",
       "      <td>Domaine de Montbourgeau L'Etoile Vin Jaune 2009</td>\n",
       "      <td>https://www.bottle-neck.fr/wp-content/uploads/2020/03/montbourgeau-etoile-vin-jaune-2009.jpg</td>\n",
       "      <td>attachment</td>\n",
       "    </tr>\n",
       "    <tr>\n",
       "      <th>1509</th>\n",
       "      <td>15663</td>\n",
       "      <td>3.0</td>\n",
       "      <td>Chermette Domaine du Vissoux Brouilly Pierreux 2018</td>\n",
       "      <td>https://www.bottle-neck.fr/?post_type=product&amp;#038;p=15663</td>\n",
       "      <td>product</td>\n",
       "    </tr>\n",
       "    <tr>\n",
       "      <th>1510</th>\n",
       "      <td>15910</td>\n",
       "      <td>0.0</td>\n",
       "      <td>Thevenet Quintaine Viré-Clessé La Bongran 2015</td>\n",
       "      <td>https://www.bottle-neck.fr/?post_type=product&amp;#038;p=15910</td>\n",
       "      <td>product</td>\n",
       "    </tr>\n",
       "    <tr>\n",
       "      <th>1511</th>\n",
       "      <td>38</td>\n",
       "      <td>38.0</td>\n",
       "      <td>Emile Boeckel Crémant Brut Blanc de Blancs</td>\n",
       "      <td>https://www.bottle-neck.fr/wp-content/uploads/2020/03/emile-boeckel-cremant-brut-blanc-de-blancs.jpg</td>\n",
       "      <td>attachment</td>\n",
       "    </tr>\n",
       "    <tr>\n",
       "      <th>1512</th>\n",
       "      <td>13599</td>\n",
       "      <td>1.0</td>\n",
       "      <td>Champagne Mailly Grand Cru Blanc de Pinot Noir</td>\n",
       "      <td>https://www.bottle-neck.fr/wp-content/uploads/2020/03/champagne-mailly-grand-cru-blanc-de-pinot-noir.jpg</td>\n",
       "      <td>attachment</td>\n",
       "    </tr>\n",
       "  </tbody>\n",
       "</table>\n",
       "<p>1428 rows × 5 columns</p>\n",
       "</div>"
      ],
      "text/plain": [
       "        sku  total_sales  \\\n",
       "0     16004          5.0   \n",
       "2     15075          3.0   \n",
       "3     16209          6.0   \n",
       "4     15763          1.0   \n",
       "5     13895          0.0   \n",
       "...     ...          ...   \n",
       "1508  12881          2.0   \n",
       "1509  15663          3.0   \n",
       "1510  15910          0.0   \n",
       "1511     38         38.0   \n",
       "1512  13599          1.0   \n",
       "\n",
       "                                                    post_title  \\\n",
       "0                              Château du Couvent Pomerol 2017   \n",
       "2                            Parés Baltà Penedès Indigena 2017   \n",
       "3                               Maurel Cabardès Tradition 2017   \n",
       "4     Domaine de la Monardière Vacqueyras Vieilles Vignes 2016   \n",
       "5                   Château Saransot-Dupré Bordeaux Blanc 2016   \n",
       "...                                                        ...   \n",
       "1508           Domaine de Montbourgeau L'Etoile Vin Jaune 2009   \n",
       "1509       Chermette Domaine du Vissoux Brouilly Pierreux 2018   \n",
       "1510            Thevenet Quintaine Viré-Clessé La Bongran 2015   \n",
       "1511                Emile Boeckel Crémant Brut Blanc de Blancs   \n",
       "1512            Champagne Mailly Grand Cru Blanc de Pinot Noir   \n",
       "\n",
       "                                                                                                                        guid  \\\n",
       "0                                  https://www.bottle-neck.fr/wp-content/uploads/2020/03/chateau-du-couvent-pomerol-2017.jpg   \n",
       "2                                                                 https://www.bottle-neck.fr/?post_type=product&#038;p=15075   \n",
       "3                                                                 https://www.bottle-neck.fr/?post_type=product&#038;p=16209   \n",
       "4     https://www.bottle-neck.fr/wp-content/uploads/2020/03/domaine-de-la-monardiere-vacqueyras-les-vieilles-vignes-2016.jpg   \n",
       "5                                                                 https://www.bottle-neck.fr/?post_type=product&#038;p=13895   \n",
       "...                                                                                                                      ...   \n",
       "1508                            https://www.bottle-neck.fr/wp-content/uploads/2020/03/montbourgeau-etoile-vin-jaune-2009.jpg   \n",
       "1509                                                              https://www.bottle-neck.fr/?post_type=product&#038;p=15663   \n",
       "1510                                                              https://www.bottle-neck.fr/?post_type=product&#038;p=15910   \n",
       "1511                    https://www.bottle-neck.fr/wp-content/uploads/2020/03/emile-boeckel-cremant-brut-blanc-de-blancs.jpg   \n",
       "1512                https://www.bottle-neck.fr/wp-content/uploads/2020/03/champagne-mailly-grand-cru-blanc-de-pinot-noir.jpg   \n",
       "\n",
       "       post_type  \n",
       "0     attachment  \n",
       "2        product  \n",
       "3        product  \n",
       "4     attachment  \n",
       "5        product  \n",
       "...          ...  \n",
       "1508  attachment  \n",
       "1509     product  \n",
       "1510     product  \n",
       "1511  attachment  \n",
       "1512  attachment  \n",
       "\n",
       "[1428 rows x 5 columns]"
      ]
     },
     "execution_count": 34,
     "metadata": {},
     "output_type": "execute_result"
    }
   ],
   "source": [
    "df_ss_web"
   ]
  },
  {
   "cell_type": "code",
   "execution_count": 35,
   "id": "21b97fd6",
   "metadata": {
    "hidden": true
   },
   "outputs": [
    {
     "data": {
      "text/html": [
       "<div>\n",
       "<style scoped>\n",
       "    .dataframe tbody tr th:only-of-type {\n",
       "        vertical-align: middle;\n",
       "    }\n",
       "\n",
       "    .dataframe tbody tr th {\n",
       "        vertical-align: top;\n",
       "    }\n",
       "\n",
       "    .dataframe thead th {\n",
       "        text-align: right;\n",
       "    }\n",
       "</style>\n",
       "<table border=\"1\" class=\"dataframe\">\n",
       "  <thead>\n",
       "    <tr style=\"text-align: right;\">\n",
       "      <th></th>\n",
       "      <th>sku</th>\n",
       "      <th>total_sales</th>\n",
       "      <th>post_title</th>\n",
       "      <th>guid</th>\n",
       "      <th>post_type</th>\n",
       "    </tr>\n",
       "  </thead>\n",
       "  <tbody>\n",
       "    <tr>\n",
       "      <th>0</th>\n",
       "      <td>16004</td>\n",
       "      <td>5.0</td>\n",
       "      <td>Château du Couvent Pomerol 2017</td>\n",
       "      <td>https://www.bottle-neck.fr/wp-content/uploads/2020/03/chateau-du-couvent-pomerol-2017.jpg</td>\n",
       "      <td>attachment</td>\n",
       "    </tr>\n",
       "    <tr>\n",
       "      <th>581</th>\n",
       "      <td>16004</td>\n",
       "      <td>5.0</td>\n",
       "      <td>Château du Couvent Pomerol 2017</td>\n",
       "      <td>https://www.bottle-neck.fr/?post_type=product&amp;#038;p=16004</td>\n",
       "      <td>product</td>\n",
       "    </tr>\n",
       "  </tbody>\n",
       "</table>\n",
       "</div>"
      ],
      "text/plain": [
       "       sku  total_sales                       post_title  \\\n",
       "0    16004          5.0  Château du Couvent Pomerol 2017   \n",
       "581  16004          5.0  Château du Couvent Pomerol 2017   \n",
       "\n",
       "                                                                                          guid  \\\n",
       "0    https://www.bottle-neck.fr/wp-content/uploads/2020/03/chateau-du-couvent-pomerol-2017.jpg   \n",
       "581                                 https://www.bottle-neck.fr/?post_type=product&#038;p=16004   \n",
       "\n",
       "      post_type  \n",
       "0    attachment  \n",
       "581     product  "
      ]
     },
     "execution_count": 35,
     "metadata": {},
     "output_type": "execute_result"
    }
   ],
   "source": [
    "#Vérifie un sku au hasard \n",
    "sku_doublon = df_ss_web[df_ss_web['sku']==16004]\n",
    "sku_doublon"
   ]
  },
  {
   "cell_type": "markdown",
   "id": "3d3865f5",
   "metadata": {
    "hidden": true
   },
   "source": [
    "714 produits sont en doublons car chaque produit vendu est repertorié 2 fois : le produit en lui-même et l'image du produit ('post_type'). Or, ce fichier répertorie les ventes des produits. Ils ne doivent pas apparaître 2 fois. Il est plus important dans notre étude de garder le post du produit car il est possible que l'image du produit n'est pas été postée. Or, nous sommes certain que le produit a été posté pour qu'il puisse être vendu.   "
   ]
  },
  {
   "cell_type": "code",
   "execution_count": 36,
   "id": "36c6e671",
   "metadata": {
    "hidden": true
   },
   "outputs": [
    {
     "data": {
      "text/html": [
       "<div>\n",
       "<style scoped>\n",
       "    .dataframe tbody tr th:only-of-type {\n",
       "        vertical-align: middle;\n",
       "    }\n",
       "\n",
       "    .dataframe tbody tr th {\n",
       "        vertical-align: top;\n",
       "    }\n",
       "\n",
       "    .dataframe thead th {\n",
       "        text-align: right;\n",
       "    }\n",
       "</style>\n",
       "<table border=\"1\" class=\"dataframe\">\n",
       "  <thead>\n",
       "    <tr style=\"text-align: right;\">\n",
       "      <th></th>\n",
       "      <th>sku</th>\n",
       "      <th>total_sales</th>\n",
       "      <th>post_title</th>\n",
       "      <th>guid</th>\n",
       "      <th>post_type</th>\n",
       "    </tr>\n",
       "  </thead>\n",
       "  <tbody>\n",
       "    <tr>\n",
       "      <th>0</th>\n",
       "      <td>16004</td>\n",
       "      <td>5.0</td>\n",
       "      <td>Château du Couvent Pomerol 2017</td>\n",
       "      <td>https://www.bottle-neck.fr/wp-content/uploads/2020/03/chateau-du-couvent-pomerol-2017.jpg</td>\n",
       "      <td>attachment</td>\n",
       "    </tr>\n",
       "    <tr>\n",
       "      <th>581</th>\n",
       "      <td>16004</td>\n",
       "      <td>5.0</td>\n",
       "      <td>Château du Couvent Pomerol 2017</td>\n",
       "      <td>https://www.bottle-neck.fr/?post_type=product&amp;#038;p=16004</td>\n",
       "      <td>product</td>\n",
       "    </tr>\n",
       "  </tbody>\n",
       "</table>\n",
       "</div>"
      ],
      "text/plain": [
       "       sku  total_sales                       post_title  \\\n",
       "0    16004          5.0  Château du Couvent Pomerol 2017   \n",
       "581  16004          5.0  Château du Couvent Pomerol 2017   \n",
       "\n",
       "                                                                                          guid  \\\n",
       "0    https://www.bottle-neck.fr/wp-content/uploads/2020/03/chateau-du-couvent-pomerol-2017.jpg   \n",
       "581                                 https://www.bottle-neck.fr/?post_type=product&#038;p=16004   \n",
       "\n",
       "      post_type  \n",
       "0    attachment  \n",
       "581     product  "
      ]
     },
     "execution_count": 36,
     "metadata": {},
     "output_type": "execute_result"
    }
   ],
   "source": [
    "sku_doublon = df_ss_web[df_ss_web['sku']==16004]\n",
    "sku_doublon"
   ]
  },
  {
   "cell_type": "code",
   "execution_count": 37,
   "id": "1a94da11",
   "metadata": {
    "hidden": true
   },
   "outputs": [
    {
     "data": {
      "text/plain": [
       "0"
      ]
     },
     "execution_count": 37,
     "metadata": {},
     "output_type": "execute_result"
    }
   ],
   "source": [
    "#Filtre du df sur les valeurs 'product'\n",
    "df_ss_web = df_ss_web.loc[df_web['post_type']=='product',:]\n",
    "#Affichage du nombre de doublons\n",
    "df_ss_web['sku'].duplicated().sum()"
   ]
  },
  {
   "cell_type": "markdown",
   "id": "cd3d535e",
   "metadata": {
    "heading_collapsed": true,
    "hidden": true
   },
   "source": [
    "####\n",
    "<h4 style=\"margin: auto; padding: 20px; color: RGB(29,29,27); \">\n",
    "d. Détection des outliers <a class='anchor' id='d.-detection-des-outliers'></a> </h4>"
   ]
  },
  {
   "cell_type": "code",
   "execution_count": 38,
   "id": "0dbef6bd",
   "metadata": {
    "hidden": true
   },
   "outputs": [
    {
     "data": {
      "text/html": [
       "<div>\n",
       "<style scoped>\n",
       "    .dataframe tbody tr th:only-of-type {\n",
       "        vertical-align: middle;\n",
       "    }\n",
       "\n",
       "    .dataframe tbody tr th {\n",
       "        vertical-align: top;\n",
       "    }\n",
       "\n",
       "    .dataframe thead th {\n",
       "        text-align: right;\n",
       "    }\n",
       "</style>\n",
       "<table border=\"1\" class=\"dataframe\">\n",
       "  <thead>\n",
       "    <tr style=\"text-align: right;\">\n",
       "      <th></th>\n",
       "      <th>sku</th>\n",
       "      <th>total_sales</th>\n",
       "      <th>post_title</th>\n",
       "      <th>guid</th>\n",
       "      <th>post_type</th>\n",
       "    </tr>\n",
       "  </thead>\n",
       "  <tbody>\n",
       "    <tr>\n",
       "      <th>count</th>\n",
       "      <td>714.0</td>\n",
       "      <td>714.000000</td>\n",
       "      <td>714</td>\n",
       "      <td>714</td>\n",
       "      <td>714</td>\n",
       "    </tr>\n",
       "    <tr>\n",
       "      <th>unique</th>\n",
       "      <td>714.0</td>\n",
       "      <td>NaN</td>\n",
       "      <td>711</td>\n",
       "      <td>714</td>\n",
       "      <td>1</td>\n",
       "    </tr>\n",
       "    <tr>\n",
       "      <th>top</th>\n",
       "      <td>15075.0</td>\n",
       "      <td>NaN</td>\n",
       "      <td>Clos du Mont-Olivet Châteauneuf-du-Pape 2007</td>\n",
       "      <td>https://www.bottle-neck.fr/?post_type=product&amp;#038;p=15075</td>\n",
       "      <td>product</td>\n",
       "    </tr>\n",
       "    <tr>\n",
       "      <th>freq</th>\n",
       "      <td>1.0</td>\n",
       "      <td>NaN</td>\n",
       "      <td>2</td>\n",
       "      <td>1</td>\n",
       "      <td>714</td>\n",
       "    </tr>\n",
       "    <tr>\n",
       "      <th>mean</th>\n",
       "      <td>NaN</td>\n",
       "      <td>4.012605</td>\n",
       "      <td>NaN</td>\n",
       "      <td>NaN</td>\n",
       "      <td>NaN</td>\n",
       "    </tr>\n",
       "    <tr>\n",
       "      <th>std</th>\n",
       "      <td>NaN</td>\n",
       "      <td>8.518183</td>\n",
       "      <td>NaN</td>\n",
       "      <td>NaN</td>\n",
       "      <td>NaN</td>\n",
       "    </tr>\n",
       "    <tr>\n",
       "      <th>min</th>\n",
       "      <td>NaN</td>\n",
       "      <td>0.000000</td>\n",
       "      <td>NaN</td>\n",
       "      <td>NaN</td>\n",
       "      <td>NaN</td>\n",
       "    </tr>\n",
       "    <tr>\n",
       "      <th>25%</th>\n",
       "      <td>NaN</td>\n",
       "      <td>0.000000</td>\n",
       "      <td>NaN</td>\n",
       "      <td>NaN</td>\n",
       "      <td>NaN</td>\n",
       "    </tr>\n",
       "    <tr>\n",
       "      <th>50%</th>\n",
       "      <td>NaN</td>\n",
       "      <td>1.000000</td>\n",
       "      <td>NaN</td>\n",
       "      <td>NaN</td>\n",
       "      <td>NaN</td>\n",
       "    </tr>\n",
       "    <tr>\n",
       "      <th>75%</th>\n",
       "      <td>NaN</td>\n",
       "      <td>4.000000</td>\n",
       "      <td>NaN</td>\n",
       "      <td>NaN</td>\n",
       "      <td>NaN</td>\n",
       "    </tr>\n",
       "    <tr>\n",
       "      <th>max</th>\n",
       "      <td>NaN</td>\n",
       "      <td>96.000000</td>\n",
       "      <td>NaN</td>\n",
       "      <td>NaN</td>\n",
       "      <td>NaN</td>\n",
       "    </tr>\n",
       "  </tbody>\n",
       "</table>\n",
       "</div>"
      ],
      "text/plain": [
       "            sku  total_sales                                    post_title  \\\n",
       "count     714.0   714.000000                                           714   \n",
       "unique    714.0          NaN                                           711   \n",
       "top     15075.0          NaN  Clos du Mont-Olivet Châteauneuf-du-Pape 2007   \n",
       "freq        1.0          NaN                                             2   \n",
       "mean        NaN     4.012605                                           NaN   \n",
       "std         NaN     8.518183                                           NaN   \n",
       "min         NaN     0.000000                                           NaN   \n",
       "25%         NaN     0.000000                                           NaN   \n",
       "50%         NaN     1.000000                                           NaN   \n",
       "75%         NaN     4.000000                                           NaN   \n",
       "max         NaN    96.000000                                           NaN   \n",
       "\n",
       "                                                              guid post_type  \n",
       "count                                                          714       714  \n",
       "unique                                                         714         1  \n",
       "top     https://www.bottle-neck.fr/?post_type=product&#038;p=15075   product  \n",
       "freq                                                             1       714  \n",
       "mean                                                           NaN       NaN  \n",
       "std                                                            NaN       NaN  \n",
       "min                                                            NaN       NaN  \n",
       "25%                                                            NaN       NaN  \n",
       "50%                                                            NaN       NaN  \n",
       "75%                                                            NaN       NaN  \n",
       "max                                                            NaN       NaN  "
      ]
     },
     "execution_count": 38,
     "metadata": {},
     "output_type": "execute_result"
    }
   ],
   "source": [
    "df_ss_web.describe(include = 'all')"
   ]
  },
  {
   "cell_type": "markdown",
   "id": "a0d3db68",
   "metadata": {
    "hidden": true
   },
   "source": [
    "**Analyse des outliers des références web 'sku'**"
   ]
  },
  {
   "cell_type": "code",
   "execution_count": 39,
   "id": "35d57d89",
   "metadata": {
    "hidden": true
   },
   "outputs": [
    {
     "data": {
      "text/html": [
       "<div>\n",
       "<style scoped>\n",
       "    .dataframe tbody tr th:only-of-type {\n",
       "        vertical-align: middle;\n",
       "    }\n",
       "\n",
       "    .dataframe tbody tr th {\n",
       "        vertical-align: top;\n",
       "    }\n",
       "\n",
       "    .dataframe thead th {\n",
       "        text-align: right;\n",
       "    }\n",
       "</style>\n",
       "<table border=\"1\" class=\"dataframe\">\n",
       "  <thead>\n",
       "    <tr style=\"text-align: right;\">\n",
       "      <th></th>\n",
       "      <th>sku</th>\n",
       "      <th>total_sales</th>\n",
       "      <th>post_title</th>\n",
       "      <th>guid</th>\n",
       "      <th>post_type</th>\n",
       "    </tr>\n",
       "  </thead>\n",
       "  <tbody>\n",
       "    <tr>\n",
       "      <th>196</th>\n",
       "      <td>bon-cadeau-25-euros</td>\n",
       "      <td>10.0</td>\n",
       "      <td>Bon cadeau de 25€</td>\n",
       "      <td>https://www.bottle-neck.fr/?post_type=product&amp;#038;p=bon-cadeau-25-euros</td>\n",
       "      <td>product</td>\n",
       "    </tr>\n",
       "    <tr>\n",
       "      <th>503</th>\n",
       "      <td>13127-1</td>\n",
       "      <td>0.0</td>\n",
       "      <td>Clos du Mont-Olivet Châteauneuf-du-Pape 2007</td>\n",
       "      <td>https://www.bottle-neck.fr/?post_type=product&amp;#038;p=13127-1</td>\n",
       "      <td>product</td>\n",
       "    </tr>\n",
       "  </tbody>\n",
       "</table>\n",
       "</div>"
      ],
      "text/plain": [
       "                     sku  total_sales  \\\n",
       "196  bon-cadeau-25-euros         10.0   \n",
       "503              13127-1          0.0   \n",
       "\n",
       "                                       post_title  \\\n",
       "196                             Bon cadeau de 25€   \n",
       "503  Clos du Mont-Olivet Châteauneuf-du-Pape 2007   \n",
       "\n",
       "                                                                         guid  \\\n",
       "196  https://www.bottle-neck.fr/?post_type=product&#038;p=bon-cadeau-25-euros   \n",
       "503              https://www.bottle-neck.fr/?post_type=product&#038;p=13127-1   \n",
       "\n",
       "    post_type  \n",
       "196   product  \n",
       "503   product  "
      ]
     },
     "execution_count": 39,
     "metadata": {},
     "output_type": "execute_result"
    }
   ],
   "source": [
    "#On vérifie si chaque donnée de la variable 'sku' correspond à une suite de chiffres \n",
    "#Donc on sélectionne l'inverse de la condition : les valeurs qui ne sont pas une suite de chiffres\n",
    "df_ss_web[~df_ss_web['sku'].astype(str).str.match(r'^\\d+$')]"
   ]
  },
  {
   "cell_type": "markdown",
   "id": "67d0ecc4",
   "metadata": {
    "hidden": true
   },
   "source": [
    "**Analyse des outliers des produits vendus en ligne**"
   ]
  },
  {
   "cell_type": "markdown",
   "id": "81a04a3d",
   "metadata": {
    "hidden": true
   },
   "source": [
    "Dans le df ERP, nous avons vu que les produits sont classifiés selon 2 valeurs dans la variable 'onsale_web' : \n",
    "- 1 = vendu en ligne\n",
    "- 0 = non vendu en ligne\n",
    "\n",
    "Nous pouvons vérifier si les produits indiqués vendus en ligne dans ce df sont bien répertoriés dans le df WEB. "
   ]
  },
  {
   "cell_type": "code",
   "execution_count": 40,
   "id": "9594a380",
   "metadata": {
    "hidden": true
   },
   "outputs": [
    {
     "data": {
      "text/plain": [
       "717"
      ]
     },
     "execution_count": 40,
     "metadata": {},
     "output_type": "execute_result"
    }
   ],
   "source": [
    "#Création d'une variable contenant seulement les produits indiqués comme étant vendus en ligne\n",
    "product_onsale_erp = df_erp.loc[df_erp['onsale_web']==1]['product_id']\n",
    "product_onsale_erp.count()"
   ]
  },
  {
   "cell_type": "code",
   "execution_count": 41,
   "id": "753abfa5",
   "metadata": {
    "hidden": true
   },
   "outputs": [
    {
     "data": {
      "text/plain": [
       "714"
      ]
     },
     "execution_count": 41,
     "metadata": {},
     "output_type": "execute_result"
    }
   ],
   "source": [
    "#Affichage du nombre de sku présents dans le fichier web\n",
    "df_ss_web['sku'].count()"
   ]
  },
  {
   "cell_type": "markdown",
   "id": "fd697b39",
   "metadata": {
    "hidden": true
   },
   "source": [
    "<div style=\"border: 1px solid RGB(173,40,59);\"\n",
    "     \n",
    "**REMARQUE :** \n",
    "     \n",
    "- 3 produits sont indiqués comme vendus en ligne dans le df ERP mais ne se trouve pas dans le df WEB (ne sont pas vendus en ligne). "
   ]
  },
  {
   "cell_type": "markdown",
   "id": "eeeecb0b",
   "metadata": {
    "heading_collapsed": true,
    "hidden": true
   },
   "source": [
    "###\n",
    "<h3 style=\"margin: auto; padding: 20px; color: RGB(173,40,59); \">\n",
    "2.2.3 Description du df WEB <a class='anchor' id='2.2.3-description-du-df-web'></a> </h3>"
   ]
  },
  {
   "cell_type": "markdown",
   "id": "e140016e",
   "metadata": {
    "hidden": true
   },
   "source": [
    "<div style=\"border: 1px solid RGB(173,40,59);\"\n",
    "     \n",
    "**Fichier WEB :** \n",
    "     \n",
    "- La variable 'sku' est de type object : 2 références ne sont pas numériques : 'bon-cadeau-25-euros' et '13127-1'\n",
    "- 83 valeurs manquantes hormis pour la variable 'sku' qui en contient 85. 2 produits sont donc manquants alors qu'ils contiennent des ventes. \n",
    "- 714 doublons.   \n",
    "- 3 produits sont indiqués comme vendus en ligne dans le df ERP mais ne sont pas dans le df WEB donc ils ne sont pas vendus en ligne.                                                                                                                   "
   ]
  },
  {
   "cell_type": "markdown",
   "id": "7de32dc1",
   "metadata": {
    "heading_collapsed": true,
    "hidden": true
   },
   "source": [
    "## \n",
    "<h2 style=\"margin: auto; padding: 20px; color: RGB(29,29,27); \">\n",
    "2.3 Dataframe LIAISON <a class='anchor' id='2.3-dataframe-liaison'></a> </h2>"
   ]
  },
  {
   "cell_type": "markdown",
   "id": "173fce41",
   "metadata": {
    "hidden": true
   },
   "source": [
    "Chargement du jeu de données du fichier LIAISON dans le dataframe `df_liaison`. "
   ]
  },
  {
   "cell_type": "code",
   "execution_count": 42,
   "id": "2a3b926d",
   "metadata": {
    "hidden": true
   },
   "outputs": [],
   "source": [
    "df_liaison = pd.read_excel('fichier_liaison.xlsx')"
   ]
  },
  {
   "cell_type": "markdown",
   "id": "fcf68c36",
   "metadata": {
    "heading_collapsed": true,
    "hidden": true
   },
   "source": [
    "###\n",
    "<h3 style=\"margin: auto; padding: 20px; color: RGB(173,40,59); \">\n",
    "2.3.1 Analyse exploratoire <a class='anchor' id='2.3.1-analyse-exploratoire'></a> </h3>"
   ]
  },
  {
   "cell_type": "markdown",
   "id": "79c1de07",
   "metadata": {
    "hidden": true
   },
   "source": [
    "Pour réaliser l'analyse exploratoire des données nous allons réaliser plusieurs étapes :\n",
    "- Afficher les premières lignes du df\n",
    "- Afficher les dimensions du df"
   ]
  },
  {
   "cell_type": "markdown",
   "id": "715fd0bd",
   "metadata": {
    "hidden": true
   },
   "source": [
    "**RAPPEL** \n",
    "Ce fichier fait la liaison entre les df ERP et WEB"
   ]
  },
  {
   "cell_type": "code",
   "execution_count": 43,
   "id": "b20a483b",
   "metadata": {
    "hidden": true
   },
   "outputs": [
    {
     "data": {
      "text/html": [
       "<div>\n",
       "<style scoped>\n",
       "    .dataframe tbody tr th:only-of-type {\n",
       "        vertical-align: middle;\n",
       "    }\n",
       "\n",
       "    .dataframe tbody tr th {\n",
       "        vertical-align: top;\n",
       "    }\n",
       "\n",
       "    .dataframe thead th {\n",
       "        text-align: right;\n",
       "    }\n",
       "</style>\n",
       "<table border=\"1\" class=\"dataframe\">\n",
       "  <thead>\n",
       "    <tr style=\"text-align: right;\">\n",
       "      <th></th>\n",
       "      <th>product_id</th>\n",
       "      <th>id_web</th>\n",
       "    </tr>\n",
       "  </thead>\n",
       "  <tbody>\n",
       "    <tr>\n",
       "      <th>0</th>\n",
       "      <td>3847</td>\n",
       "      <td>15298</td>\n",
       "    </tr>\n",
       "    <tr>\n",
       "      <th>1</th>\n",
       "      <td>3849</td>\n",
       "      <td>15296</td>\n",
       "    </tr>\n",
       "    <tr>\n",
       "      <th>2</th>\n",
       "      <td>3850</td>\n",
       "      <td>15300</td>\n",
       "    </tr>\n",
       "    <tr>\n",
       "      <th>3</th>\n",
       "      <td>4032</td>\n",
       "      <td>19814</td>\n",
       "    </tr>\n",
       "    <tr>\n",
       "      <th>4</th>\n",
       "      <td>4039</td>\n",
       "      <td>19815</td>\n",
       "    </tr>\n",
       "  </tbody>\n",
       "</table>\n",
       "</div>"
      ],
      "text/plain": [
       "   product_id id_web\n",
       "0        3847  15298\n",
       "1        3849  15296\n",
       "2        3850  15300\n",
       "3        4032  19814\n",
       "4        4039  19815"
      ]
     },
     "execution_count": 43,
     "metadata": {},
     "output_type": "execute_result"
    }
   ],
   "source": [
    "df_liaison.head()"
   ]
  },
  {
   "cell_type": "code",
   "execution_count": 44,
   "id": "ee90a35e",
   "metadata": {
    "hidden": true
   },
   "outputs": [
    {
     "data": {
      "text/plain": [
       "product_id    825\n",
       "id_web        734\n",
       "dtype: int64"
      ]
     },
     "execution_count": 44,
     "metadata": {},
     "output_type": "execute_result"
    }
   ],
   "source": [
    "df_liaison.count()"
   ]
  },
  {
   "cell_type": "markdown",
   "id": "cc6da537",
   "metadata": {
    "hidden": true
   },
   "source": [
    "<div style=\"border: 1px solid RGB(173,40,59);\" \n",
    "\n",
    "**DESCRIPTION :** \n",
    "\n",
    "Le fichier LIAISON est réparti en 2 variables et contient 825 identifiants de produit et 734 références produits vendus en ligne. \n",
    "\n",
    "Nous pouvons déjà constater 3 éléments : \n",
    "- le nombre de valeurs dans la variable 'product_id' est identique dans les fichiers ERP et LIAISON\n",
    "- La variable id_web correspond à la varibale 'sku' du df WEB\n",
    "- Le nombre de valeurs dans la variable 'id_web' et 'sku' sont différents avec 'id_web' = 734 et 'sku'= 714\n",
    "      "
   ]
  },
  {
   "cell_type": "markdown",
   "id": "2ba4e9d5",
   "metadata": {
    "heading_collapsed": true,
    "hidden": true
   },
   "source": [
    "###\n",
    "<h3 style=\"margin: auto; padding: 20px; color: RGB(173,40,59); \">\n",
    "2.3.2 Nettoyage des données <a class='anchor' id='2.3.2-nettoyage-des-donnees'></a> </h3>"
   ]
  },
  {
   "cell_type": "markdown",
   "id": "e85acd98",
   "metadata": {
    "heading_collapsed": true,
    "hidden": true
   },
   "source": [
    "####\n",
    "<h4 style=\"margin: auto; padding: 20px; color: RGB(29,29,27); \">\n",
    "a. Erreurs de type des variables <a class='anchor' id='a.-erreurs-de-type-des-variables'></a> </h4>"
   ]
  },
  {
   "cell_type": "code",
   "execution_count": 45,
   "id": "4326438d",
   "metadata": {
    "hidden": true
   },
   "outputs": [
    {
     "data": {
      "text/plain": [
       "product_id     int64\n",
       "id_web        object\n",
       "dtype: object"
      ]
     },
     "execution_count": 45,
     "metadata": {},
     "output_type": "execute_result"
    }
   ],
   "source": [
    "df_liaison.dtypes"
   ]
  },
  {
   "cell_type": "markdown",
   "id": "c870f9b3",
   "metadata": {
    "hidden": true
   },
   "source": [
    "Nous pouvons voir que *id_web* est indiqué en `object`. Cela veut dire que Python n'a pas sû déterminer un type natif pour cette variable. Comme pour le df web, cette colonne doit sûrement contenir des valeurs de type 'string' et 'integer'."
   ]
  },
  {
   "cell_type": "markdown",
   "id": "906324f9",
   "metadata": {
    "heading_collapsed": true,
    "hidden": true
   },
   "source": [
    "####\n",
    "<h4 style=\"margin: auto; padding: 20px; color: RGB(29,29,27); \">\n",
    "b. Valeurs manquantes <a class='anchor' id='b.-valeurs-manquantes'></a> </h4>"
   ]
  },
  {
   "cell_type": "code",
   "execution_count": 46,
   "id": "d64ff6f3",
   "metadata": {
    "hidden": true
   },
   "outputs": [
    {
     "data": {
      "text/plain": [
       "product_id     0\n",
       "id_web        91\n",
       "dtype: int64"
      ]
     },
     "execution_count": 46,
     "metadata": {},
     "output_type": "execute_result"
    }
   ],
   "source": [
    "#Utilisation de la méthode .isnull() qui permet de comptabiliser le nombre de valeurs manquantes par variable. \n",
    "df_liaison.isnull().sum()"
   ]
  },
  {
   "cell_type": "markdown",
   "id": "ef618c89",
   "metadata": {
    "hidden": true
   },
   "source": [
    "Il y a 91 identifiants produit manquants dans le df liaison. "
   ]
  },
  {
   "cell_type": "markdown",
   "id": "1d84b82c",
   "metadata": {
    "hidden": true
   },
   "source": [
    "**COMPARAISON ENTRE LES FICHIERS ERP ET LIAISON VIA LE 'PRODUCT_ID'**"
   ]
  },
  {
   "cell_type": "markdown",
   "id": "3cc14294",
   "metadata": {
    "hidden": true
   },
   "source": [
    "Nous savons que les variables 'product_id' des fichiers ERP et LIAISON contiennent le même nombre de valeurs (825). Mais nous allons identifier si elles sont identiques. "
   ]
  },
  {
   "cell_type": "code",
   "execution_count": 47,
   "id": "172929e4",
   "metadata": {
    "hidden": true
   },
   "outputs": [
    {
     "name": "stdout",
     "output_type": "stream",
     "text": [
      "Il y a 0 valeurs différentes entre le df ERP et le df LIAISON.\n"
     ]
    }
   ],
   "source": [
    "#Création d'une variable contenant tous les 'product_id' du fichier ERP\n",
    "product_id = df_erp['product_id'].unique()\n",
    "\n",
    "#Comparaison des 2 fichiers : ~ prend l'inverse de la condition (l'ensemble des lignes qui ne sont pas présentes dans le fichier erp)\n",
    "diff_erp_liaison = df_liaison.loc[~df_liaison['product_id'].isin(product_id),:].shape[0]\n",
    "\n",
    "#Afficher le nombre de valeurs différentes entre les 2 df\n",
    "print(f\"Il y a {diff_erp_liaison} valeurs différentes entre le df ERP et le df LIAISON.\")"
   ]
  },
  {
   "cell_type": "markdown",
   "id": "6a364429",
   "metadata": {
    "hidden": true
   },
   "source": [
    "Toutes les valeurs des variables 'product_id' se correspondent dans les fichiers ERP et LIAISON. "
   ]
  },
  {
   "cell_type": "markdown",
   "id": "9c1f78c5",
   "metadata": {
    "hidden": true
   },
   "source": [
    "**COMPARAISON ENTRE LES FICHIERS WEB ET LIAISON VIA LE 'SKU' ET 'ID_WEB'**"
   ]
  },
  {
   "cell_type": "markdown",
   "id": "85a81a81",
   "metadata": {
    "hidden": true
   },
   "source": [
    "Contrairement à la comparaison précédente, nous savons que les fichiers WEB et LIAISON ne possèdent pas le même nombre de références produit. \n",
    "- LIAISON : 734 'id_web'\n",
    "- WEB : 714 'sku'"
   ]
  },
  {
   "cell_type": "code",
   "execution_count": 48,
   "id": "c46015fe",
   "metadata": {
    "hidden": true
   },
   "outputs": [
    {
     "name": "stdout",
     "output_type": "stream",
     "text": [
      "Il y a 111 valeurs différentes entre le df WEB et le df LIAISON\n"
     ]
    }
   ],
   "source": [
    "#Création d'une variable contenant tous les 'sku' du df WEB\n",
    "sku = df_ss_web['sku'].unique()\n",
    "\n",
    "#Comparaison des 2 df : ~ prend l'inverse de la condition (l'ensemble des lignes qui ne sont pas présentes dans le df web)\n",
    "diff_web_liaison = df_liaison.loc[~df_liaison['id_web'].isin(sku),:].shape[0]\n",
    "\n",
    "#Afficher le nombre de valeurs différentes dans les 2 df\n",
    "print(f\"Il y a {diff_web_liaison} valeurs différentes entre le df WEB et le df LIAISON\")"
   ]
  },
  {
   "cell_type": "markdown",
   "id": "1c790d46",
   "metadata": {
    "hidden": true
   },
   "source": [
    "Identifions ces 111 valeurs. "
   ]
  },
  {
   "cell_type": "code",
   "execution_count": 49,
   "id": "5e9957dc",
   "metadata": {
    "hidden": true
   },
   "outputs": [
    {
     "name": "stdout",
     "output_type": "stream",
     "text": [
      "Il y a 91 valeurs nulles dans la variable 'id_web'.\n"
     ]
    }
   ],
   "source": [
    "#Créer une variable contenant les valeurs nulles de la variable 'id_web' du df LIAISON \n",
    "id_web_na = df_liaison.loc[(~df_liaison['id_web'].isin(sku))&(df_liaison['id_web'].isna()),:].shape[0] #Sélection des valeurs 'id_web' qui ne sont pas dans la variable 'sku' et qui sont nulles\n",
    "\n",
    "#Afficher le nombre de valeurs nulles \n",
    "print(f\"Il y a {id_web_na} valeurs nulles dans la variable 'id_web'.\")"
   ]
  },
  {
   "cell_type": "code",
   "execution_count": 50,
   "id": "68a12719",
   "metadata": {
    "hidden": true
   },
   "outputs": [
    {
     "name": "stdout",
     "output_type": "stream",
     "text": [
      "Il y a 20 valeurs non nulles dans la variable 'id_web'.\n"
     ]
    }
   ],
   "source": [
    "#Créer une variable contenant les valeurs non nulles de la variable 'id_web' du df LIAISON \n",
    "id_web_nona = df_liaison.loc[(~df_liaison['id_web'].isin(sku))&(~df_liaison['id_web'].isna()),:].shape[0] #Sélection des valeurs 'id_web' qui ne sont pas dans la variable 'sku' et qui ne sont pas nulles\n",
    "\n",
    "#Afficher le nombre de valeurs nulles \n",
    "print(f\"Il y a {id_web_nona} valeurs non nulles dans la variable 'id_web'.\")"
   ]
  },
  {
   "cell_type": "markdown",
   "id": "cc9d077c",
   "metadata": {
    "hidden": true
   },
   "source": [
    "Lors du nettoyage de données du fichier ERP nous avons constaté que 108 produits n'étaient pas vendus en ligne. (Cf. ligne xx)\n",
    "\n",
    "Nous pourrions donc essayer de voir si ces 20 valeurs de la variable 'id_web' du fichier LIAISON font partis des 108 produits non vendus en ligne. "
   ]
  },
  {
   "cell_type": "code",
   "execution_count": 51,
   "id": "1609293a",
   "metadata": {
    "hidden": true
   },
   "outputs": [
    {
     "name": "stdout",
     "output_type": "stream",
     "text": [
      "[4055, 4090, 4092, 4195, 4209, 4233, 4278, 4279, 4289, 4565, 4568, 4577, 4578, 4584, 4599, 4659, 4692, 4693, 4697, 4698, 4702, 4721, 4738, 4741, 4744, 4798, 4864, 4869, 4874, 4911, 4921, 4922, 4973, 5017, 5018, 5020, 5021, 5505, 5559, 5560, 5569, 5570, 5800, 5805, 5808, 5952, 5953, 5954, 5955, 5957, 6100, 6125, 6324, 6327, 6594, 6821, 6824, 6825, 6826, 6864, 6866, 6869, 6875, 6898, 6899, 6900, 6901, 6902, 6903, 6904, 6905, 6906, 6907, 6908, 6909, 7008, 7009, 7010, 7015, 7081, 7084, 7085, 7086, 7087, 7088, 7131, 7132, 7133, 7136, 7137, 7159, 7161, 7162, 7163, 7164, 7168, 7169, 7170, 7192, 7193, 7194, 7195, 7196, 7200, 7201, 7203, 7204, 7329]\n"
     ]
    }
   ],
   "source": [
    "#Création d'une liste contenant les références des produits ('product_id') non vendus en ligne ('onsale_web'= 0)\n",
    "non_vendus_web = df_erp.loc[df_erp['onsale_web']==0, 'product_id'].to_list()\n",
    "print(non_vendus_web)"
   ]
  },
  {
   "cell_type": "code",
   "execution_count": 52,
   "id": "f06cc30c",
   "metadata": {
    "hidden": true
   },
   "outputs": [
    {
     "data": {
      "text/html": [
       "<div>\n",
       "<style scoped>\n",
       "    .dataframe tbody tr th:only-of-type {\n",
       "        vertical-align: middle;\n",
       "    }\n",
       "\n",
       "    .dataframe tbody tr th {\n",
       "        vertical-align: top;\n",
       "    }\n",
       "\n",
       "    .dataframe thead th {\n",
       "        text-align: right;\n",
       "    }\n",
       "</style>\n",
       "<table border=\"1\" class=\"dataframe\">\n",
       "  <thead>\n",
       "    <tr style=\"text-align: right;\">\n",
       "      <th></th>\n",
       "      <th>index</th>\n",
       "      <th>product_id</th>\n",
       "      <th>id_web</th>\n",
       "    </tr>\n",
       "  </thead>\n",
       "  <tbody>\n",
       "    <tr>\n",
       "      <th>0</th>\n",
       "      <td>193</td>\n",
       "      <td>4289</td>\n",
       "      <td>13771</td>\n",
       "    </tr>\n",
       "    <tr>\n",
       "      <th>1</th>\n",
       "      <td>236</td>\n",
       "      <td>4568</td>\n",
       "      <td>15065</td>\n",
       "    </tr>\n",
       "    <tr>\n",
       "      <th>2</th>\n",
       "      <td>241</td>\n",
       "      <td>4584</td>\n",
       "      <td>14785</td>\n",
       "    </tr>\n",
       "    <tr>\n",
       "      <th>3</th>\n",
       "      <td>355</td>\n",
       "      <td>4741</td>\n",
       "      <td>12601</td>\n",
       "    </tr>\n",
       "    <tr>\n",
       "      <th>4</th>\n",
       "      <td>391</td>\n",
       "      <td>4864</td>\n",
       "      <td>15154</td>\n",
       "    </tr>\n",
       "    <tr>\n",
       "      <th>5</th>\n",
       "      <td>394</td>\n",
       "      <td>4869</td>\n",
       "      <td>14360</td>\n",
       "    </tr>\n",
       "    <tr>\n",
       "      <th>6</th>\n",
       "      <td>424</td>\n",
       "      <td>4921</td>\n",
       "      <td>15608</td>\n",
       "    </tr>\n",
       "    <tr>\n",
       "      <th>7</th>\n",
       "      <td>425</td>\n",
       "      <td>4922</td>\n",
       "      <td>15586</td>\n",
       "    </tr>\n",
       "    <tr>\n",
       "      <th>8</th>\n",
       "      <td>470</td>\n",
       "      <td>5018</td>\n",
       "      <td>15272</td>\n",
       "    </tr>\n",
       "    <tr>\n",
       "      <th>9</th>\n",
       "      <td>473</td>\n",
       "      <td>5021</td>\n",
       "      <td>15630</td>\n",
       "    </tr>\n",
       "    <tr>\n",
       "      <th>10</th>\n",
       "      <td>523</td>\n",
       "      <td>5505</td>\n",
       "      <td>14648</td>\n",
       "    </tr>\n",
       "    <tr>\n",
       "      <th>11</th>\n",
       "      <td>540</td>\n",
       "      <td>5559</td>\n",
       "      <td>14715</td>\n",
       "    </tr>\n",
       "    <tr>\n",
       "      <th>12</th>\n",
       "      <td>548</td>\n",
       "      <td>5570</td>\n",
       "      <td>14730</td>\n",
       "    </tr>\n",
       "    <tr>\n",
       "      <th>13</th>\n",
       "      <td>613</td>\n",
       "      <td>5800</td>\n",
       "      <td>14689</td>\n",
       "    </tr>\n",
       "    <tr>\n",
       "      <th>14</th>\n",
       "      <td>660</td>\n",
       "      <td>5953</td>\n",
       "      <td>14379</td>\n",
       "    </tr>\n",
       "    <tr>\n",
       "      <th>15</th>\n",
       "      <td>661</td>\n",
       "      <td>5954</td>\n",
       "      <td>15609</td>\n",
       "    </tr>\n",
       "    <tr>\n",
       "      <th>16</th>\n",
       "      <td>662</td>\n",
       "      <td>5955</td>\n",
       "      <td>14377</td>\n",
       "    </tr>\n",
       "    <tr>\n",
       "      <th>17</th>\n",
       "      <td>664</td>\n",
       "      <td>5957</td>\n",
       "      <td>13577</td>\n",
       "    </tr>\n",
       "    <tr>\n",
       "      <th>18</th>\n",
       "      <td>687</td>\n",
       "      <td>6100</td>\n",
       "      <td>15529</td>\n",
       "    </tr>\n",
       "    <tr>\n",
       "      <th>19</th>\n",
       "      <td>823</td>\n",
       "      <td>7329</td>\n",
       "      <td>14680-1</td>\n",
       "    </tr>\n",
       "  </tbody>\n",
       "</table>\n",
       "</div>"
      ],
      "text/plain": [
       "    index  product_id   id_web\n",
       "0     193        4289    13771\n",
       "1     236        4568    15065\n",
       "2     241        4584    14785\n",
       "3     355        4741    12601\n",
       "4     391        4864    15154\n",
       "5     394        4869    14360\n",
       "6     424        4921    15608\n",
       "7     425        4922    15586\n",
       "8     470        5018    15272\n",
       "9     473        5021    15630\n",
       "10    523        5505    14648\n",
       "11    540        5559    14715\n",
       "12    548        5570    14730\n",
       "13    613        5800    14689\n",
       "14    660        5953    14379\n",
       "15    661        5954    15609\n",
       "16    662        5955    14377\n",
       "17    664        5957    13577\n",
       "18    687        6100    15529\n",
       "19    823        7329  14680-1"
      ]
     },
     "execution_count": 52,
     "metadata": {},
     "output_type": "execute_result"
    }
   ],
   "source": [
    "#Création d'une variable contenant les id des produits qui ne sont pas dans la variable 'sku' du df WEB et qui ne sont pas nulles\n",
    "product_notin_web = df_liaison.loc[(~df_liaison['id_web'].isin(sku))&(~df_liaison['id_web'].isna()), ['product_id', 'id_web']].reset_index()\n",
    "product_notin_web"
   ]
  },
  {
   "cell_type": "markdown",
   "id": "8bc454c5",
   "metadata": {
    "hidden": true
   },
   "source": [
    "Il y a 20 produits identifiés du df LIAISON absents dans la variable 'sku' du df WEB."
   ]
  },
  {
   "cell_type": "code",
   "execution_count": 53,
   "id": "f9d5556a",
   "metadata": {
    "hidden": true
   },
   "outputs": [
    {
     "name": "stdout",
     "output_type": "stream",
     "text": [
      "Les 20 'id_web' listés dans le df liaison mais manquants dans le df web ne sont pas mentionnés comme vendus en ligne d'après le df ERP.\n"
     ]
    }
   ],
   "source": [
    "#Création d'une variable contenant les id des produits(product_notin_web) qui sont dans la liste des produits non vendus en ligne ('non_vendus_web')\n",
    "id_web_not_insale_web = product_notin_web.loc[product_notin_web['product_id'].isin(non_vendus_web),:].shape[0]\n",
    "\n",
    "print(f\"Les {id_web_not_insale_web} 'id_web' listés dans le df liaison mais manquants dans le df web ne sont pas mentionnés comme vendus en ligne d'après le df ERP.\")"
   ]
  },
  {
   "cell_type": "markdown",
   "id": "cf945525",
   "metadata": {
    "heading_collapsed": true,
    "hidden": true
   },
   "source": [
    "####\n",
    "<h4 style=\"margin: auto; padding: 20px; color: RGB(29,29,27); \">\n",
    "c. Doublons <a class='anchor' id='c.-doublons'></a> </h4>"
   ]
  },
  {
   "cell_type": "markdown",
   "id": "afbf7eea",
   "metadata": {
    "hidden": true
   },
   "source": [
    "À présent, nous observons si certains produits apparaissent en doublons. \n",
    "Pour vérifier cela, on se focalise sur des informations qui ne peuvent normalement pas être en double, soit : `['product_id']` (clé primaire). Sur cette variable, on ne doit pas avoir deux produits identiques."
   ]
  },
  {
   "cell_type": "code",
   "execution_count": 54,
   "id": "c74165e9",
   "metadata": {
    "hidden": true
   },
   "outputs": [
    {
     "data": {
      "text/html": [
       "<div>\n",
       "<style scoped>\n",
       "    .dataframe tbody tr th:only-of-type {\n",
       "        vertical-align: middle;\n",
       "    }\n",
       "\n",
       "    .dataframe tbody tr th {\n",
       "        vertical-align: top;\n",
       "    }\n",
       "\n",
       "    .dataframe thead th {\n",
       "        text-align: right;\n",
       "    }\n",
       "</style>\n",
       "<table border=\"1\" class=\"dataframe\">\n",
       "  <thead>\n",
       "    <tr style=\"text-align: right;\">\n",
       "      <th></th>\n",
       "      <th>product_id</th>\n",
       "      <th>id_web</th>\n",
       "    </tr>\n",
       "  </thead>\n",
       "  <tbody>\n",
       "  </tbody>\n",
       "</table>\n",
       "</div>"
      ],
      "text/plain": [
       "Empty DataFrame\n",
       "Columns: [product_id, id_web]\n",
       "Index: []"
      ]
     },
     "execution_count": 54,
     "metadata": {},
     "output_type": "execute_result"
    }
   ],
   "source": [
    "df_liaison.loc[df_liaison[['product_id']].duplicated(keep=False)]"
   ]
  },
  {
   "cell_type": "markdown",
   "id": "6ff2d175",
   "metadata": {
    "heading_collapsed": true,
    "hidden": true
   },
   "source": [
    "####\n",
    "<h4 style=\"margin: auto; padding: 20px; color: RGB(29,29,27); \">\n",
    "d. Changement du nom de la colonne 'id_web' <a class='anchor' id='d.-changement-du-nom-de-la-colonne-id-web-'></a> </h4>"
   ]
  },
  {
   "cell_type": "code",
   "execution_count": 55,
   "id": "f631eb89",
   "metadata": {
    "hidden": true
   },
   "outputs": [
    {
     "data": {
      "text/html": [
       "<div>\n",
       "<style scoped>\n",
       "    .dataframe tbody tr th:only-of-type {\n",
       "        vertical-align: middle;\n",
       "    }\n",
       "\n",
       "    .dataframe tbody tr th {\n",
       "        vertical-align: top;\n",
       "    }\n",
       "\n",
       "    .dataframe thead th {\n",
       "        text-align: right;\n",
       "    }\n",
       "</style>\n",
       "<table border=\"1\" class=\"dataframe\">\n",
       "  <thead>\n",
       "    <tr style=\"text-align: right;\">\n",
       "      <th></th>\n",
       "      <th>product_id</th>\n",
       "      <th>sku</th>\n",
       "    </tr>\n",
       "  </thead>\n",
       "  <tbody>\n",
       "    <tr>\n",
       "      <th>0</th>\n",
       "      <td>3847</td>\n",
       "      <td>15298</td>\n",
       "    </tr>\n",
       "    <tr>\n",
       "      <th>1</th>\n",
       "      <td>3849</td>\n",
       "      <td>15296</td>\n",
       "    </tr>\n",
       "    <tr>\n",
       "      <th>2</th>\n",
       "      <td>3850</td>\n",
       "      <td>15300</td>\n",
       "    </tr>\n",
       "    <tr>\n",
       "      <th>3</th>\n",
       "      <td>4032</td>\n",
       "      <td>19814</td>\n",
       "    </tr>\n",
       "    <tr>\n",
       "      <th>4</th>\n",
       "      <td>4039</td>\n",
       "      <td>19815</td>\n",
       "    </tr>\n",
       "    <tr>\n",
       "      <th>...</th>\n",
       "      <td>...</td>\n",
       "      <td>...</td>\n",
       "    </tr>\n",
       "    <tr>\n",
       "      <th>820</th>\n",
       "      <td>7203</td>\n",
       "      <td>NaN</td>\n",
       "    </tr>\n",
       "    <tr>\n",
       "      <th>821</th>\n",
       "      <td>7204</td>\n",
       "      <td>NaN</td>\n",
       "    </tr>\n",
       "    <tr>\n",
       "      <th>822</th>\n",
       "      <td>7247</td>\n",
       "      <td>13127-1</td>\n",
       "    </tr>\n",
       "    <tr>\n",
       "      <th>823</th>\n",
       "      <td>7329</td>\n",
       "      <td>14680-1</td>\n",
       "    </tr>\n",
       "    <tr>\n",
       "      <th>824</th>\n",
       "      <td>7338</td>\n",
       "      <td>16230</td>\n",
       "    </tr>\n",
       "  </tbody>\n",
       "</table>\n",
       "<p>825 rows × 2 columns</p>\n",
       "</div>"
      ],
      "text/plain": [
       "     product_id      sku\n",
       "0          3847    15298\n",
       "1          3849    15296\n",
       "2          3850    15300\n",
       "3          4032    19814\n",
       "4          4039    19815\n",
       "..          ...      ...\n",
       "820        7203      NaN\n",
       "821        7204      NaN\n",
       "822        7247  13127-1\n",
       "823        7329  14680-1\n",
       "824        7338    16230\n",
       "\n",
       "[825 rows x 2 columns]"
      ]
     },
     "execution_count": 55,
     "metadata": {},
     "output_type": "execute_result"
    }
   ],
   "source": [
    "df_liaison.rename(columns={'id_web': 'sku'}, inplace=True)\n",
    "df_liaison"
   ]
  },
  {
   "cell_type": "markdown",
   "id": "0c0acfb5",
   "metadata": {
    "heading_collapsed": true,
    "hidden": true
   },
   "source": [
    "####\n",
    "<h4 style=\"margin: auto; padding: 20px; color: RGB(29,29,27); \">\n",
    "e. Détection des outliers <a class='anchor' id='e.-detection-des-outliers'></a> </h4>"
   ]
  },
  {
   "cell_type": "markdown",
   "id": "7c9cf500",
   "metadata": {
    "hidden": true
   },
   "source": [
    "**Analyse des outliers des références web 'sku'**"
   ]
  },
  {
   "cell_type": "code",
   "execution_count": 56,
   "id": "49069e6b",
   "metadata": {
    "hidden": true
   },
   "outputs": [
    {
     "data": {
      "text/html": [
       "<div>\n",
       "<style scoped>\n",
       "    .dataframe tbody tr th:only-of-type {\n",
       "        vertical-align: middle;\n",
       "    }\n",
       "\n",
       "    .dataframe tbody tr th {\n",
       "        vertical-align: top;\n",
       "    }\n",
       "\n",
       "    .dataframe thead th {\n",
       "        text-align: right;\n",
       "    }\n",
       "</style>\n",
       "<table border=\"1\" class=\"dataframe\">\n",
       "  <thead>\n",
       "    <tr style=\"text-align: right;\">\n",
       "      <th></th>\n",
       "      <th>product_id</th>\n",
       "      <th>sku</th>\n",
       "    </tr>\n",
       "  </thead>\n",
       "  <tbody>\n",
       "    <tr>\n",
       "      <th>443</th>\n",
       "      <td>4954</td>\n",
       "      <td>bon-cadeau-25-euros</td>\n",
       "    </tr>\n",
       "    <tr>\n",
       "      <th>822</th>\n",
       "      <td>7247</td>\n",
       "      <td>13127-1</td>\n",
       "    </tr>\n",
       "    <tr>\n",
       "      <th>823</th>\n",
       "      <td>7329</td>\n",
       "      <td>14680-1</td>\n",
       "    </tr>\n",
       "  </tbody>\n",
       "</table>\n",
       "</div>"
      ],
      "text/plain": [
       "     product_id                  sku\n",
       "443        4954  bon-cadeau-25-euros\n",
       "822        7247              13127-1\n",
       "823        7329              14680-1"
      ]
     },
     "execution_count": 56,
     "metadata": {},
     "output_type": "execute_result"
    }
   ],
   "source": [
    "df_liaison[~(df_liaison['sku'].astype(str).str.match(r'^\\d+$')) & ~(df_liaison['sku'].isnull())]\n"
   ]
  },
  {
   "cell_type": "markdown",
   "id": "42ebbb35",
   "metadata": {
    "heading_collapsed": true,
    "hidden": true
   },
   "source": [
    "###\n",
    "<h3 style=\"margin: auto; padding: 20px; color: RGB(173,40,59); \">\n",
    "2.3.3 Description du df LIAISON <a class='anchor' id='2.3.3-description-du-df-liaison'></a> </h3>"
   ]
  },
  {
   "cell_type": "markdown",
   "id": "a072171f",
   "metadata": {
    "hidden": true
   },
   "source": [
    "<div style=\"border: 1px solid RGB(173,40,59);\" \n",
    "\n",
    "**Fichier LIAISON**\n",
    "- La variable 'sku' est de type object : 3 références ne sont pas numériques : 'bon-cadeau-25-euros', '13127-1' et '14680-1'. Cette dernière référence n'apparaît pas dans le fichier WEB car elle fait partie des 20 références non vendus en ligne. \n",
    "- Il y a 91 valeurs manquantes dans la variable 'id_web'\n",
    "- Le fichier ne contient pas de doublons"
   ]
  },
  {
   "cell_type": "markdown",
   "id": "d8eaab0d",
   "metadata": {
    "heading_collapsed": true
   },
   "source": [
    "# <div style=\"border: 1px solid RGB(173,40,59);\" >\n",
    "<h1 style=\"margin: auto; padding: 20px; color: RGB(173,40,59); \">\n",
    "III. Création d'un dataframe global <a class='anchor' id='III.-creation-d-un-dataframe-global'></a> </h1>"
   ]
  },
  {
   "cell_type": "markdown",
   "id": "34c4051b",
   "metadata": {
    "hidden": true
   },
   "source": [
    "Afin de pouvoir faciliter la lecture des données nous allons rapprocher des df ERP et WEB grâce au df LIAISON qui permet de faire la jointure entre les deux dataframes dans le but de créer un df global. "
   ]
  },
  {
   "cell_type": "markdown",
   "id": "4e846772",
   "metadata": {
    "heading_collapsed": true,
    "hidden": true
   },
   "source": [
    "## \n",
    "<h2 style=\"margin: auto; padding: 20px; color: RGB(29,29,27); \">\n",
    "3.1  Choix des clés primaires et test d'unicité <a class='anchor' id='3.1-choix-des-cles-primaires-et-test-d-unicite'></a> </h2>"
   ]
  },
  {
   "cell_type": "markdown",
   "id": "1f943ae9",
   "metadata": {
    "hidden": true
   },
   "source": [
    "Après nettoyage des donnés nous allons pouvoir joindre les 3 df. \n",
    "\n",
    "Nous allons choisir les clés primaires de chaque df et vérifier qu'elles contiennent des valeurs uniques (unicité) pour chaque ligne afin de réaliser les jointures. "
   ]
  },
  {
   "cell_type": "code",
   "execution_count": 57,
   "id": "87e394ed",
   "metadata": {
    "hidden": true
   },
   "outputs": [
    {
     "name": "stdout",
     "output_type": "stream",
     "text": [
      "Il y a 825 identifiants 'product_id' uniques sur 825 dans le df ERP.\n"
     ]
    }
   ],
   "source": [
    "print(\"Il y a\", df_erp['product_id'].unique().shape[0], \"identifiants 'product_id' uniques sur\",df_erp['product_id'].count(), \"dans le df ERP.\")\n"
   ]
  },
  {
   "cell_type": "code",
   "execution_count": 58,
   "id": "8a9990a6",
   "metadata": {
    "hidden": true
   },
   "outputs": [
    {
     "name": "stdout",
     "output_type": "stream",
     "text": [
      "Il y a 714 références 'sku' uniques sur 714 dans le df WEB.\n"
     ]
    }
   ],
   "source": [
    "print(\"Il y a\", df_ss_web['sku'].unique().shape[0], \"références 'sku' uniques sur\",df_ss_web['sku'].count(), \"dans le df WEB.\")\n"
   ]
  },
  {
   "cell_type": "code",
   "execution_count": 59,
   "id": "88e75602",
   "metadata": {
    "hidden": true
   },
   "outputs": [
    {
     "name": "stdout",
     "output_type": "stream",
     "text": [
      "Il y a 735 références 'sku' uniques sur 734 dans le df LIAISON.\n"
     ]
    }
   ],
   "source": [
    "print(\"Il y a\", df_liaison['sku'].unique().shape[0], \"références 'sku' uniques sur\",df_liaison['sku'].count(), \"dans le df LIAISON.\")\n"
   ]
  },
  {
   "cell_type": "markdown",
   "id": "c014708b",
   "metadata": {
    "hidden": true
   },
   "source": [
    "Les 735 identifiants s'exliquent par NaN faisant partie des valeurs. "
   ]
  },
  {
   "cell_type": "code",
   "execution_count": 60,
   "id": "cd20acba",
   "metadata": {
    "hidden": true
   },
   "outputs": [
    {
     "name": "stdout",
     "output_type": "stream",
     "text": [
      "Il y a 825 identifiants 'product_id' uniques sur 825 dans le df LIAISON.\n"
     ]
    }
   ],
   "source": [
    "print(\"Il y a\", df_liaison['product_id'].unique().shape[0], \"identifiants 'product_id' uniques sur\",df_liaison['product_id'].count(), \"dans le df LIAISON.\")\n"
   ]
  },
  {
   "cell_type": "markdown",
   "id": "94b271c0",
   "metadata": {
    "hidden": true
   },
   "source": [
    "## \n",
    "<h2 style=\"margin: auto; padding: 20px; color: RGB(29,29,27); \">\n",
    "3.2  Jointure externe entre les fichiers ERP, LIAISON et WEB <a class='anchor' id='3.2-jointure-externe-entre-les-fichiers-erp,-liaison-et-web'></a> </h2>"
   ]
  },
  {
   "cell_type": "markdown",
   "id": "103ca338",
   "metadata": {
    "hidden": true
   },
   "source": [
    "Nous allons réaliser 2 jointures externes : \n",
    "- df1 : entre le df erp et le df liaison -> clé : 'product_id'\n",
    "- df_global : entre le df1 et le df web -> clé : 'sku'"
   ]
  },
  {
   "cell_type": "markdown",
   "id": "da29c708",
   "metadata": {
    "heading_collapsed": true,
    "hidden": true
   },
   "source": [
    "###\n",
    "<h3 style=\"margin: auto; padding: 20px; color: RGB(173,40,59); \">\n",
    "3.2.1 Jointure entre les df ERP et LIAISON <a class='anchor' id='3.2.1-jointure-entre-les-df-erp-et-liaison'></a> </h3>"
   ]
  },
  {
   "cell_type": "code",
   "execution_count": 61,
   "id": "e3e377b9",
   "metadata": {
    "hidden": true
   },
   "outputs": [],
   "source": [
    "#Jointure externe : on conserve toutes les clés trouvées dans le df erp et le df liaison et comble les valeurs manquantes par Nan\n",
    "df1 = pd.merge(df_erp, df_liaison, on='product_id', how='outer', indicator=True)"
   ]
  },
  {
   "cell_type": "code",
   "execution_count": 62,
   "id": "34b3fe14",
   "metadata": {
    "hidden": true
   },
   "outputs": [
    {
     "data": {
      "text/plain": [
       "(825, 7)"
      ]
     },
     "execution_count": 62,
     "metadata": {},
     "output_type": "execute_result"
    }
   ],
   "source": [
    "#Afficher les dimensions du df\n",
    "df1.shape"
   ]
  },
  {
   "cell_type": "code",
   "execution_count": 63,
   "id": "ed94e822",
   "metadata": {
    "hidden": true
   },
   "outputs": [
    {
     "data": {
      "text/html": [
       "<div>\n",
       "<style scoped>\n",
       "    .dataframe tbody tr th:only-of-type {\n",
       "        vertical-align: middle;\n",
       "    }\n",
       "\n",
       "    .dataframe tbody tr th {\n",
       "        vertical-align: top;\n",
       "    }\n",
       "\n",
       "    .dataframe thead th {\n",
       "        text-align: right;\n",
       "    }\n",
       "</style>\n",
       "<table border=\"1\" class=\"dataframe\">\n",
       "  <thead>\n",
       "    <tr style=\"text-align: right;\">\n",
       "      <th></th>\n",
       "      <th>product_id</th>\n",
       "      <th>onsale_web</th>\n",
       "      <th>price</th>\n",
       "      <th>stock_quantity</th>\n",
       "      <th>stock_status</th>\n",
       "      <th>sku</th>\n",
       "      <th>_merge</th>\n",
       "    </tr>\n",
       "  </thead>\n",
       "  <tbody>\n",
       "    <tr>\n",
       "      <th>0</th>\n",
       "      <td>3847</td>\n",
       "      <td>1</td>\n",
       "      <td>24.2</td>\n",
       "      <td>0</td>\n",
       "      <td>outofstock</td>\n",
       "      <td>15298</td>\n",
       "      <td>both</td>\n",
       "    </tr>\n",
       "    <tr>\n",
       "      <th>1</th>\n",
       "      <td>3849</td>\n",
       "      <td>1</td>\n",
       "      <td>34.3</td>\n",
       "      <td>0</td>\n",
       "      <td>outofstock</td>\n",
       "      <td>15296</td>\n",
       "      <td>both</td>\n",
       "    </tr>\n",
       "    <tr>\n",
       "      <th>2</th>\n",
       "      <td>3850</td>\n",
       "      <td>1</td>\n",
       "      <td>20.8</td>\n",
       "      <td>0</td>\n",
       "      <td>outofstock</td>\n",
       "      <td>15300</td>\n",
       "      <td>both</td>\n",
       "    </tr>\n",
       "    <tr>\n",
       "      <th>3</th>\n",
       "      <td>4032</td>\n",
       "      <td>1</td>\n",
       "      <td>14.1</td>\n",
       "      <td>0</td>\n",
       "      <td>outofstock</td>\n",
       "      <td>19814</td>\n",
       "      <td>both</td>\n",
       "    </tr>\n",
       "    <tr>\n",
       "      <th>4</th>\n",
       "      <td>4039</td>\n",
       "      <td>1</td>\n",
       "      <td>46.0</td>\n",
       "      <td>0</td>\n",
       "      <td>outofstock</td>\n",
       "      <td>19815</td>\n",
       "      <td>both</td>\n",
       "    </tr>\n",
       "  </tbody>\n",
       "</table>\n",
       "</div>"
      ],
      "text/plain": [
       "   product_id  onsale_web  price  stock_quantity stock_status    sku _merge\n",
       "0        3847           1   24.2               0   outofstock  15298   both\n",
       "1        3849           1   34.3               0   outofstock  15296   both\n",
       "2        3850           1   20.8               0   outofstock  15300   both\n",
       "3        4032           1   14.1               0   outofstock  19814   both\n",
       "4        4039           1   46.0               0   outofstock  19815   both"
      ]
     },
     "execution_count": 63,
     "metadata": {},
     "output_type": "execute_result"
    }
   ],
   "source": [
    "#Afficher les premières lignes du df\n",
    "df1.head()"
   ]
  },
  {
   "cell_type": "markdown",
   "id": "94e6bf78",
   "metadata": {
    "hidden": true
   },
   "source": [
    "La jointure nous permet dans cett étude de conserver la totalité des données dans les deux dataframes. \n",
    "\n",
    "Ça nous permet de ne pas perdre les clés non jointres dans les df. \n",
    "L'indicateur = True nous permet d'inspecter les clés non jointes, identifier les données manquantes et les comprendre."
   ]
  },
  {
   "cell_type": "markdown",
   "id": "3b42256e",
   "metadata": {
    "heading_collapsed": true,
    "hidden": true
   },
   "source": [
    "####\n",
    "<h4 style=\"margin: auto; padding: 20px; color: RGB(29,29,27); \">\n",
    "a. Analyse de la jointure <a class='anchor' id='a.-analyse-de-la-jointure'></a> </h4>"
   ]
  },
  {
   "cell_type": "code",
   "execution_count": 64,
   "id": "3eb33320",
   "metadata": {
    "hidden": true
   },
   "outputs": [
    {
     "name": "stdout",
     "output_type": "stream",
     "text": [
      "Il y a 0 lignes différentes entre les 2 df.\n"
     ]
    }
   ],
   "source": [
    "#Filtrer les valeurs de la colonne _merge sur les valeurs différentes de 'both'\n",
    "no_both_df1 = df1.loc[df1['_merge']!='both',:].shape[0]\n",
    "\n",
    "print('Il y a', no_both_df1, 'lignes différentes entre les 2 df.')"
   ]
  },
  {
   "cell_type": "markdown",
   "id": "4fd33a69",
   "metadata": {
    "heading_collapsed": true,
    "hidden": true
   },
   "source": [
    "###\n",
    "<h3 style=\"margin: auto; padding: 20px; color: RGB(173,40,59); \">\n",
    "3.2.2 Jointure entre les df DF1 et WEB <a class='anchor' id='3.2.2-jointure-entre-les-df-df1-et-web'></a> </h3>"
   ]
  },
  {
   "cell_type": "code",
   "execution_count": 65,
   "id": "e83a177a",
   "metadata": {
    "hidden": true
   },
   "outputs": [],
   "source": [
    "#Suppression de la colonne _merge dans le df1\n",
    "del df1['_merge']"
   ]
  },
  {
   "cell_type": "code",
   "execution_count": 66,
   "id": "c58161a7",
   "metadata": {
    "hidden": true
   },
   "outputs": [],
   "source": [
    "#Jointure externe entre df1 et df_ss_web\n",
    "df_global = pd.merge(df1, df_ss_web, on='sku', how='outer', indicator=True)"
   ]
  },
  {
   "cell_type": "code",
   "execution_count": 67,
   "id": "c005295d",
   "metadata": {
    "hidden": true
   },
   "outputs": [
    {
     "data": {
      "text/plain": [
       "(825, 11)"
      ]
     },
     "execution_count": 67,
     "metadata": {},
     "output_type": "execute_result"
    }
   ],
   "source": [
    "#Afficher les dimensions du df\n",
    "df_global.shape"
   ]
  },
  {
   "cell_type": "code",
   "execution_count": 68,
   "id": "55cc9815",
   "metadata": {
    "hidden": true
   },
   "outputs": [
    {
     "data": {
      "text/html": [
       "<div>\n",
       "<style scoped>\n",
       "    .dataframe tbody tr th:only-of-type {\n",
       "        vertical-align: middle;\n",
       "    }\n",
       "\n",
       "    .dataframe tbody tr th {\n",
       "        vertical-align: top;\n",
       "    }\n",
       "\n",
       "    .dataframe thead th {\n",
       "        text-align: right;\n",
       "    }\n",
       "</style>\n",
       "<table border=\"1\" class=\"dataframe\">\n",
       "  <thead>\n",
       "    <tr style=\"text-align: right;\">\n",
       "      <th></th>\n",
       "      <th>product_id</th>\n",
       "      <th>onsale_web</th>\n",
       "      <th>price</th>\n",
       "      <th>stock_quantity</th>\n",
       "      <th>stock_status</th>\n",
       "      <th>sku</th>\n",
       "      <th>total_sales</th>\n",
       "      <th>post_title</th>\n",
       "      <th>guid</th>\n",
       "      <th>post_type</th>\n",
       "      <th>_merge</th>\n",
       "    </tr>\n",
       "  </thead>\n",
       "  <tbody>\n",
       "    <tr>\n",
       "      <th>0</th>\n",
       "      <td>3847</td>\n",
       "      <td>1</td>\n",
       "      <td>24.2</td>\n",
       "      <td>0</td>\n",
       "      <td>outofstock</td>\n",
       "      <td>15298</td>\n",
       "      <td>6.0</td>\n",
       "      <td>Pierre Jean Villa Saint-Joseph Préface 2018</td>\n",
       "      <td>https://www.bottle-neck.fr/?post_type=product&amp;#038;p=15298</td>\n",
       "      <td>product</td>\n",
       "      <td>both</td>\n",
       "    </tr>\n",
       "    <tr>\n",
       "      <th>1</th>\n",
       "      <td>3849</td>\n",
       "      <td>1</td>\n",
       "      <td>34.3</td>\n",
       "      <td>0</td>\n",
       "      <td>outofstock</td>\n",
       "      <td>15296</td>\n",
       "      <td>0.0</td>\n",
       "      <td>Pierre Jean Villa Saint-Joseph Rouge Tildé 2017</td>\n",
       "      <td>https://www.bottle-neck.fr/?post_type=product&amp;#038;p=15296</td>\n",
       "      <td>product</td>\n",
       "      <td>both</td>\n",
       "    </tr>\n",
       "    <tr>\n",
       "      <th>2</th>\n",
       "      <td>3850</td>\n",
       "      <td>1</td>\n",
       "      <td>20.8</td>\n",
       "      <td>0</td>\n",
       "      <td>outofstock</td>\n",
       "      <td>15300</td>\n",
       "      <td>0.0</td>\n",
       "      <td>Pierre Jean Villa Crozes-Hermitage Accroche Coeur 2018</td>\n",
       "      <td>https://www.bottle-neck.fr/?post_type=product&amp;#038;p=15300</td>\n",
       "      <td>product</td>\n",
       "      <td>both</td>\n",
       "    </tr>\n",
       "    <tr>\n",
       "      <th>3</th>\n",
       "      <td>4032</td>\n",
       "      <td>1</td>\n",
       "      <td>14.1</td>\n",
       "      <td>0</td>\n",
       "      <td>outofstock</td>\n",
       "      <td>19814</td>\n",
       "      <td>3.0</td>\n",
       "      <td>Pierre Jean Villa IGP Collines Rhodaniennes Gamine 2018</td>\n",
       "      <td>https://www.bottle-neck.fr/?post_type=product&amp;#038;p=19814</td>\n",
       "      <td>product</td>\n",
       "      <td>both</td>\n",
       "    </tr>\n",
       "    <tr>\n",
       "      <th>4</th>\n",
       "      <td>4039</td>\n",
       "      <td>1</td>\n",
       "      <td>46.0</td>\n",
       "      <td>0</td>\n",
       "      <td>outofstock</td>\n",
       "      <td>19815</td>\n",
       "      <td>0.0</td>\n",
       "      <td>Pierre Jean Villa Côte Rôtie Carmina 2017</td>\n",
       "      <td>https://www.bottle-neck.fr/?post_type=product&amp;#038;p=19815</td>\n",
       "      <td>product</td>\n",
       "      <td>both</td>\n",
       "    </tr>\n",
       "  </tbody>\n",
       "</table>\n",
       "</div>"
      ],
      "text/plain": [
       "   product_id  onsale_web  price  stock_quantity stock_status    sku  \\\n",
       "0        3847           1   24.2               0   outofstock  15298   \n",
       "1        3849           1   34.3               0   outofstock  15296   \n",
       "2        3850           1   20.8               0   outofstock  15300   \n",
       "3        4032           1   14.1               0   outofstock  19814   \n",
       "4        4039           1   46.0               0   outofstock  19815   \n",
       "\n",
       "   total_sales                                               post_title  \\\n",
       "0          6.0              Pierre Jean Villa Saint-Joseph Préface 2018   \n",
       "1          0.0          Pierre Jean Villa Saint-Joseph Rouge Tildé 2017   \n",
       "2          0.0   Pierre Jean Villa Crozes-Hermitage Accroche Coeur 2018   \n",
       "3          3.0  Pierre Jean Villa IGP Collines Rhodaniennes Gamine 2018   \n",
       "4          0.0                Pierre Jean Villa Côte Rôtie Carmina 2017   \n",
       "\n",
       "                                                         guid post_type _merge  \n",
       "0  https://www.bottle-neck.fr/?post_type=product&#038;p=15298   product   both  \n",
       "1  https://www.bottle-neck.fr/?post_type=product&#038;p=15296   product   both  \n",
       "2  https://www.bottle-neck.fr/?post_type=product&#038;p=15300   product   both  \n",
       "3  https://www.bottle-neck.fr/?post_type=product&#038;p=19814   product   both  \n",
       "4  https://www.bottle-neck.fr/?post_type=product&#038;p=19815   product   both  "
      ]
     },
     "execution_count": 68,
     "metadata": {},
     "output_type": "execute_result"
    }
   ],
   "source": [
    "#Afficher les premières lignes du df\n",
    "df_global.head()"
   ]
  },
  {
   "cell_type": "markdown",
   "id": "58eca891",
   "metadata": {
    "heading_collapsed": true,
    "hidden": true
   },
   "source": [
    "####\n",
    "<h4 style=\"margin: auto; padding: 20px; color: RGB(29,29,27); \">\n",
    "a. Analyse de la jointure <a class='anchor' id='a.-analyse-de-la-jointure'></a> </h4>"
   ]
  },
  {
   "cell_type": "code",
   "execution_count": 69,
   "id": "b1e5411e",
   "metadata": {
    "hidden": true
   },
   "outputs": [
    {
     "name": "stdout",
     "output_type": "stream",
     "text": [
      "Il y a 111 lignes différentes entre les 2 df.\n"
     ]
    }
   ],
   "source": [
    "#Filtrer les valeurs de la colonne _merge sur les valeurs différentes de 'both'\n",
    "no_both_dfglobal = df_global.loc[df_global['_merge']!='both',:].shape[0]\n",
    "\n",
    "print('Il y a', no_both_dfglobal, 'lignes différentes entre les 2 df.')"
   ]
  },
  {
   "cell_type": "markdown",
   "id": "5cca287b",
   "metadata": {
    "hidden": true
   },
   "source": [
    "Les 111 lignes correspondent aux 111 valeurs identifiées précédemment lors du nettoyage du df liaison : \n",
    "- 91 produits avec une valeur nulle \n",
    "- 20 produits n'étant pas indiqués comme vendus en ligne.  "
   ]
  },
  {
   "cell_type": "markdown",
   "id": "089c0e7c",
   "metadata": {
    "heading_collapsed": true,
    "hidden": true
   },
   "source": [
    "###\n",
    "<h3 style=\"margin: auto; padding: 20px; color: RGB(173,40,59); \">\n",
    "3.2.3 Nettoyage du dataframe GLOBAL <a class='anchor' id='3.2.3-nettoyage-du-dataframe-global'></a> </h3>"
   ]
  },
  {
   "cell_type": "markdown",
   "id": "3f7cc26e",
   "metadata": {
    "hidden": true
   },
   "source": [
    "Notre but à travers cette étude est d'analyser les ventes de Bottleneck notamment les produits vendus en ligne. \n",
    "\n",
    "Les 111 lignes identifiées ci-dessus ne sont pas des données de vente et ne sont donc pas utiles à l'étude. \n",
    "\n",
    "Nous pouvons donc les supprimer. "
   ]
  },
  {
   "cell_type": "code",
   "execution_count": 70,
   "id": "955946ec",
   "metadata": {
    "hidden": true
   },
   "outputs": [
    {
     "data": {
      "text/plain": [
       "(714, 11)"
      ]
     },
     "execution_count": 70,
     "metadata": {},
     "output_type": "execute_result"
    }
   ],
   "source": [
    "#Filtre le df global sur les valeurs qui ont comme valeur 'both' dans la colonne _merge\n",
    "df_global = df_global.loc[df_global['_merge'] == 'both']\n",
    "df_global.shape"
   ]
  },
  {
   "cell_type": "code",
   "execution_count": 71,
   "id": "ab541eb0",
   "metadata": {
    "hidden": true
   },
   "outputs": [
    {
     "data": {
      "text/plain": [
       "(714, 10)"
      ]
     },
     "execution_count": 71,
     "metadata": {},
     "output_type": "execute_result"
    }
   ],
   "source": [
    "#Suppression de la colonne '_merge'\n",
    "del df_global['_merge']\n",
    "df_global.shape"
   ]
  },
  {
   "cell_type": "code",
   "execution_count": 72,
   "id": "be9eab8a",
   "metadata": {
    "hidden": true
   },
   "outputs": [
    {
     "data": {
      "text/html": [
       "<div>\n",
       "<style scoped>\n",
       "    .dataframe tbody tr th:only-of-type {\n",
       "        vertical-align: middle;\n",
       "    }\n",
       "\n",
       "    .dataframe tbody tr th {\n",
       "        vertical-align: top;\n",
       "    }\n",
       "\n",
       "    .dataframe thead th {\n",
       "        text-align: right;\n",
       "    }\n",
       "</style>\n",
       "<table border=\"1\" class=\"dataframe\">\n",
       "  <thead>\n",
       "    <tr style=\"text-align: right;\">\n",
       "      <th></th>\n",
       "      <th>product_id</th>\n",
       "      <th>onsale_web</th>\n",
       "      <th>price</th>\n",
       "      <th>stock_quantity</th>\n",
       "      <th>stock_status</th>\n",
       "      <th>sku</th>\n",
       "      <th>total_sales</th>\n",
       "      <th>post_title</th>\n",
       "      <th>guid</th>\n",
       "      <th>post_type</th>\n",
       "    </tr>\n",
       "  </thead>\n",
       "  <tbody>\n",
       "    <tr>\n",
       "      <th>0</th>\n",
       "      <td>3847</td>\n",
       "      <td>1</td>\n",
       "      <td>24.2</td>\n",
       "      <td>0</td>\n",
       "      <td>outofstock</td>\n",
       "      <td>15298</td>\n",
       "      <td>6.0</td>\n",
       "      <td>Pierre Jean Villa Saint-Joseph Préface 2018</td>\n",
       "      <td>https://www.bottle-neck.fr/?post_type=product&amp;#038;p=15298</td>\n",
       "      <td>product</td>\n",
       "    </tr>\n",
       "    <tr>\n",
       "      <th>1</th>\n",
       "      <td>3849</td>\n",
       "      <td>1</td>\n",
       "      <td>34.3</td>\n",
       "      <td>0</td>\n",
       "      <td>outofstock</td>\n",
       "      <td>15296</td>\n",
       "      <td>0.0</td>\n",
       "      <td>Pierre Jean Villa Saint-Joseph Rouge Tildé 2017</td>\n",
       "      <td>https://www.bottle-neck.fr/?post_type=product&amp;#038;p=15296</td>\n",
       "      <td>product</td>\n",
       "    </tr>\n",
       "    <tr>\n",
       "      <th>2</th>\n",
       "      <td>3850</td>\n",
       "      <td>1</td>\n",
       "      <td>20.8</td>\n",
       "      <td>0</td>\n",
       "      <td>outofstock</td>\n",
       "      <td>15300</td>\n",
       "      <td>0.0</td>\n",
       "      <td>Pierre Jean Villa Crozes-Hermitage Accroche Coeur 2018</td>\n",
       "      <td>https://www.bottle-neck.fr/?post_type=product&amp;#038;p=15300</td>\n",
       "      <td>product</td>\n",
       "    </tr>\n",
       "    <tr>\n",
       "      <th>3</th>\n",
       "      <td>4032</td>\n",
       "      <td>1</td>\n",
       "      <td>14.1</td>\n",
       "      <td>0</td>\n",
       "      <td>outofstock</td>\n",
       "      <td>19814</td>\n",
       "      <td>3.0</td>\n",
       "      <td>Pierre Jean Villa IGP Collines Rhodaniennes Gamine 2018</td>\n",
       "      <td>https://www.bottle-neck.fr/?post_type=product&amp;#038;p=19814</td>\n",
       "      <td>product</td>\n",
       "    </tr>\n",
       "    <tr>\n",
       "      <th>4</th>\n",
       "      <td>4039</td>\n",
       "      <td>1</td>\n",
       "      <td>46.0</td>\n",
       "      <td>0</td>\n",
       "      <td>outofstock</td>\n",
       "      <td>19815</td>\n",
       "      <td>0.0</td>\n",
       "      <td>Pierre Jean Villa Côte Rôtie Carmina 2017</td>\n",
       "      <td>https://www.bottle-neck.fr/?post_type=product&amp;#038;p=19815</td>\n",
       "      <td>product</td>\n",
       "    </tr>\n",
       "  </tbody>\n",
       "</table>\n",
       "</div>"
      ],
      "text/plain": [
       "   product_id  onsale_web  price  stock_quantity stock_status    sku  \\\n",
       "0        3847           1   24.2               0   outofstock  15298   \n",
       "1        3849           1   34.3               0   outofstock  15296   \n",
       "2        3850           1   20.8               0   outofstock  15300   \n",
       "3        4032           1   14.1               0   outofstock  19814   \n",
       "4        4039           1   46.0               0   outofstock  19815   \n",
       "\n",
       "   total_sales                                               post_title  \\\n",
       "0          6.0              Pierre Jean Villa Saint-Joseph Préface 2018   \n",
       "1          0.0          Pierre Jean Villa Saint-Joseph Rouge Tildé 2017   \n",
       "2          0.0   Pierre Jean Villa Crozes-Hermitage Accroche Coeur 2018   \n",
       "3          3.0  Pierre Jean Villa IGP Collines Rhodaniennes Gamine 2018   \n",
       "4          0.0                Pierre Jean Villa Côte Rôtie Carmina 2017   \n",
       "\n",
       "                                                         guid post_type  \n",
       "0  https://www.bottle-neck.fr/?post_type=product&#038;p=15298   product  \n",
       "1  https://www.bottle-neck.fr/?post_type=product&#038;p=15296   product  \n",
       "2  https://www.bottle-neck.fr/?post_type=product&#038;p=15300   product  \n",
       "3  https://www.bottle-neck.fr/?post_type=product&#038;p=19814   product  \n",
       "4  https://www.bottle-neck.fr/?post_type=product&#038;p=19815   product  "
      ]
     },
     "execution_count": 72,
     "metadata": {},
     "output_type": "execute_result"
    }
   ],
   "source": [
    "df_global.head()"
   ]
  },
  {
   "cell_type": "markdown",
   "id": "cfd70a89",
   "metadata": {
    "heading_collapsed": true
   },
   "source": [
    "# <div style=\"border: 1px solid RGB(173,40,59);\" >\n",
    "<h1 style=\"margin: auto; padding: 20px; color: RGB(173,40,59); \">\n",
    "IV. Analyse du dataframe global <a class='anchor' id='IV.-analyse-du-dataframe-global'></a> </h1>"
   ]
  },
  {
   "cell_type": "markdown",
   "id": "d37b5abb",
   "metadata": {
    "heading_collapsed": true,
    "hidden": true
   },
   "source": [
    "## \n",
    "<h2 style=\"margin: auto; padding: 20px; color: RGB(29,29,27); \">\n",
    "4.1  Analyse du chiffre d'affaires <a class='anchor' id='4.1-analyse-du-chiffre-d-affaires'></a> </h2>"
   ]
  },
  {
   "cell_type": "markdown",
   "id": "d11c52af",
   "metadata": {
    "heading_collapsed": true,
    "hidden": true
   },
   "source": [
    "###\n",
    "<h3 style=\"margin: auto; padding: 20px; color: RGB(173,40,59); \">\n",
    "4.1.1 CA par produit <a class='anchor' id='4.1.1-ca-par-produit'></a> </h3>"
   ]
  },
  {
   "cell_type": "code",
   "execution_count": 73,
   "id": "1d136fc8",
   "metadata": {
    "hidden": true
   },
   "outputs": [
    {
     "data": {
      "text/html": [
       "<div>\n",
       "<style scoped>\n",
       "    .dataframe tbody tr th:only-of-type {\n",
       "        vertical-align: middle;\n",
       "    }\n",
       "\n",
       "    .dataframe tbody tr th {\n",
       "        vertical-align: top;\n",
       "    }\n",
       "\n",
       "    .dataframe thead th {\n",
       "        text-align: right;\n",
       "    }\n",
       "</style>\n",
       "<table border=\"1\" class=\"dataframe\">\n",
       "  <thead>\n",
       "    <tr style=\"text-align: right;\">\n",
       "      <th></th>\n",
       "      <th>product_id</th>\n",
       "      <th>onsale_web</th>\n",
       "      <th>price</th>\n",
       "      <th>stock_quantity</th>\n",
       "      <th>stock_status</th>\n",
       "      <th>sku</th>\n",
       "      <th>total_sales</th>\n",
       "      <th>post_title</th>\n",
       "      <th>guid</th>\n",
       "      <th>post_type</th>\n",
       "      <th>chiffre_d'affaires</th>\n",
       "    </tr>\n",
       "  </thead>\n",
       "  <tbody>\n",
       "    <tr>\n",
       "      <th>0</th>\n",
       "      <td>3847</td>\n",
       "      <td>1</td>\n",
       "      <td>24.2</td>\n",
       "      <td>0</td>\n",
       "      <td>outofstock</td>\n",
       "      <td>15298</td>\n",
       "      <td>6.0</td>\n",
       "      <td>Pierre Jean Villa Saint-Joseph Préface 2018</td>\n",
       "      <td>https://www.bottle-neck.fr/?post_type=product&amp;#038;p=15298</td>\n",
       "      <td>product</td>\n",
       "      <td>145.2</td>\n",
       "    </tr>\n",
       "    <tr>\n",
       "      <th>1</th>\n",
       "      <td>3849</td>\n",
       "      <td>1</td>\n",
       "      <td>34.3</td>\n",
       "      <td>0</td>\n",
       "      <td>outofstock</td>\n",
       "      <td>15296</td>\n",
       "      <td>0.0</td>\n",
       "      <td>Pierre Jean Villa Saint-Joseph Rouge Tildé 2017</td>\n",
       "      <td>https://www.bottle-neck.fr/?post_type=product&amp;#038;p=15296</td>\n",
       "      <td>product</td>\n",
       "      <td>0.0</td>\n",
       "    </tr>\n",
       "    <tr>\n",
       "      <th>2</th>\n",
       "      <td>3850</td>\n",
       "      <td>1</td>\n",
       "      <td>20.8</td>\n",
       "      <td>0</td>\n",
       "      <td>outofstock</td>\n",
       "      <td>15300</td>\n",
       "      <td>0.0</td>\n",
       "      <td>Pierre Jean Villa Crozes-Hermitage Accroche Coeur 2018</td>\n",
       "      <td>https://www.bottle-neck.fr/?post_type=product&amp;#038;p=15300</td>\n",
       "      <td>product</td>\n",
       "      <td>0.0</td>\n",
       "    </tr>\n",
       "    <tr>\n",
       "      <th>3</th>\n",
       "      <td>4032</td>\n",
       "      <td>1</td>\n",
       "      <td>14.1</td>\n",
       "      <td>0</td>\n",
       "      <td>outofstock</td>\n",
       "      <td>19814</td>\n",
       "      <td>3.0</td>\n",
       "      <td>Pierre Jean Villa IGP Collines Rhodaniennes Gamine 2018</td>\n",
       "      <td>https://www.bottle-neck.fr/?post_type=product&amp;#038;p=19814</td>\n",
       "      <td>product</td>\n",
       "      <td>42.3</td>\n",
       "    </tr>\n",
       "    <tr>\n",
       "      <th>4</th>\n",
       "      <td>4039</td>\n",
       "      <td>1</td>\n",
       "      <td>46.0</td>\n",
       "      <td>0</td>\n",
       "      <td>outofstock</td>\n",
       "      <td>19815</td>\n",
       "      <td>0.0</td>\n",
       "      <td>Pierre Jean Villa Côte Rôtie Carmina 2017</td>\n",
       "      <td>https://www.bottle-neck.fr/?post_type=product&amp;#038;p=19815</td>\n",
       "      <td>product</td>\n",
       "      <td>0.0</td>\n",
       "    </tr>\n",
       "  </tbody>\n",
       "</table>\n",
       "</div>"
      ],
      "text/plain": [
       "   product_id  onsale_web  price  stock_quantity stock_status    sku  \\\n",
       "0        3847           1   24.2               0   outofstock  15298   \n",
       "1        3849           1   34.3               0   outofstock  15296   \n",
       "2        3850           1   20.8               0   outofstock  15300   \n",
       "3        4032           1   14.1               0   outofstock  19814   \n",
       "4        4039           1   46.0               0   outofstock  19815   \n",
       "\n",
       "   total_sales                                               post_title  \\\n",
       "0          6.0              Pierre Jean Villa Saint-Joseph Préface 2018   \n",
       "1          0.0          Pierre Jean Villa Saint-Joseph Rouge Tildé 2017   \n",
       "2          0.0   Pierre Jean Villa Crozes-Hermitage Accroche Coeur 2018   \n",
       "3          3.0  Pierre Jean Villa IGP Collines Rhodaniennes Gamine 2018   \n",
       "4          0.0                Pierre Jean Villa Côte Rôtie Carmina 2017   \n",
       "\n",
       "                                                         guid post_type  \\\n",
       "0  https://www.bottle-neck.fr/?post_type=product&#038;p=15298   product   \n",
       "1  https://www.bottle-neck.fr/?post_type=product&#038;p=15296   product   \n",
       "2  https://www.bottle-neck.fr/?post_type=product&#038;p=15300   product   \n",
       "3  https://www.bottle-neck.fr/?post_type=product&#038;p=19814   product   \n",
       "4  https://www.bottle-neck.fr/?post_type=product&#038;p=19815   product   \n",
       "\n",
       "   chiffre_d'affaires  \n",
       "0               145.2  \n",
       "1                 0.0  \n",
       "2                 0.0  \n",
       "3                42.3  \n",
       "4                 0.0  "
      ]
     },
     "execution_count": 73,
     "metadata": {},
     "output_type": "execute_result"
    }
   ],
   "source": [
    "#Création d'une colonne CA dans le df global \n",
    "df_global['chiffre_d\\'affaires'] = df_global['price'] * df_global['total_sales']\n",
    "df_global.head()"
   ]
  },
  {
   "cell_type": "code",
   "execution_count": 74,
   "id": "a92bb22e",
   "metadata": {
    "hidden": true
   },
   "outputs": [
    {
     "data": {
      "text/html": [
       "<div>\n",
       "<style scoped>\n",
       "    .dataframe tbody tr th:only-of-type {\n",
       "        vertical-align: middle;\n",
       "    }\n",
       "\n",
       "    .dataframe tbody tr th {\n",
       "        vertical-align: top;\n",
       "    }\n",
       "\n",
       "    .dataframe thead th {\n",
       "        text-align: right;\n",
       "    }\n",
       "</style>\n",
       "<table border=\"1\" class=\"dataframe\">\n",
       "  <thead>\n",
       "    <tr style=\"text-align: right;\">\n",
       "      <th></th>\n",
       "      <th>product_id</th>\n",
       "      <th>onsale_web</th>\n",
       "      <th>price</th>\n",
       "      <th>stock_quantity</th>\n",
       "      <th>stock_status</th>\n",
       "      <th>sku</th>\n",
       "      <th>total_sales</th>\n",
       "      <th>post_title</th>\n",
       "      <th>guid</th>\n",
       "      <th>post_type</th>\n",
       "      <th>chiffre_d'affaires</th>\n",
       "    </tr>\n",
       "  </thead>\n",
       "  <tbody>\n",
       "    <tr>\n",
       "      <th>286</th>\n",
       "      <td>4334</td>\n",
       "      <td>1</td>\n",
       "      <td>49.0</td>\n",
       "      <td>0</td>\n",
       "      <td>outofstock</td>\n",
       "      <td>7818</td>\n",
       "      <td>96.0</td>\n",
       "      <td>Champagne Gosset Grand Blanc de Blancs</td>\n",
       "      <td>https://www.bottle-neck.fr/?post_type=product&amp;#038;p=7818</td>\n",
       "      <td>product</td>\n",
       "      <td>4704.0</td>\n",
       "    </tr>\n",
       "    <tr>\n",
       "      <th>162</th>\n",
       "      <td>4144</td>\n",
       "      <td>1</td>\n",
       "      <td>49.0</td>\n",
       "      <td>11</td>\n",
       "      <td>instock</td>\n",
       "      <td>1662</td>\n",
       "      <td>87.0</td>\n",
       "      <td>Champagne Gosset Grand Rosé</td>\n",
       "      <td>https://www.bottle-neck.fr/?post_type=product&amp;#038;p=1662</td>\n",
       "      <td>product</td>\n",
       "      <td>4263.0</td>\n",
       "    </tr>\n",
       "    <tr>\n",
       "      <th>310</th>\n",
       "      <td>4402</td>\n",
       "      <td>1</td>\n",
       "      <td>176.0</td>\n",
       "      <td>8</td>\n",
       "      <td>instock</td>\n",
       "      <td>3510</td>\n",
       "      <td>13.0</td>\n",
       "      <td>Cognac Frapin VIP XO</td>\n",
       "      <td>https://www.bottle-neck.fr/?post_type=product&amp;#038;p=3510</td>\n",
       "      <td>product</td>\n",
       "      <td>2288.0</td>\n",
       "    </tr>\n",
       "    <tr>\n",
       "      <th>161</th>\n",
       "      <td>4142</td>\n",
       "      <td>1</td>\n",
       "      <td>53.0</td>\n",
       "      <td>8</td>\n",
       "      <td>instock</td>\n",
       "      <td>11641</td>\n",
       "      <td>30.0</td>\n",
       "      <td>Champagne Gosset Grand Millésime 2006</td>\n",
       "      <td>https://www.bottle-neck.fr/?post_type=product&amp;#038;p=11641</td>\n",
       "      <td>product</td>\n",
       "      <td>1590.0</td>\n",
       "    </tr>\n",
       "    <tr>\n",
       "      <th>160</th>\n",
       "      <td>4141</td>\n",
       "      <td>1</td>\n",
       "      <td>39.0</td>\n",
       "      <td>1</td>\n",
       "      <td>instock</td>\n",
       "      <td>304</td>\n",
       "      <td>40.0</td>\n",
       "      <td>Champagne Gosset Grande Réserve</td>\n",
       "      <td>https://www.bottle-neck.fr/?post_type=product&amp;#038;p=304</td>\n",
       "      <td>product</td>\n",
       "      <td>1560.0</td>\n",
       "    </tr>\n",
       "    <tr>\n",
       "      <th>293</th>\n",
       "      <td>4355</td>\n",
       "      <td>1</td>\n",
       "      <td>126.5</td>\n",
       "      <td>2</td>\n",
       "      <td>instock</td>\n",
       "      <td>12589</td>\n",
       "      <td>11.0</td>\n",
       "      <td>Champagne Egly-Ouriet Grand Cru Blanc de Noirs</td>\n",
       "      <td>https://www.bottle-neck.fr/?post_type=product&amp;#038;p=12589</td>\n",
       "      <td>product</td>\n",
       "      <td>1391.5</td>\n",
       "    </tr>\n",
       "    <tr>\n",
       "      <th>291</th>\n",
       "      <td>4352</td>\n",
       "      <td>1</td>\n",
       "      <td>225.0</td>\n",
       "      <td>0</td>\n",
       "      <td>outofstock</td>\n",
       "      <td>15940</td>\n",
       "      <td>5.0</td>\n",
       "      <td>Champagne Egly-Ouriet Grand Cru Millésimé 2008</td>\n",
       "      <td>https://www.bottle-neck.fr/?post_type=product&amp;#038;p=15940</td>\n",
       "      <td>product</td>\n",
       "      <td>1125.0</td>\n",
       "    </tr>\n",
       "    <tr>\n",
       "      <th>170</th>\n",
       "      <td>4153</td>\n",
       "      <td>1</td>\n",
       "      <td>29.0</td>\n",
       "      <td>0</td>\n",
       "      <td>outofstock</td>\n",
       "      <td>16237</td>\n",
       "      <td>36.0</td>\n",
       "      <td>Elian Daros Côtes du Marmandais Clos Baquey 2015</td>\n",
       "      <td>https://www.bottle-neck.fr/?post_type=product&amp;#038;p=16237</td>\n",
       "      <td>product</td>\n",
       "      <td>1044.0</td>\n",
       "    </tr>\n",
       "    <tr>\n",
       "      <th>761</th>\n",
       "      <td>6206</td>\n",
       "      <td>1</td>\n",
       "      <td>25.2</td>\n",
       "      <td>120</td>\n",
       "      <td>instock</td>\n",
       "      <td>16580</td>\n",
       "      <td>41.0</td>\n",
       "      <td>Domaine Giudicelli Patrimonio Blanc 2019</td>\n",
       "      <td>https://www.bottle-neck.fr/?post_type=product&amp;#038;p=16580</td>\n",
       "      <td>product</td>\n",
       "      <td>1033.2</td>\n",
       "    </tr>\n",
       "    <tr>\n",
       "      <th>121</th>\n",
       "      <td>4068</td>\n",
       "      <td>1</td>\n",
       "      <td>16.6</td>\n",
       "      <td>157</td>\n",
       "      <td>instock</td>\n",
       "      <td>16416</td>\n",
       "      <td>62.0</td>\n",
       "      <td>Gilles Robin Crozes-Hermitage Rouge Papillon 2019</td>\n",
       "      <td>https://www.bottle-neck.fr/?post_type=product&amp;#038;p=16416</td>\n",
       "      <td>product</td>\n",
       "      <td>1029.2</td>\n",
       "    </tr>\n",
       "  </tbody>\n",
       "</table>\n",
       "</div>"
      ],
      "text/plain": [
       "     product_id  onsale_web  price  stock_quantity stock_status    sku  \\\n",
       "286        4334           1   49.0               0   outofstock   7818   \n",
       "162        4144           1   49.0              11      instock   1662   \n",
       "310        4402           1  176.0               8      instock   3510   \n",
       "161        4142           1   53.0               8      instock  11641   \n",
       "160        4141           1   39.0               1      instock    304   \n",
       "293        4355           1  126.5               2      instock  12589   \n",
       "291        4352           1  225.0               0   outofstock  15940   \n",
       "170        4153           1   29.0               0   outofstock  16237   \n",
       "761        6206           1   25.2             120      instock  16580   \n",
       "121        4068           1   16.6             157      instock  16416   \n",
       "\n",
       "     total_sales                                         post_title  \\\n",
       "286         96.0             Champagne Gosset Grand Blanc de Blancs   \n",
       "162         87.0                        Champagne Gosset Grand Rosé   \n",
       "310         13.0                               Cognac Frapin VIP XO   \n",
       "161         30.0              Champagne Gosset Grand Millésime 2006   \n",
       "160         40.0                    Champagne Gosset Grande Réserve   \n",
       "293         11.0     Champagne Egly-Ouriet Grand Cru Blanc de Noirs   \n",
       "291          5.0     Champagne Egly-Ouriet Grand Cru Millésimé 2008   \n",
       "170         36.0   Elian Daros Côtes du Marmandais Clos Baquey 2015   \n",
       "761         41.0           Domaine Giudicelli Patrimonio Blanc 2019   \n",
       "121         62.0  Gilles Robin Crozes-Hermitage Rouge Papillon 2019   \n",
       "\n",
       "                                                           guid post_type  \\\n",
       "286   https://www.bottle-neck.fr/?post_type=product&#038;p=7818   product   \n",
       "162   https://www.bottle-neck.fr/?post_type=product&#038;p=1662   product   \n",
       "310   https://www.bottle-neck.fr/?post_type=product&#038;p=3510   product   \n",
       "161  https://www.bottle-neck.fr/?post_type=product&#038;p=11641   product   \n",
       "160    https://www.bottle-neck.fr/?post_type=product&#038;p=304   product   \n",
       "293  https://www.bottle-neck.fr/?post_type=product&#038;p=12589   product   \n",
       "291  https://www.bottle-neck.fr/?post_type=product&#038;p=15940   product   \n",
       "170  https://www.bottle-neck.fr/?post_type=product&#038;p=16237   product   \n",
       "761  https://www.bottle-neck.fr/?post_type=product&#038;p=16580   product   \n",
       "121  https://www.bottle-neck.fr/?post_type=product&#038;p=16416   product   \n",
       "\n",
       "     chiffre_d'affaires  \n",
       "286              4704.0  \n",
       "162              4263.0  \n",
       "310              2288.0  \n",
       "161              1590.0  \n",
       "160              1560.0  \n",
       "293              1391.5  \n",
       "291              1125.0  \n",
       "170              1044.0  \n",
       "761              1033.2  \n",
       "121              1029.2  "
      ]
     },
     "execution_count": 74,
     "metadata": {},
     "output_type": "execute_result"
    }
   ],
   "source": [
    "#Top 10 des produits les plus vendus\n",
    "top_10_ca = df_global.sort_values('chiffre_d\\'affaires', ascending = False).head(10)\n",
    "top_10_ca"
   ]
  },
  {
   "cell_type": "markdown",
   "id": "ad2742f7",
   "metadata": {
    "heading_collapsed": true,
    "hidden": true
   },
   "source": [
    "####\n",
    "<h4 style=\"margin: auto; padding: 20px; color: RGB(29,29,27); \">\n",
    "a. Visualisations <a class='anchor' id='a.-visualisations'></a> </h4>"
   ]
  },
  {
   "cell_type": "markdown",
   "id": "08bcffc2",
   "metadata": {
    "hidden": true
   },
   "source": [
    "**VISUALISATION DU CA EN FONCTION DES PRIX DES PRODUITS**"
   ]
  },
  {
   "cell_type": "code",
   "execution_count": 75,
   "id": "383a7ff2",
   "metadata": {
    "hidden": true
   },
   "outputs": [
    {
     "data": {
      "image/png": "[encoded data removed]",
      "text/plain": [
       "<Figure size 600x400 with 1 Axes>"
      ]
     },
     "metadata": {},
     "output_type": "display_data"
    }
   ],
   "source": [
    "plt.figure(figsize=(6, 4))\n",
    "\n",
    "plt.scatter(df_global['price'],df_global['chiffre_d\\'affaires'], c=df_global['total_sales'], cmap='Reds')\n",
    "plt.title('Chiffre d\\'affaires par rapport au prix des produits', fontsize=10)\n",
    "plt.xlabel('Prix', fontsize=8)\n",
    "plt.ylabel('Chiffre d\\'affaires', fontsize=8)\n",
    "plt.grid()\n",
    "plt.show()"
   ]
  },
  {
   "cell_type": "markdown",
   "id": "c703ee4f",
   "metadata": {
    "hidden": true
   },
   "source": [
    "<div style=\"border: 1px solid RGB(173,40,59);\"\n",
    "     \n",
    "**OBSERVATIONS :** \n",
    "     \n",
    "- La concentration des ventes se situent sur des produits ayant un prix inférieur à 75 €. \n",
    "- Le chiffre d\\'affaires des produits les plus vendus ne dépasse pas les 1 000 €. \n",
    "- Il y a peu de ventes sur les produits ayant un prix supérieur à 100 €. \n",
    "- Les chiffres d\\'affaires les plus élevés concernent des produits d\\'un prix de 50 €. \n"
   ]
  },
  {
   "cell_type": "markdown",
   "id": "ea8d315e",
   "metadata": {
    "hidden": true
   },
   "source": [
    "**VISUALISATION DU TOP 10 DES PRODUITS (CA)**"
   ]
  },
  {
   "cell_type": "code",
   "execution_count": 76,
   "id": "c892d9e2",
   "metadata": {
    "hidden": true
   },
   "outputs": [
    {
     "data": {
      "image/png": "[encoded data removed]",
      "text/plain": [
       "<Figure size 800x600 with 1 Axes>"
      ]
     },
     "metadata": {},
     "output_type": "display_data"
    }
   ],
   "source": [
    "plt.figure(figsize=(8,6))\n",
    "sns.barplot(data=top_10_ca, x='product_id', y='chiffre_d\\'affaires', palette='Reds')\n",
    "plt.title('Top 10 du chiffre d\\'affaires par produit', fontsize=10)\n",
    "plt.ylabel('Chiffre d\\'affaires (en €)', fontsize=8)\n",
    "plt.xlabel('Référence produit', fontsize=8)\n",
    "\n",
    "#Afficher les valeurs au-dessus des barplot\n",
    "capdt=top_10_ca.sort_values('product_id')\n",
    "capdt=capdt['chiffre_d\\'affaires'].tolist()\n",
    "for i in range(10):    #itérer 10 fois\n",
    "    plt.text(i-0.3,capdt[i]+100,capdt[i],fontsize=8)\n",
    "\n",
    "\n",
    "plt.show()"
   ]
  },
  {
   "cell_type": "markdown",
   "id": "8ed4cc67",
   "metadata": {
    "hidden": true
   },
   "source": [
    "<div style=\"border: 1px solid RGB(173,40,59);\"\n",
    "     \n",
    "**OBSERVATIONS :** \n",
    "     \n",
    "- La concentration des ventes se situent sur des produits ayant un prix inférieur à 75 €. \n",
    "- Le chiffre d\\'affaires des produits les plus vendus ne dépasse pas les 1 000 €. \n",
    "- Il y a peu de ventes sur les produits ayant un prix supérieur à 100 €. \n",
    "- Les chiffres d\\'affaires les plus élevés concernent des produits d\\'un prix de 50 €."
   ]
  },
  {
   "cell_type": "code",
   "execution_count": 77,
   "id": "f072216a",
   "metadata": {
    "hidden": true
   },
   "outputs": [
    {
     "data": {
      "text/html": [
       "<div>\n",
       "<style scoped>\n",
       "    .dataframe tbody tr th:only-of-type {\n",
       "        vertical-align: middle;\n",
       "    }\n",
       "\n",
       "    .dataframe tbody tr th {\n",
       "        vertical-align: top;\n",
       "    }\n",
       "\n",
       "    .dataframe thead th {\n",
       "        text-align: right;\n",
       "    }\n",
       "</style>\n",
       "<table border=\"1\" class=\"dataframe\">\n",
       "  <thead>\n",
       "    <tr style=\"text-align: right;\">\n",
       "      <th></th>\n",
       "      <th>product_id</th>\n",
       "      <th>onsale_web</th>\n",
       "      <th>price</th>\n",
       "      <th>stock_quantity</th>\n",
       "      <th>stock_status</th>\n",
       "      <th>sku</th>\n",
       "      <th>total_sales</th>\n",
       "      <th>post_title</th>\n",
       "      <th>guid</th>\n",
       "      <th>post_type</th>\n",
       "      <th>chiffre_d'affaires</th>\n",
       "    </tr>\n",
       "  </thead>\n",
       "  <tbody>\n",
       "    <tr>\n",
       "      <th>286</th>\n",
       "      <td>4334</td>\n",
       "      <td>1</td>\n",
       "      <td>49.0</td>\n",
       "      <td>0</td>\n",
       "      <td>outofstock</td>\n",
       "      <td>7818</td>\n",
       "      <td>96.0</td>\n",
       "      <td>Champagne Gosset Grand Blanc de Blancs</td>\n",
       "      <td>https://www.bottle-neck.fr/?post_type=product&amp;#038;p=7818</td>\n",
       "      <td>product</td>\n",
       "      <td>4704.0</td>\n",
       "    </tr>\n",
       "    <tr>\n",
       "      <th>162</th>\n",
       "      <td>4144</td>\n",
       "      <td>1</td>\n",
       "      <td>49.0</td>\n",
       "      <td>11</td>\n",
       "      <td>instock</td>\n",
       "      <td>1662</td>\n",
       "      <td>87.0</td>\n",
       "      <td>Champagne Gosset Grand Rosé</td>\n",
       "      <td>https://www.bottle-neck.fr/?post_type=product&amp;#038;p=1662</td>\n",
       "      <td>product</td>\n",
       "      <td>4263.0</td>\n",
       "    </tr>\n",
       "    <tr>\n",
       "      <th>121</th>\n",
       "      <td>4068</td>\n",
       "      <td>1</td>\n",
       "      <td>16.6</td>\n",
       "      <td>157</td>\n",
       "      <td>instock</td>\n",
       "      <td>16416</td>\n",
       "      <td>62.0</td>\n",
       "      <td>Gilles Robin Crozes-Hermitage Rouge Papillon 2019</td>\n",
       "      <td>https://www.bottle-neck.fr/?post_type=product&amp;#038;p=16416</td>\n",
       "      <td>product</td>\n",
       "      <td>1029.2</td>\n",
       "    </tr>\n",
       "    <tr>\n",
       "      <th>210</th>\n",
       "      <td>4200</td>\n",
       "      <td>1</td>\n",
       "      <td>5.8</td>\n",
       "      <td>190</td>\n",
       "      <td>instock</td>\n",
       "      <td>16295</td>\n",
       "      <td>46.0</td>\n",
       "      <td>Moulin de Gassac IGP Pays d'Hérault Guilhem Rosé 2019</td>\n",
       "      <td>https://www.bottle-neck.fr/?post_type=product&amp;#038;p=16295</td>\n",
       "      <td>product</td>\n",
       "      <td>266.8</td>\n",
       "    </tr>\n",
       "    <tr>\n",
       "      <th>188</th>\n",
       "      <td>4172</td>\n",
       "      <td>1</td>\n",
       "      <td>5.7</td>\n",
       "      <td>167</td>\n",
       "      <td>instock</td>\n",
       "      <td>16210</td>\n",
       "      <td>43.0</td>\n",
       "      <td>Maurel Pays d'Oc Chardonnay 2019</td>\n",
       "      <td>https://www.bottle-neck.fr/?post_type=product&amp;#038;p=16210</td>\n",
       "      <td>product</td>\n",
       "      <td>245.1</td>\n",
       "    </tr>\n",
       "    <tr>\n",
       "      <th>200</th>\n",
       "      <td>4187</td>\n",
       "      <td>1</td>\n",
       "      <td>13.3</td>\n",
       "      <td>90</td>\n",
       "      <td>instock</td>\n",
       "      <td>16189</td>\n",
       "      <td>42.0</td>\n",
       "      <td>Le Pas de l'Escalette Languedoc Les Petits Pas 2019</td>\n",
       "      <td>https://www.bottle-neck.fr/?post_type=product&amp;#038;p=16189</td>\n",
       "      <td>product</td>\n",
       "      <td>558.6</td>\n",
       "    </tr>\n",
       "    <tr>\n",
       "      <th>761</th>\n",
       "      <td>6206</td>\n",
       "      <td>1</td>\n",
       "      <td>25.2</td>\n",
       "      <td>120</td>\n",
       "      <td>instock</td>\n",
       "      <td>16580</td>\n",
       "      <td>41.0</td>\n",
       "      <td>Domaine Giudicelli Patrimonio Blanc 2019</td>\n",
       "      <td>https://www.bottle-neck.fr/?post_type=product&amp;#038;p=16580</td>\n",
       "      <td>product</td>\n",
       "      <td>1033.2</td>\n",
       "    </tr>\n",
       "    <tr>\n",
       "      <th>160</th>\n",
       "      <td>4141</td>\n",
       "      <td>1</td>\n",
       "      <td>39.0</td>\n",
       "      <td>1</td>\n",
       "      <td>instock</td>\n",
       "      <td>304</td>\n",
       "      <td>40.0</td>\n",
       "      <td>Champagne Gosset Grande Réserve</td>\n",
       "      <td>https://www.bottle-neck.fr/?post_type=product&amp;#038;p=304</td>\n",
       "      <td>product</td>\n",
       "      <td>1560.0</td>\n",
       "    </tr>\n",
       "    <tr>\n",
       "      <th>734</th>\n",
       "      <td>6047</td>\n",
       "      <td>1</td>\n",
       "      <td>10.9</td>\n",
       "      <td>46</td>\n",
       "      <td>instock</td>\n",
       "      <td>16264</td>\n",
       "      <td>38.0</td>\n",
       "      <td>Château de La Liquière Faugères L'Ampoule 2019</td>\n",
       "      <td>https://www.bottle-neck.fr/?post_type=product&amp;#038;p=16264</td>\n",
       "      <td>product</td>\n",
       "      <td>414.2</td>\n",
       "    </tr>\n",
       "    <tr>\n",
       "      <th>418</th>\n",
       "      <td>4729</td>\n",
       "      <td>1</td>\n",
       "      <td>8.6</td>\n",
       "      <td>151</td>\n",
       "      <td>instock</td>\n",
       "      <td>38</td>\n",
       "      <td>38.0</td>\n",
       "      <td>Emile Boeckel Crémant Brut Blanc de Blancs</td>\n",
       "      <td>https://www.bottle-neck.fr/?post_type=product&amp;#038;p=38</td>\n",
       "      <td>product</td>\n",
       "      <td>326.8</td>\n",
       "    </tr>\n",
       "  </tbody>\n",
       "</table>\n",
       "</div>"
      ],
      "text/plain": [
       "     product_id  onsale_web  price  stock_quantity stock_status    sku  \\\n",
       "286        4334           1   49.0               0   outofstock   7818   \n",
       "162        4144           1   49.0              11      instock   1662   \n",
       "121        4068           1   16.6             157      instock  16416   \n",
       "210        4200           1    5.8             190      instock  16295   \n",
       "188        4172           1    5.7             167      instock  16210   \n",
       "200        4187           1   13.3              90      instock  16189   \n",
       "761        6206           1   25.2             120      instock  16580   \n",
       "160        4141           1   39.0               1      instock    304   \n",
       "734        6047           1   10.9              46      instock  16264   \n",
       "418        4729           1    8.6             151      instock     38   \n",
       "\n",
       "     total_sales                                             post_title  \\\n",
       "286         96.0                 Champagne Gosset Grand Blanc de Blancs   \n",
       "162         87.0                            Champagne Gosset Grand Rosé   \n",
       "121         62.0      Gilles Robin Crozes-Hermitage Rouge Papillon 2019   \n",
       "210         46.0  Moulin de Gassac IGP Pays d'Hérault Guilhem Rosé 2019   \n",
       "188         43.0                       Maurel Pays d'Oc Chardonnay 2019   \n",
       "200         42.0    Le Pas de l'Escalette Languedoc Les Petits Pas 2019   \n",
       "761         41.0               Domaine Giudicelli Patrimonio Blanc 2019   \n",
       "160         40.0                        Champagne Gosset Grande Réserve   \n",
       "734         38.0         Château de La Liquière Faugères L'Ampoule 2019   \n",
       "418         38.0             Emile Boeckel Crémant Brut Blanc de Blancs   \n",
       "\n",
       "                                                           guid post_type  \\\n",
       "286   https://www.bottle-neck.fr/?post_type=product&#038;p=7818   product   \n",
       "162   https://www.bottle-neck.fr/?post_type=product&#038;p=1662   product   \n",
       "121  https://www.bottle-neck.fr/?post_type=product&#038;p=16416   product   \n",
       "210  https://www.bottle-neck.fr/?post_type=product&#038;p=16295   product   \n",
       "188  https://www.bottle-neck.fr/?post_type=product&#038;p=16210   product   \n",
       "200  https://www.bottle-neck.fr/?post_type=product&#038;p=16189   product   \n",
       "761  https://www.bottle-neck.fr/?post_type=product&#038;p=16580   product   \n",
       "160    https://www.bottle-neck.fr/?post_type=product&#038;p=304   product   \n",
       "734  https://www.bottle-neck.fr/?post_type=product&#038;p=16264   product   \n",
       "418     https://www.bottle-neck.fr/?post_type=product&#038;p=38   product   \n",
       "\n",
       "     chiffre_d'affaires  \n",
       "286              4704.0  \n",
       "162              4263.0  \n",
       "121              1029.2  \n",
       "210               266.8  \n",
       "188               245.1  \n",
       "200               558.6  \n",
       "761              1033.2  \n",
       "160              1560.0  \n",
       "734               414.2  \n",
       "418               326.8  "
      ]
     },
     "execution_count": 77,
     "metadata": {},
     "output_type": "execute_result"
    }
   ],
   "source": [
    "#Top 10 des ventes par produit\n",
    "top_10_sales = df_global.sort_values('total_sales', ascending = False).head(10)\n",
    "top_10_sales"
   ]
  },
  {
   "cell_type": "markdown",
   "id": "4f3973b4",
   "metadata": {
    "hidden": true
   },
   "source": [
    "**VISUALISATION DU TOP 10 DES VENTES PAR PRODUIT**"
   ]
  },
  {
   "cell_type": "code",
   "execution_count": 78,
   "id": "5ef8f7a3",
   "metadata": {
    "hidden": true
   },
   "outputs": [
    {
     "data": {
      "image/png": "[encoded data removed]",
      "text/plain": [
       "<Figure size 800x600 with 1 Axes>"
      ]
     },
     "metadata": {},
     "output_type": "display_data"
    }
   ],
   "source": [
    "plt.figure(figsize = (8,6))\n",
    "sns.barplot(data = top_10_sales, x='product_id', y='total_sales', palette='Reds')\n",
    "plt.title('Top 10 des ventes par produit', fontsize = 10)\n",
    "plt.ylabel('Total des ventes', fontsize = 8)\n",
    "plt.xlabel('Référence produit', fontsize = 8)\n",
    "\n",
    "plt.show()"
   ]
  },
  {
   "cell_type": "markdown",
   "id": "7bb26416",
   "metadata": {
    "heading_collapsed": true,
    "hidden": true
   },
   "source": [
    "###\n",
    "<h3 style=\"margin: auto; padding: 20px; color: RGB(173,40,59); \">\n",
    "4.1.2 CA total réalisé en ligne <a class='anchor' id='4.1.2-ca-total-réalise-en-ligne'></a> </h3>"
   ]
  },
  {
   "cell_type": "code",
   "execution_count": 79,
   "id": "dbf319a0",
   "metadata": {
    "hidden": true
   },
   "outputs": [
    {
     "name": "stdout",
     "output_type": "stream",
     "text": [
      "Le chiffre d'affaires total réalisé en ligne est de 70 568 euros.\n"
     ]
    }
   ],
   "source": [
    "ca_total = df_global['chiffre_d\\'affaires'].sum()\n",
    "print('Le chiffre d\\'affaires total réalisé en ligne est de', '{:,}'.format(int(ca_total)).replace(',', ' '), 'euros.')\n"
   ]
  },
  {
   "cell_type": "markdown",
   "id": "05301763",
   "metadata": {
    "heading_collapsed": true,
    "hidden": true
   },
   "source": [
    "## \n",
    "<h2 style=\"margin: auto; padding: 20px; color: RGB(29,29,27); \">\n",
    "4.2  Analyse des erreurs de saisie des prix <a class='anchor' id='4.2-analyse-des-erreurs-de-saisie-des-prix'></a> </h2>"
   ]
  },
  {
   "cell_type": "markdown",
   "id": "a8d8af3e",
   "metadata": {
    "hidden": true
   },
   "source": [
    "Nous allons à présent analyser si le dataframe global contient des anomalies. "
   ]
  },
  {
   "cell_type": "markdown",
   "id": "41d6dc41",
   "metadata": {
    "heading_collapsed": true,
    "hidden": true
   },
   "source": [
    "###\n",
    "<h3 style=\"margin: auto; padding: 20px; color: RGB(173,40,59); \">\n",
    "4.2.1 Description du df global <a class='anchor' id='4.2.1-description-du-df-global'></a> </h3>"
   ]
  },
  {
   "cell_type": "code",
   "execution_count": 80,
   "id": "a2cefed8",
   "metadata": {
    "hidden": true
   },
   "outputs": [
    {
     "data": {
      "text/html": [
       "<div>\n",
       "<style scoped>\n",
       "    .dataframe tbody tr th:only-of-type {\n",
       "        vertical-align: middle;\n",
       "    }\n",
       "\n",
       "    .dataframe tbody tr th {\n",
       "        vertical-align: top;\n",
       "    }\n",
       "\n",
       "    .dataframe thead th {\n",
       "        text-align: right;\n",
       "    }\n",
       "</style>\n",
       "<table border=\"1\" class=\"dataframe\">\n",
       "  <thead>\n",
       "    <tr style=\"text-align: right;\">\n",
       "      <th></th>\n",
       "      <th>product_id</th>\n",
       "      <th>onsale_web</th>\n",
       "      <th>price</th>\n",
       "      <th>stock_quantity</th>\n",
       "      <th>total_sales</th>\n",
       "      <th>chiffre_d'affaires</th>\n",
       "    </tr>\n",
       "  </thead>\n",
       "  <tbody>\n",
       "    <tr>\n",
       "      <th>count</th>\n",
       "      <td>714.000000</td>\n",
       "      <td>714.0</td>\n",
       "      <td>714.000000</td>\n",
       "      <td>714.000000</td>\n",
       "      <td>714.000000</td>\n",
       "      <td>714.000000</td>\n",
       "    </tr>\n",
       "    <tr>\n",
       "      <th>mean</th>\n",
       "      <td>5032.557423</td>\n",
       "      <td>1.0</td>\n",
       "      <td>32.493137</td>\n",
       "      <td>28.761905</td>\n",
       "      <td>4.012605</td>\n",
       "      <td>98.835574</td>\n",
       "    </tr>\n",
       "    <tr>\n",
       "      <th>std</th>\n",
       "      <td>790.510878</td>\n",
       "      <td>0.0</td>\n",
       "      <td>27.810525</td>\n",
       "      <td>48.005486</td>\n",
       "      <td>8.518183</td>\n",
       "      <td>307.685071</td>\n",
       "    </tr>\n",
       "    <tr>\n",
       "      <th>min</th>\n",
       "      <td>3847.000000</td>\n",
       "      <td>1.0</td>\n",
       "      <td>5.200000</td>\n",
       "      <td>-1.000000</td>\n",
       "      <td>0.000000</td>\n",
       "      <td>0.000000</td>\n",
       "    </tr>\n",
       "    <tr>\n",
       "      <th>25%</th>\n",
       "      <td>4280.250000</td>\n",
       "      <td>1.0</td>\n",
       "      <td>14.100000</td>\n",
       "      <td>2.000000</td>\n",
       "      <td>0.000000</td>\n",
       "      <td>0.000000</td>\n",
       "    </tr>\n",
       "    <tr>\n",
       "      <th>50%</th>\n",
       "      <td>4796.000000</td>\n",
       "      <td>1.0</td>\n",
       "      <td>23.550000</td>\n",
       "      <td>12.000000</td>\n",
       "      <td>1.000000</td>\n",
       "      <td>15.250000</td>\n",
       "    </tr>\n",
       "    <tr>\n",
       "      <th>75%</th>\n",
       "      <td>5710.500000</td>\n",
       "      <td>1.0</td>\n",
       "      <td>42.175000</td>\n",
       "      <td>35.000000</td>\n",
       "      <td>4.000000</td>\n",
       "      <td>91.150000</td>\n",
       "    </tr>\n",
       "    <tr>\n",
       "      <th>max</th>\n",
       "      <td>7338.000000</td>\n",
       "      <td>1.0</td>\n",
       "      <td>225.000000</td>\n",
       "      <td>578.000000</td>\n",
       "      <td>96.000000</td>\n",
       "      <td>4704.000000</td>\n",
       "    </tr>\n",
       "  </tbody>\n",
       "</table>\n",
       "</div>"
      ],
      "text/plain": [
       "        product_id  onsale_web       price  stock_quantity  total_sales  \\\n",
       "count   714.000000       714.0  714.000000      714.000000   714.000000   \n",
       "mean   5032.557423         1.0   32.493137       28.761905     4.012605   \n",
       "std     790.510878         0.0   27.810525       48.005486     8.518183   \n",
       "min    3847.000000         1.0    5.200000       -1.000000     0.000000   \n",
       "25%    4280.250000         1.0   14.100000        2.000000     0.000000   \n",
       "50%    4796.000000         1.0   23.550000       12.000000     1.000000   \n",
       "75%    5710.500000         1.0   42.175000       35.000000     4.000000   \n",
       "max    7338.000000         1.0  225.000000      578.000000    96.000000   \n",
       "\n",
       "       chiffre_d'affaires  \n",
       "count          714.000000  \n",
       "mean            98.835574  \n",
       "std            307.685071  \n",
       "min              0.000000  \n",
       "25%              0.000000  \n",
       "50%             15.250000  \n",
       "75%             91.150000  \n",
       "max           4704.000000  "
      ]
     },
     "execution_count": 80,
     "metadata": {},
     "output_type": "execute_result"
    }
   ],
   "source": [
    "df_global.describe()"
   ]
  },
  {
   "cell_type": "markdown",
   "id": "ca88723c",
   "metadata": {
    "hidden": true
   },
   "source": [
    "<div style=\"border: 1px solid RGB(173,40,59);\"\n",
    "     \n",
    "**OBSERVATIONS VENTES :** \n",
    "     \n",
    "**Price** : \n",
    "- 75% des prix sont inférieurs à 42 €.  \n",
    "\n",
    "**Total_sales**\n",
    "- 75% du nombre des ventes d\\'un produit sont inférieurs à 4 ventes. \n",
    "- Le nombre de ventes d\\'un produit est compris entre 0 et 96 ventes. \n",
    "                         \n",
    "**Chiffre_d\\'affaires**                         \n",
    "- 75% du CA par produit est inférieure à 91,15 €. \n",
    "- Le CA par produit est compris entre 0 et 4704 €. \n",
    "                                                                                                                "
   ]
  },
  {
   "cell_type": "markdown",
   "id": "5464be6c",
   "metadata": {
    "hidden": true
   },
   "source": [
    "###\n",
    "<h3 style=\"margin: auto; padding: 20px; color: RGB(173,40,59); \">\n",
    "4.2.2 Les outliers potentiels <a class='anchor' id='4.2.2-les-outliers-potentiels'></a> </h3>"
   ]
  },
  {
   "cell_type": "markdown",
   "id": "45d9141c",
   "metadata": {
    "hidden": true
   },
   "source": [
    "À présent, nous allons vérifier s'il y a des erreurs de saisie de prix pour certains produits. \n",
    "\n",
    "Pour cela, nous allons réaliser une analyse sur la variable 'price' afin de détecter d'éventuelle valeurs aberrantes (outliers) et de les lister. \n",
    "\n",
    "Nous allons également les représenter graphiquement pour plus de lisibilité. "
   ]
  },
  {
   "cell_type": "markdown",
   "id": "ca83dbfa",
   "metadata": {
    "heading_collapsed": true,
    "hidden": true
   },
   "source": [
    "####\n",
    "<h4 style=\"margin: auto; padding: 20px; color: RGB(29,29,27); \">\n",
    "a. Méthode écart interquartile <a class='anchor' id='a.-methode-ecart-interquartile'></a> </h4>"
   ]
  },
  {
   "cell_type": "markdown",
   "id": "283d3f49",
   "metadata": {
    "hidden": true
   },
   "source": [
    "Si certaines valeurs de 'price' sont au-dessous de Q1 - 1,5IQ ou au-dessus de Q3 + 1,5IQ, alors elles sont considérées comme outliers. \n",
    "\n",
    "Donc nous devons calculer l'écart interquartile (IQ). \n",
    "\n",
    "**IQ = Q3 - Q1**"
   ]
  },
  {
   "cell_type": "code",
   "execution_count": 81,
   "id": "384cfb74",
   "metadata": {
    "hidden": true
   },
   "outputs": [
    {
     "data": {
      "text/plain": [
       "count    714.000000\n",
       "mean      32.493137\n",
       "std       27.810525\n",
       "min        5.200000\n",
       "25%       14.100000\n",
       "50%       23.550000\n",
       "75%       42.175000\n",
       "max      225.000000\n",
       "Name: price, dtype: float64"
      ]
     },
     "execution_count": 81,
     "metadata": {},
     "output_type": "execute_result"
    }
   ],
   "source": [
    "df_global['price'].describe()"
   ]
  },
  {
   "cell_type": "markdown",
   "id": "97085ab8",
   "metadata": {
    "hidden": true
   },
   "source": [
    "**Q1** : 1/4 des valeurs se trouvent en dessous  et 3/4 au-dessus\n",
    "\n",
    "**Med** : la moitié des valeurs se trouvent en dessous et l'autre moitié au-dessus\n",
    "\n",
    "**Q3** : 3/4 se trouvent en dessous et 1/4 au-dessus"
   ]
  },
  {
   "cell_type": "code",
   "execution_count": 82,
   "id": "dc93f6d3",
   "metadata": {
    "hidden": true
   },
   "outputs": [
    {
     "name": "stdout",
     "output_type": "stream",
     "text": [
      "L'écart interquartile est de 28.07 .\n"
     ]
    }
   ],
   "source": [
    "#Calcul de l'écart interquartile \n",
    "q1 = 14.10\n",
    "q3 = 42.17\n",
    "iq = q3 - q1\n",
    "print('L\\'écart interquartile est de', iq, '.')"
   ]
  },
  {
   "cell_type": "code",
   "execution_count": 83,
   "id": "ede71267",
   "metadata": {
    "hidden": true
   },
   "outputs": [
    {
     "name": "stdout",
     "output_type": "stream",
     "text": [
      "Les prix sont considérés comme outliers ceux étant en dessous de la valeur minimale de -28.01 €, et ceux au-dessus de la valeur maximale de 84.28 €.\n"
     ]
    }
   ],
   "source": [
    "#Calcul de la valeur minimale et la valeur maximale \n",
    "val_min = q1 - (1.5 * iq)\n",
    "val_max = q3 + (1.5 * iq)\n",
    "print('Les prix sont considérés comme outliers ceux étant en dessous de la valeur minimale de', round(val_min,2), '€, et ceux au-dessus de la valeur maximale de', round(val_max,2), '€.')"
   ]
  },
  {
   "cell_type": "markdown",
   "id": "2ffc07a3",
   "metadata": {
    "heading_collapsed": true,
    "hidden": true
   },
   "source": [
    "####\n",
    "<h4 style=\"margin: auto; padding: 20px; color: RGB(29,29,27); \">\n",
    "b. Première visualisation graphique des potentiels outliers <a class='anchor' id='b.-premiere-visualisation-graphique-des-potentiels-outliers'></a> </h4>"
   ]
  },
  {
   "cell_type": "markdown",
   "id": "e6eb369d",
   "metadata": {
    "hidden": true
   },
   "source": [
    "Les outliers peuvent être soit :\n",
    "- des valeurs aberrantes et donc des valeurs fausses\n",
    "- des valeurs atypiques c'est-à-dire qui sortent du lot mais ne sont pas forcément fausses\n",
    "\n",
    "Nous pouvons les déterminer car ce sont des valeurs trop importantes ou trop faibles par rapport à l'ensemble des valeurs de 'price'. "
   ]
  },
  {
   "cell_type": "code",
   "execution_count": 84,
   "id": "4c5af273",
   "metadata": {
    "hidden": true
   },
   "outputs": [
    {
     "data": {
      "image/png": "[encoded data removed]",
      "text/plain": [
       "<Figure size 800x600 with 1 Axes>"
      ]
     },
     "metadata": {},
     "output_type": "display_data"
    }
   ],
   "source": [
    "#Création d'un histogramme pour visualisation la répartition des prix\n",
    "plt.figure(figsize = (8,6))\n",
    "sns.histplot(data = df_global, x='price', color='darkred')\n",
    "plt.title('Répartition des prix des produits', fontsize = 10)\n",
    "plt.ylabel('Nombre', fontsize = 8)\n",
    "plt.xlabel('Prix', fontsize = 8)\n",
    "\n",
    "plt.show()"
   ]
  },
  {
   "cell_type": "code",
   "execution_count": 85,
   "id": "9edee06c",
   "metadata": {
    "hidden": true
   },
   "outputs": [
    {
     "data": {
      "image/png": "[encoded data removed]",
      "text/plain": [
       "<Figure size 800x600 with 1 Axes>"
      ]
     },
     "metadata": {},
     "output_type": "display_data"
    }
   ],
   "source": [
    "#Création d'un boxplot pour visualiser la dispersion de cette distribution\n",
    "plt.figure(figsize = (8,6))\n",
    "sns.boxplot(data = df_global, x='price', color='darkred')\n",
    "plt.title('Dispersion de la distribution des prix', fontsize = 10)\n",
    "plt.xlabel('Prix', fontsize = 8)\n",
    "\n",
    "plt.show()"
   ]
  },
  {
   "cell_type": "markdown",
   "id": "5c0c6d77",
   "metadata": {
    "hidden": true
   },
   "source": [
    "<div style=\"border: 1px solid RGB(173,40,59);\"\n",
    "     \n",
    "**REMARQUE :** \n",
    "     \n",
    "- On peut observer plusieurs outliers.\n",
    "- Les 2 graphiques se rejoignent et se concordent. \n",
    "- Une grande partie des valeurs est proche de la médiane\n",
    "- Il y a un grand écart entre la médiane et la valeur maximale contrairement à celui avec la valeur minimale"
   ]
  },
  {
   "cell_type": "markdown",
   "id": "585ed4e0",
   "metadata": {
    "heading_collapsed": true,
    "hidden": true
   },
   "source": [
    "####\n",
    "<h4 style=\"margin: auto; padding: 20px; color: RGB(29,29,27); \">\n",
    "c. Liste des outliers potentiels <a class='anchor' id='c.-liste-des-outliers-potentiels'></a> </h4>"
   ]
  },
  {
   "cell_type": "code",
   "execution_count": 86,
   "id": "1548d19c",
   "metadata": {
    "hidden": true
   },
   "outputs": [
    {
     "name": "stdout",
     "output_type": "stream",
     "text": [
      "32 potentiels outliers ont été relevés.\n"
     ]
    }
   ],
   "source": [
    "#Afficher le nombre de outliers\n",
    "price_outlier = df_global[(df_global['price'] < val_min) | (df_global['price'] > val_max)]\n",
    "nb_outlier = len(price_outlier)\n",
    "print(f\"{nb_outlier} potentiels outliers ont été relevés.\")"
   ]
  },
  {
   "cell_type": "code",
   "execution_count": 87,
   "id": "d7ae9a6d",
   "metadata": {
    "hidden": true
   },
   "outputs": [
    {
     "data": {
      "text/html": [
       "<div>\n",
       "<style scoped>\n",
       "    .dataframe tbody tr th:only-of-type {\n",
       "        vertical-align: middle;\n",
       "    }\n",
       "\n",
       "    .dataframe tbody tr th {\n",
       "        vertical-align: top;\n",
       "    }\n",
       "\n",
       "    .dataframe thead th {\n",
       "        text-align: right;\n",
       "    }\n",
       "</style>\n",
       "<table border=\"1\" class=\"dataframe\">\n",
       "  <thead>\n",
       "    <tr style=\"text-align: right;\">\n",
       "      <th></th>\n",
       "      <th>product_id</th>\n",
       "      <th>price</th>\n",
       "      <th>sku</th>\n",
       "      <th>post_title</th>\n",
       "    </tr>\n",
       "  </thead>\n",
       "  <tbody>\n",
       "    <tr>\n",
       "      <th>297</th>\n",
       "      <td>4359</td>\n",
       "      <td>85.6</td>\n",
       "      <td>13853</td>\n",
       "      <td>Champagne Larmandier-Bernier Grand Cru Les Chemins d'Avize 2011</td>\n",
       "    </tr>\n",
       "    <tr>\n",
       "      <th>539</th>\n",
       "      <td>5026</td>\n",
       "      <td>86.8</td>\n",
       "      <td>13913</td>\n",
       "      <td>Champagne Agrapart &amp;amp; Fils Minéral Extra Brut Blanc de Blancs Grand Cru 2012</td>\n",
       "    </tr>\n",
       "    <tr>\n",
       "      <th>156</th>\n",
       "      <td>4132</td>\n",
       "      <td>88.4</td>\n",
       "      <td>11668</td>\n",
       "      <td>Zind-Humbrecht Pinot Gris Grand Cru Rangen De Thann Clos Saint-Urbain 2012</td>\n",
       "    </tr>\n",
       "    <tr>\n",
       "      <th>605</th>\n",
       "      <td>5565</td>\n",
       "      <td>92.0</td>\n",
       "      <td>19822</td>\n",
       "      <td>Tempier Bandol Cabassaou 2017</td>\n",
       "    </tr>\n",
       "    <tr>\n",
       "      <th>707</th>\n",
       "      <td>5916</td>\n",
       "      <td>93.0</td>\n",
       "      <td>14774</td>\n",
       "      <td>Wemyss Malts Single Cask Scotch Whisky Chocolate Moka Cake 2005 Strathclyde</td>\n",
       "    </tr>\n",
       "    <tr>\n",
       "      <th>765</th>\n",
       "      <td>6214</td>\n",
       "      <td>99.0</td>\n",
       "      <td>11601</td>\n",
       "      <td>Domaine des Comtes Lafon Volnay 1er Cru Champans 2013</td>\n",
       "    </tr>\n",
       "    <tr>\n",
       "      <th>154</th>\n",
       "      <td>4115</td>\n",
       "      <td>100.0</td>\n",
       "      <td>15382</td>\n",
       "      <td>Zind-Humbrecht Riesling Grand Cru Rangen De Thann Clos Saint-Urbain 2017</td>\n",
       "    </tr>\n",
       "    <tr>\n",
       "      <th>477</th>\n",
       "      <td>4903</td>\n",
       "      <td>102.3</td>\n",
       "      <td>14805</td>\n",
       "      <td>Domaine Des Croix Corton Grand Cru Les Grèves 2017</td>\n",
       "    </tr>\n",
       "    <tr>\n",
       "      <th>314</th>\n",
       "      <td>4407</td>\n",
       "      <td>104.0</td>\n",
       "      <td>3509</td>\n",
       "      <td>Cognac Frapin Cigar Blend</td>\n",
       "    </tr>\n",
       "    <tr>\n",
       "      <th>531</th>\n",
       "      <td>5008</td>\n",
       "      <td>105.0</td>\n",
       "      <td>11602</td>\n",
       "      <td>Domaine des Comtes Lafon Volnay 1er Cru Santenots du Milieu 2013</td>\n",
       "    </tr>\n",
       "    <tr>\n",
       "      <th>530</th>\n",
       "      <td>5007</td>\n",
       "      <td>105.0</td>\n",
       "      <td>12791</td>\n",
       "      <td>Domaine des Comtes Lafon Volnay 1er Cru Santenots du Milieu 2014</td>\n",
       "    </tr>\n",
       "    <tr>\n",
       "      <th>757</th>\n",
       "      <td>6201</td>\n",
       "      <td>105.6</td>\n",
       "      <td>14596</td>\n",
       "      <td>David Duband Chambolle-Musigny 1er Cru Les Sentiers 2016</td>\n",
       "    </tr>\n",
       "    <tr>\n",
       "      <th>311</th>\n",
       "      <td>4404</td>\n",
       "      <td>108.5</td>\n",
       "      <td>3507</td>\n",
       "      <td>Cognac Frapin Château de Fontpinot XO</td>\n",
       "    </tr>\n",
       "    <tr>\n",
       "      <th>320</th>\n",
       "      <td>4582</td>\n",
       "      <td>109.6</td>\n",
       "      <td>12857</td>\n",
       "      <td>Château de Meursault Puligny-Montrachet 1er Cru Champ Canet 2014</td>\n",
       "    </tr>\n",
       "    <tr>\n",
       "      <th>538</th>\n",
       "      <td>5025</td>\n",
       "      <td>112.0</td>\n",
       "      <td>13914</td>\n",
       "      <td>Champagne Agrapart &amp;amp; Fils L'Avizoise Extra Brut Blanc de Blancs Grand Cru 2012</td>\n",
       "    </tr>\n",
       "    <tr>\n",
       "      <th>709</th>\n",
       "      <td>5918</td>\n",
       "      <td>114.0</td>\n",
       "      <td>14773</td>\n",
       "      <td>Wemyss Malts Single Cask Scotch Whisky Chai Caramel Latte 2002 Craigellachie</td>\n",
       "    </tr>\n",
       "    <tr>\n",
       "      <th>763</th>\n",
       "      <td>6212</td>\n",
       "      <td>115.0</td>\n",
       "      <td>13996</td>\n",
       "      <td>Domaine des Comtes Lafon Volnay 1er Cru Santenots du Milieu 2015</td>\n",
       "    </tr>\n",
       "    <tr>\n",
       "      <th>766</th>\n",
       "      <td>6215</td>\n",
       "      <td>115.0</td>\n",
       "      <td>12790</td>\n",
       "      <td>Domaine des Comtes Lafon Volnay 1er Cru Champans 2014</td>\n",
       "    </tr>\n",
       "    <tr>\n",
       "      <th>758</th>\n",
       "      <td>6202</td>\n",
       "      <td>116.4</td>\n",
       "      <td>15126</td>\n",
       "      <td>Domaine Clerget Echezeaux Grand Cru En Orveaux 2015</td>\n",
       "    </tr>\n",
       "    <tr>\n",
       "      <th>764</th>\n",
       "      <td>6213</td>\n",
       "      <td>121.0</td>\n",
       "      <td>15072</td>\n",
       "      <td>Domaine des Comtes Lafon Volnay 1er Cru Santenots du Milieu 2016</td>\n",
       "    </tr>\n",
       "    <tr>\n",
       "      <th>767</th>\n",
       "      <td>6216</td>\n",
       "      <td>121.0</td>\n",
       "      <td>15070</td>\n",
       "      <td>Domaine des Comtes Lafon Volnay 1er Cru Champans 2016</td>\n",
       "    </tr>\n",
       "    <tr>\n",
       "      <th>708</th>\n",
       "      <td>5917</td>\n",
       "      <td>122.0</td>\n",
       "      <td>14775</td>\n",
       "      <td>Wemyss Malts Single Cask Scotch Whisky Choc 'n' Nut Pretzel 2001 Bunnahabhain</td>\n",
       "    </tr>\n",
       "    <tr>\n",
       "      <th>615</th>\n",
       "      <td>5612</td>\n",
       "      <td>124.8</td>\n",
       "      <td>14915</td>\n",
       "      <td>Domaine Weinbach Gewurztraminer Grand Cru Furstentum SGN 2010 1/2</td>\n",
       "    </tr>\n",
       "    <tr>\n",
       "      <th>293</th>\n",
       "      <td>4355</td>\n",
       "      <td>126.5</td>\n",
       "      <td>12589</td>\n",
       "      <td>Champagne Egly-Ouriet Grand Cru Blanc de Noirs</td>\n",
       "    </tr>\n",
       "    <tr>\n",
       "      <th>752</th>\n",
       "      <td>6126</td>\n",
       "      <td>135.0</td>\n",
       "      <td>14923</td>\n",
       "      <td>Champagne Gosset Célébris Vintage 2007</td>\n",
       "    </tr>\n",
       "    <tr>\n",
       "      <th>478</th>\n",
       "      <td>4904</td>\n",
       "      <td>137.0</td>\n",
       "      <td>14220</td>\n",
       "      <td>Domaine Des Croix Corton Charlemagne Grand Cru 2016</td>\n",
       "    </tr>\n",
       "    <tr>\n",
       "      <th>313</th>\n",
       "      <td>4406</td>\n",
       "      <td>157.0</td>\n",
       "      <td>7819</td>\n",
       "      <td>Cognac Frapin Château de Fontpinot 1989 20 Ans d'Age</td>\n",
       "    </tr>\n",
       "    <tr>\n",
       "      <th>657</th>\n",
       "      <td>5767</td>\n",
       "      <td>175.0</td>\n",
       "      <td>15185</td>\n",
       "      <td>Camille Giroud Clos de Vougeot 2016</td>\n",
       "    </tr>\n",
       "    <tr>\n",
       "      <th>310</th>\n",
       "      <td>4402</td>\n",
       "      <td>176.0</td>\n",
       "      <td>3510</td>\n",
       "      <td>Cognac Frapin VIP XO</td>\n",
       "    </tr>\n",
       "    <tr>\n",
       "      <th>692</th>\n",
       "      <td>5892</td>\n",
       "      <td>191.3</td>\n",
       "      <td>14983</td>\n",
       "      <td>Coteaux Champenois Egly-Ouriet Ambonnay Rouge 2016</td>\n",
       "    </tr>\n",
       "    <tr>\n",
       "      <th>525</th>\n",
       "      <td>5001</td>\n",
       "      <td>217.5</td>\n",
       "      <td>14581</td>\n",
       "      <td>David Duband Charmes-Chambertin Grand Cru 2014</td>\n",
       "    </tr>\n",
       "    <tr>\n",
       "      <th>291</th>\n",
       "      <td>4352</td>\n",
       "      <td>225.0</td>\n",
       "      <td>15940</td>\n",
       "      <td>Champagne Egly-Ouriet Grand Cru Millésimé 2008</td>\n",
       "    </tr>\n",
       "  </tbody>\n",
       "</table>\n",
       "</div>"
      ],
      "text/plain": [
       "     product_id  price    sku  \\\n",
       "297        4359   85.6  13853   \n",
       "539        5026   86.8  13913   \n",
       "156        4132   88.4  11668   \n",
       "605        5565   92.0  19822   \n",
       "707        5916   93.0  14774   \n",
       "765        6214   99.0  11601   \n",
       "154        4115  100.0  15382   \n",
       "477        4903  102.3  14805   \n",
       "314        4407  104.0   3509   \n",
       "531        5008  105.0  11602   \n",
       "530        5007  105.0  12791   \n",
       "757        6201  105.6  14596   \n",
       "311        4404  108.5   3507   \n",
       "320        4582  109.6  12857   \n",
       "538        5025  112.0  13914   \n",
       "709        5918  114.0  14773   \n",
       "763        6212  115.0  13996   \n",
       "766        6215  115.0  12790   \n",
       "758        6202  116.4  15126   \n",
       "764        6213  121.0  15072   \n",
       "767        6216  121.0  15070   \n",
       "708        5917  122.0  14775   \n",
       "615        5612  124.8  14915   \n",
       "293        4355  126.5  12589   \n",
       "752        6126  135.0  14923   \n",
       "478        4904  137.0  14220   \n",
       "313        4406  157.0   7819   \n",
       "657        5767  175.0  15185   \n",
       "310        4402  176.0   3510   \n",
       "692        5892  191.3  14983   \n",
       "525        5001  217.5  14581   \n",
       "291        4352  225.0  15940   \n",
       "\n",
       "                                                                             post_title  \n",
       "297                     Champagne Larmandier-Bernier Grand Cru Les Chemins d'Avize 2011  \n",
       "539     Champagne Agrapart &amp; Fils Minéral Extra Brut Blanc de Blancs Grand Cru 2012  \n",
       "156          Zind-Humbrecht Pinot Gris Grand Cru Rangen De Thann Clos Saint-Urbain 2012  \n",
       "605                                                       Tempier Bandol Cabassaou 2017  \n",
       "707         Wemyss Malts Single Cask Scotch Whisky Chocolate Moka Cake 2005 Strathclyde  \n",
       "765                               Domaine des Comtes Lafon Volnay 1er Cru Champans 2013  \n",
       "154            Zind-Humbrecht Riesling Grand Cru Rangen De Thann Clos Saint-Urbain 2017  \n",
       "477                                  Domaine Des Croix Corton Grand Cru Les Grèves 2017  \n",
       "314                                                           Cognac Frapin Cigar Blend  \n",
       "531                    Domaine des Comtes Lafon Volnay 1er Cru Santenots du Milieu 2013  \n",
       "530                    Domaine des Comtes Lafon Volnay 1er Cru Santenots du Milieu 2014  \n",
       "757                            David Duband Chambolle-Musigny 1er Cru Les Sentiers 2016  \n",
       "311                                               Cognac Frapin Château de Fontpinot XO  \n",
       "320                    Château de Meursault Puligny-Montrachet 1er Cru Champ Canet 2014  \n",
       "538  Champagne Agrapart &amp; Fils L'Avizoise Extra Brut Blanc de Blancs Grand Cru 2012  \n",
       "709        Wemyss Malts Single Cask Scotch Whisky Chai Caramel Latte 2002 Craigellachie  \n",
       "763                    Domaine des Comtes Lafon Volnay 1er Cru Santenots du Milieu 2015  \n",
       "766                               Domaine des Comtes Lafon Volnay 1er Cru Champans 2014  \n",
       "758                                 Domaine Clerget Echezeaux Grand Cru En Orveaux 2015  \n",
       "764                    Domaine des Comtes Lafon Volnay 1er Cru Santenots du Milieu 2016  \n",
       "767                               Domaine des Comtes Lafon Volnay 1er Cru Champans 2016  \n",
       "708       Wemyss Malts Single Cask Scotch Whisky Choc 'n' Nut Pretzel 2001 Bunnahabhain  \n",
       "615                   Domaine Weinbach Gewurztraminer Grand Cru Furstentum SGN 2010 1/2  \n",
       "293                                      Champagne Egly-Ouriet Grand Cru Blanc de Noirs  \n",
       "752                                              Champagne Gosset Célébris Vintage 2007  \n",
       "478                                 Domaine Des Croix Corton Charlemagne Grand Cru 2016  \n",
       "313                                Cognac Frapin Château de Fontpinot 1989 20 Ans d'Age  \n",
       "657                                                 Camille Giroud Clos de Vougeot 2016  \n",
       "310                                                                Cognac Frapin VIP XO  \n",
       "692                                  Coteaux Champenois Egly-Ouriet Ambonnay Rouge 2016  \n",
       "525                                      David Duband Charmes-Chambertin Grand Cru 2014  \n",
       "291                                      Champagne Egly-Ouriet Grand Cru Millésimé 2008  "
      ]
     },
     "execution_count": 87,
     "metadata": {},
     "output_type": "execute_result"
    }
   ],
   "source": [
    "#Afficher la liste des produits concernés avec seulement les variables qui nous intéressent\n",
    "price_outlier[['product_id', 'price', 'sku', 'post_title']].sort_values('price')"
   ]
  },
  {
   "cell_type": "markdown",
   "id": "fd877c28",
   "metadata": {
    "heading_collapsed": true,
    "hidden": true
   },
   "source": [
    "###\n",
    "<h3 style=\"margin: auto; padding: 20px; color: RGB(173,40,59); \">\n",
    "4.2.3 Représentation graphique <a class='anchor' id='4.2.3-representation-graphique'></a> </h3>"
   ]
  },
  {
   "cell_type": "markdown",
   "id": "12d64c03",
   "metadata": {
    "hidden": true
   },
   "source": [
    "**Visualisation graphique des outliers**"
   ]
  },
  {
   "cell_type": "code",
   "execution_count": 88,
   "id": "aadd7507",
   "metadata": {
    "hidden": true
   },
   "outputs": [],
   "source": [
    "#Création d'un df qui répertorie seulement les produits ayant des prix normaux \n",
    "price_ok = df_global[(df_global['price'] > val_min) | (df_global['price'] < val_max)]"
   ]
  },
  {
   "cell_type": "code",
   "execution_count": 89,
   "id": "07bb4049",
   "metadata": {
    "hidden": true
   },
   "outputs": [
    {
     "data": {
      "image/png": "[encoded data removed]",
      "text/plain": [
       "<Figure size 800x600 with 1 Axes>"
      ]
     },
     "metadata": {},
     "output_type": "display_data"
    }
   ],
   "source": [
    "#Représentation nuage de points \n",
    "plt.figure(figsize = (8,6))\n",
    "ok = plt.scatter(price_ok['price'].index, price_ok['price'].values, c='darkred')\n",
    "outlier = plt.scatter(price_outlier['price'].index, price_outlier['price'].values, c='red')\n",
    "plt.title('Outliers des prix de produits', fontsize = 10)\n",
    "plt.xlabel('Index des produits', fontsize = 8)\n",
    "plt.ylabel('Prix', fontsize = 8)\n",
    "plt.legend([ok, outlier], ['Prix normaux', 'Outliers de prix'])\n",
    "plt.show()"
   ]
  },
  {
   "cell_type": "code",
   "execution_count": 90,
   "id": "ccdb93c2",
   "metadata": {
    "hidden": true
   },
   "outputs": [
    {
     "data": {
      "image/png": "[encoded data removed]",
      "text/plain": [
       "<Figure size 800x600 with 1 Axes>"
      ]
     },
     "metadata": {},
     "output_type": "display_data"
    }
   ],
   "source": [
    "plt.figure(figsize = (8,6))\n",
    "sns.histplot(data = price_outlier, x='price', color='red')\n",
    "plt.title('Répartition des outliers de prix des produits', fontsize = 10)\n",
    "plt.ylabel('Nombre', fontsize = 8)\n",
    "plt.xlabel('Prix', fontsize = 8)\n",
    "\n",
    "plt.show()"
   ]
  },
  {
   "cell_type": "markdown",
   "id": "05bce9f4",
   "metadata": {
    "heading_collapsed": true,
    "hidden": true
   },
   "source": [
    "###\n",
    "<h3 style=\"margin: auto; padding: 20px; color: RGB(173,40,59); \">\n",
    "4.2.4 Analyse des outliers <a class='anchor' id='4.2.4-analyse-des-outliers'></a> </h3>"
   ]
  },
  {
   "cell_type": "markdown",
   "id": "34f6a29b",
   "metadata": {
    "hidden": true
   },
   "source": [
    "Bottleneck est une entreprise de vin très prestigieux. \n",
    "\n",
    "Il n'est pas impossible que les outliers ne soient pas des valeurs aberrantes mais plutôt des vins relativement coûteux par rapport à la majorité de ces produits. L'entreprise peut posséder quelques vins luxueux.\n",
    "\n",
    "Pour cela, nous pouvons vérifier les prix des produits chez la concurrence afin de voir si les prix de ces vins sont réellement aberrants ou normaux. "
   ]
  },
  {
   "cell_type": "code",
   "execution_count": 91,
   "id": "fad0b0f4",
   "metadata": {
    "hidden": true
   },
   "outputs": [
    {
     "data": {
      "text/html": [
       "<div>\n",
       "<style scoped>\n",
       "    .dataframe tbody tr th:only-of-type {\n",
       "        vertical-align: middle;\n",
       "    }\n",
       "\n",
       "    .dataframe tbody tr th {\n",
       "        vertical-align: top;\n",
       "    }\n",
       "\n",
       "    .dataframe thead th {\n",
       "        text-align: right;\n",
       "    }\n",
       "</style>\n",
       "<table border=\"1\" class=\"dataframe\">\n",
       "  <thead>\n",
       "    <tr style=\"text-align: right;\">\n",
       "      <th></th>\n",
       "      <th>product_id</th>\n",
       "      <th>price</th>\n",
       "      <th>sku</th>\n",
       "      <th>post_title</th>\n",
       "    </tr>\n",
       "  </thead>\n",
       "  <tbody>\n",
       "    <tr>\n",
       "      <th>297</th>\n",
       "      <td>4359</td>\n",
       "      <td>85.6</td>\n",
       "      <td>13853</td>\n",
       "      <td>Champagne Larmandier-Bernier Grand Cru Les Chemins d'Avize 2011</td>\n",
       "    </tr>\n",
       "    <tr>\n",
       "      <th>539</th>\n",
       "      <td>5026</td>\n",
       "      <td>86.8</td>\n",
       "      <td>13913</td>\n",
       "      <td>Champagne Agrapart &amp;amp; Fils Minéral Extra Brut Blanc de Blancs Grand Cru 2012</td>\n",
       "    </tr>\n",
       "    <tr>\n",
       "      <th>156</th>\n",
       "      <td>4132</td>\n",
       "      <td>88.4</td>\n",
       "      <td>11668</td>\n",
       "      <td>Zind-Humbrecht Pinot Gris Grand Cru Rangen De Thann Clos Saint-Urbain 2012</td>\n",
       "    </tr>\n",
       "    <tr>\n",
       "      <th>605</th>\n",
       "      <td>5565</td>\n",
       "      <td>92.0</td>\n",
       "      <td>19822</td>\n",
       "      <td>Tempier Bandol Cabassaou 2017</td>\n",
       "    </tr>\n",
       "    <tr>\n",
       "      <th>707</th>\n",
       "      <td>5916</td>\n",
       "      <td>93.0</td>\n",
       "      <td>14774</td>\n",
       "      <td>Wemyss Malts Single Cask Scotch Whisky Chocolate Moka Cake 2005 Strathclyde</td>\n",
       "    </tr>\n",
       "    <tr>\n",
       "      <th>765</th>\n",
       "      <td>6214</td>\n",
       "      <td>99.0</td>\n",
       "      <td>11601</td>\n",
       "      <td>Domaine des Comtes Lafon Volnay 1er Cru Champans 2013</td>\n",
       "    </tr>\n",
       "    <tr>\n",
       "      <th>154</th>\n",
       "      <td>4115</td>\n",
       "      <td>100.0</td>\n",
       "      <td>15382</td>\n",
       "      <td>Zind-Humbrecht Riesling Grand Cru Rangen De Thann Clos Saint-Urbain 2017</td>\n",
       "    </tr>\n",
       "    <tr>\n",
       "      <th>477</th>\n",
       "      <td>4903</td>\n",
       "      <td>102.3</td>\n",
       "      <td>14805</td>\n",
       "      <td>Domaine Des Croix Corton Grand Cru Les Grèves 2017</td>\n",
       "    </tr>\n",
       "    <tr>\n",
       "      <th>314</th>\n",
       "      <td>4407</td>\n",
       "      <td>104.0</td>\n",
       "      <td>3509</td>\n",
       "      <td>Cognac Frapin Cigar Blend</td>\n",
       "    </tr>\n",
       "    <tr>\n",
       "      <th>531</th>\n",
       "      <td>5008</td>\n",
       "      <td>105.0</td>\n",
       "      <td>11602</td>\n",
       "      <td>Domaine des Comtes Lafon Volnay 1er Cru Santenots du Milieu 2013</td>\n",
       "    </tr>\n",
       "    <tr>\n",
       "      <th>530</th>\n",
       "      <td>5007</td>\n",
       "      <td>105.0</td>\n",
       "      <td>12791</td>\n",
       "      <td>Domaine des Comtes Lafon Volnay 1er Cru Santenots du Milieu 2014</td>\n",
       "    </tr>\n",
       "    <tr>\n",
       "      <th>757</th>\n",
       "      <td>6201</td>\n",
       "      <td>105.6</td>\n",
       "      <td>14596</td>\n",
       "      <td>David Duband Chambolle-Musigny 1er Cru Les Sentiers 2016</td>\n",
       "    </tr>\n",
       "    <tr>\n",
       "      <th>311</th>\n",
       "      <td>4404</td>\n",
       "      <td>108.5</td>\n",
       "      <td>3507</td>\n",
       "      <td>Cognac Frapin Château de Fontpinot XO</td>\n",
       "    </tr>\n",
       "    <tr>\n",
       "      <th>320</th>\n",
       "      <td>4582</td>\n",
       "      <td>109.6</td>\n",
       "      <td>12857</td>\n",
       "      <td>Château de Meursault Puligny-Montrachet 1er Cru Champ Canet 2014</td>\n",
       "    </tr>\n",
       "    <tr>\n",
       "      <th>538</th>\n",
       "      <td>5025</td>\n",
       "      <td>112.0</td>\n",
       "      <td>13914</td>\n",
       "      <td>Champagne Agrapart &amp;amp; Fils L'Avizoise Extra Brut Blanc de Blancs Grand Cru 2012</td>\n",
       "    </tr>\n",
       "    <tr>\n",
       "      <th>709</th>\n",
       "      <td>5918</td>\n",
       "      <td>114.0</td>\n",
       "      <td>14773</td>\n",
       "      <td>Wemyss Malts Single Cask Scotch Whisky Chai Caramel Latte 2002 Craigellachie</td>\n",
       "    </tr>\n",
       "    <tr>\n",
       "      <th>763</th>\n",
       "      <td>6212</td>\n",
       "      <td>115.0</td>\n",
       "      <td>13996</td>\n",
       "      <td>Domaine des Comtes Lafon Volnay 1er Cru Santenots du Milieu 2015</td>\n",
       "    </tr>\n",
       "    <tr>\n",
       "      <th>766</th>\n",
       "      <td>6215</td>\n",
       "      <td>115.0</td>\n",
       "      <td>12790</td>\n",
       "      <td>Domaine des Comtes Lafon Volnay 1er Cru Champans 2014</td>\n",
       "    </tr>\n",
       "    <tr>\n",
       "      <th>758</th>\n",
       "      <td>6202</td>\n",
       "      <td>116.4</td>\n",
       "      <td>15126</td>\n",
       "      <td>Domaine Clerget Echezeaux Grand Cru En Orveaux 2015</td>\n",
       "    </tr>\n",
       "    <tr>\n",
       "      <th>764</th>\n",
       "      <td>6213</td>\n",
       "      <td>121.0</td>\n",
       "      <td>15072</td>\n",
       "      <td>Domaine des Comtes Lafon Volnay 1er Cru Santenots du Milieu 2016</td>\n",
       "    </tr>\n",
       "    <tr>\n",
       "      <th>767</th>\n",
       "      <td>6216</td>\n",
       "      <td>121.0</td>\n",
       "      <td>15070</td>\n",
       "      <td>Domaine des Comtes Lafon Volnay 1er Cru Champans 2016</td>\n",
       "    </tr>\n",
       "    <tr>\n",
       "      <th>708</th>\n",
       "      <td>5917</td>\n",
       "      <td>122.0</td>\n",
       "      <td>14775</td>\n",
       "      <td>Wemyss Malts Single Cask Scotch Whisky Choc 'n' Nut Pretzel 2001 Bunnahabhain</td>\n",
       "    </tr>\n",
       "    <tr>\n",
       "      <th>615</th>\n",
       "      <td>5612</td>\n",
       "      <td>124.8</td>\n",
       "      <td>14915</td>\n",
       "      <td>Domaine Weinbach Gewurztraminer Grand Cru Furstentum SGN 2010 1/2</td>\n",
       "    </tr>\n",
       "    <tr>\n",
       "      <th>293</th>\n",
       "      <td>4355</td>\n",
       "      <td>126.5</td>\n",
       "      <td>12589</td>\n",
       "      <td>Champagne Egly-Ouriet Grand Cru Blanc de Noirs</td>\n",
       "    </tr>\n",
       "    <tr>\n",
       "      <th>752</th>\n",
       "      <td>6126</td>\n",
       "      <td>135.0</td>\n",
       "      <td>14923</td>\n",
       "      <td>Champagne Gosset Célébris Vintage 2007</td>\n",
       "    </tr>\n",
       "    <tr>\n",
       "      <th>478</th>\n",
       "      <td>4904</td>\n",
       "      <td>137.0</td>\n",
       "      <td>14220</td>\n",
       "      <td>Domaine Des Croix Corton Charlemagne Grand Cru 2016</td>\n",
       "    </tr>\n",
       "    <tr>\n",
       "      <th>313</th>\n",
       "      <td>4406</td>\n",
       "      <td>157.0</td>\n",
       "      <td>7819</td>\n",
       "      <td>Cognac Frapin Château de Fontpinot 1989 20 Ans d'Age</td>\n",
       "    </tr>\n",
       "    <tr>\n",
       "      <th>657</th>\n",
       "      <td>5767</td>\n",
       "      <td>175.0</td>\n",
       "      <td>15185</td>\n",
       "      <td>Camille Giroud Clos de Vougeot 2016</td>\n",
       "    </tr>\n",
       "    <tr>\n",
       "      <th>310</th>\n",
       "      <td>4402</td>\n",
       "      <td>176.0</td>\n",
       "      <td>3510</td>\n",
       "      <td>Cognac Frapin VIP XO</td>\n",
       "    </tr>\n",
       "    <tr>\n",
       "      <th>692</th>\n",
       "      <td>5892</td>\n",
       "      <td>191.3</td>\n",
       "      <td>14983</td>\n",
       "      <td>Coteaux Champenois Egly-Ouriet Ambonnay Rouge 2016</td>\n",
       "    </tr>\n",
       "    <tr>\n",
       "      <th>525</th>\n",
       "      <td>5001</td>\n",
       "      <td>217.5</td>\n",
       "      <td>14581</td>\n",
       "      <td>David Duband Charmes-Chambertin Grand Cru 2014</td>\n",
       "    </tr>\n",
       "    <tr>\n",
       "      <th>291</th>\n",
       "      <td>4352</td>\n",
       "      <td>225.0</td>\n",
       "      <td>15940</td>\n",
       "      <td>Champagne Egly-Ouriet Grand Cru Millésimé 2008</td>\n",
       "    </tr>\n",
       "  </tbody>\n",
       "</table>\n",
       "</div>"
      ],
      "text/plain": [
       "     product_id  price    sku  \\\n",
       "297        4359   85.6  13853   \n",
       "539        5026   86.8  13913   \n",
       "156        4132   88.4  11668   \n",
       "605        5565   92.0  19822   \n",
       "707        5916   93.0  14774   \n",
       "765        6214   99.0  11601   \n",
       "154        4115  100.0  15382   \n",
       "477        4903  102.3  14805   \n",
       "314        4407  104.0   3509   \n",
       "531        5008  105.0  11602   \n",
       "530        5007  105.0  12791   \n",
       "757        6201  105.6  14596   \n",
       "311        4404  108.5   3507   \n",
       "320        4582  109.6  12857   \n",
       "538        5025  112.0  13914   \n",
       "709        5918  114.0  14773   \n",
       "763        6212  115.0  13996   \n",
       "766        6215  115.0  12790   \n",
       "758        6202  116.4  15126   \n",
       "764        6213  121.0  15072   \n",
       "767        6216  121.0  15070   \n",
       "708        5917  122.0  14775   \n",
       "615        5612  124.8  14915   \n",
       "293        4355  126.5  12589   \n",
       "752        6126  135.0  14923   \n",
       "478        4904  137.0  14220   \n",
       "313        4406  157.0   7819   \n",
       "657        5767  175.0  15185   \n",
       "310        4402  176.0   3510   \n",
       "692        5892  191.3  14983   \n",
       "525        5001  217.5  14581   \n",
       "291        4352  225.0  15940   \n",
       "\n",
       "                                                                             post_title  \n",
       "297                     Champagne Larmandier-Bernier Grand Cru Les Chemins d'Avize 2011  \n",
       "539     Champagne Agrapart &amp; Fils Minéral Extra Brut Blanc de Blancs Grand Cru 2012  \n",
       "156          Zind-Humbrecht Pinot Gris Grand Cru Rangen De Thann Clos Saint-Urbain 2012  \n",
       "605                                                       Tempier Bandol Cabassaou 2017  \n",
       "707         Wemyss Malts Single Cask Scotch Whisky Chocolate Moka Cake 2005 Strathclyde  \n",
       "765                               Domaine des Comtes Lafon Volnay 1er Cru Champans 2013  \n",
       "154            Zind-Humbrecht Riesling Grand Cru Rangen De Thann Clos Saint-Urbain 2017  \n",
       "477                                  Domaine Des Croix Corton Grand Cru Les Grèves 2017  \n",
       "314                                                           Cognac Frapin Cigar Blend  \n",
       "531                    Domaine des Comtes Lafon Volnay 1er Cru Santenots du Milieu 2013  \n",
       "530                    Domaine des Comtes Lafon Volnay 1er Cru Santenots du Milieu 2014  \n",
       "757                            David Duband Chambolle-Musigny 1er Cru Les Sentiers 2016  \n",
       "311                                               Cognac Frapin Château de Fontpinot XO  \n",
       "320                    Château de Meursault Puligny-Montrachet 1er Cru Champ Canet 2014  \n",
       "538  Champagne Agrapart &amp; Fils L'Avizoise Extra Brut Blanc de Blancs Grand Cru 2012  \n",
       "709        Wemyss Malts Single Cask Scotch Whisky Chai Caramel Latte 2002 Craigellachie  \n",
       "763                    Domaine des Comtes Lafon Volnay 1er Cru Santenots du Milieu 2015  \n",
       "766                               Domaine des Comtes Lafon Volnay 1er Cru Champans 2014  \n",
       "758                                 Domaine Clerget Echezeaux Grand Cru En Orveaux 2015  \n",
       "764                    Domaine des Comtes Lafon Volnay 1er Cru Santenots du Milieu 2016  \n",
       "767                               Domaine des Comtes Lafon Volnay 1er Cru Champans 2016  \n",
       "708       Wemyss Malts Single Cask Scotch Whisky Choc 'n' Nut Pretzel 2001 Bunnahabhain  \n",
       "615                   Domaine Weinbach Gewurztraminer Grand Cru Furstentum SGN 2010 1/2  \n",
       "293                                      Champagne Egly-Ouriet Grand Cru Blanc de Noirs  \n",
       "752                                              Champagne Gosset Célébris Vintage 2007  \n",
       "478                                 Domaine Des Croix Corton Charlemagne Grand Cru 2016  \n",
       "313                                Cognac Frapin Château de Fontpinot 1989 20 Ans d'Age  \n",
       "657                                                 Camille Giroud Clos de Vougeot 2016  \n",
       "310                                                                Cognac Frapin VIP XO  \n",
       "692                                  Coteaux Champenois Egly-Ouriet Ambonnay Rouge 2016  \n",
       "525                                      David Duband Charmes-Chambertin Grand Cru 2014  \n",
       "291                                      Champagne Egly-Ouriet Grand Cru Millésimé 2008  "
      ]
     },
     "execution_count": 91,
     "metadata": {},
     "output_type": "execute_result"
    }
   ],
   "source": [
    "#Afficher la liste des produits concernés avec seulement les variables qui nous intéressent\n",
    "price_outlier[['product_id', 'price', 'sku', 'post_title']].sort_values('price')"
   ]
  },
  {
   "cell_type": "markdown",
   "id": "e13e599f",
   "metadata": {
    "hidden": true
   },
   "source": [
    "**Comparaison avec la concurrence**"
   ]
  },
  {
   "cell_type": "markdown",
   "id": "e118fa6d",
   "metadata": {
    "hidden": true
   },
   "source": [
    "- Domaine des Comtes Lafon Volnay : 7  -> fourchette (130 € - 160 €) - **pas un outlier**\n",
    "- Zind-Humbrecht : 2  -> 100 € - **pas un outlier**\n",
    "- Champagne Agrapart & amp : 2  -> fourchette (95 € - 115 €) - **pas un outlier**\n",
    "- Champagne Larmandier-Bernier : 1  -> 120 €  - **pas un outlier**\n",
    "- Tempier Bandol : 1  -> 115 € - **pas un outlier**\n",
    "- Wemyss Malts Single : 3  -> fourchette (99 € - 120 €) - **pas un outlier**\n",
    "- Domaine des Croix Corton : 3  -> fourchette (90 € - 133€) - **pas un outlier**\n",
    "- Cognac Frapin : 3  -> fourchette (120 € - 210 €) - **pas un outlier**\n",
    "- David Duband : 2  -> fourchette (109 € - 217,5 €) - **pas un outlier**\n",
    "- Château de Meursault : 1  -> 127 € - **pas un outlier**\n",
    "- Domaine Clerget : 1  -> 143 € - **pas un outlier**\n",
    "- Domaine Weinbach Gewurztraminer : 1  -> 124,8 € - **pas un outlier**\n",
    "- Egly-Ouriet : 3  -> fourchette (195 € - 380 €) - **pas un outlier**\n",
    "- Champagne Gosset : 1  -> fourchette (115 € - 195 €) - **pas un outlier**\n",
    "- Camille Giroud : 1  ->  180 € - **pas un outlier**"
   ]
  },
  {
   "cell_type": "markdown",
   "id": "36acb85c",
   "metadata": {
    "heading_collapsed": true
   },
   "source": [
    "# <div style=\"border: 1px solid RGB(173,40,59);\" >\n",
    "<h1 style=\"margin: auto; padding: 20px; color: RGB(173,40,59); \">\n",
    "V. Conclusion <a class='anchor' id='V.-conclusion'></a> </h1>"
   ]
  },
  {
   "cell_type": "markdown",
   "id": "b175753e",
   "metadata": {
    "hidden": true
   },
   "source": [
    "Ces 32 produits relevés comme potentiels outliers ne constituent pas des valeurs aberrantes. \n",
    "\n",
    "Après comparaison avec la concurrence, il semble que les prix appliqués soient normaux car il s'agit de vins plus prestigieux que la plupart vendue par Bottleneck. "
   ]
  }
 ],
 "metadata": {
  "hide_input": false,
  "kernelspec": {
   "display_name": "Python 3 (ipykernel)",
   "language": "python",
   "name": "python3"
  },
  "language_info": {
   "codemirror_mode": {
    "name": "ipython",
    "version": 3
   },
   "file_extension": ".py",
   "mimetype": "text/x-python",
   "name": "python",
   "nbconvert_exporter": "python",
   "pygments_lexer": "ipython3",
   "version": "3.11.4"
  }
 },
 "nbformat": 4,
 "nbformat_minor": 5
}
